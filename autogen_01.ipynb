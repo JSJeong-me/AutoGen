{
  "nbformat": 4,
  "nbformat_minor": 0,
  "metadata": {
    "colab": {
      "provenance": [],
      "gpuType": "T4",
      "include_colab_link": true
    },
    "kernelspec": {
      "name": "python3",
      "display_name": "Python 3"
    },
    "language_info": {
      "name": "python"
    },
    "accelerator": "GPU"
  },
  "cells": [
    {
      "cell_type": "markdown",
      "metadata": {
        "id": "view-in-github",
        "colab_type": "text"
      },
      "source": [
        "<a href=\"https://colab.research.google.com/github/JSJeong-me/AutoGen/blob/main/autogen_01.ipynb\" target=\"_parent\"><img src=\"https://colab.research.google.com/assets/colab-badge.svg\" alt=\"Open In Colab\"/></a>"
      ]
    },
    {
      "cell_type": "code",
      "source": [
        "!wget https://github.com/JSJeong-me/AutoGen/raw/main/requirements.txt"
      ],
      "metadata": {
        "id": "BA21FDZnybng"
      },
      "execution_count": null,
      "outputs": []
    },
    {
      "cell_type": "code",
      "source": [
        "!pip install -r requirements.txt"
      ],
      "metadata": {
        "id": "81IabWnPydRQ"
      },
      "execution_count": null,
      "outputs": []
    },
    {
      "cell_type": "code",
      "execution_count": null,
      "metadata": {
        "id": "lW2PEvjqxqTX"
      },
      "outputs": [],
      "source": [
        "# !pip install autogen"
      ]
    },
    {
      "cell_type": "code",
      "source": [
        "!pip install  python-dotenv"
      ],
      "metadata": {
        "id": "5HdcKWqVyBJO"
      },
      "execution_count": null,
      "outputs": []
    },
    {
      "cell_type": "code",
      "source": [
        "!pip install dask[dataframe]"
      ],
      "metadata": {
        "id": "iYB-MPh0nv25"
      },
      "execution_count": null,
      "outputs": []
    },
    {
      "cell_type": "code",
      "source": [
        "!wget https://github.com/JSJeong-me/GPT-Agent/blob/main/autogen/utils.py"
      ],
      "metadata": {
        "id": "WAkm_lr40qqA"
      },
      "execution_count": null,
      "outputs": []
    },
    {
      "cell_type": "markdown",
      "source": [
        "https://drive.google.com/file/d/1XmGvTJnNcCxje2vsKglhWGXauBVibTy_/view?usp=drive_link"
      ],
      "metadata": {
        "id": "HPMauQ3lmoUI"
      }
    },
    {
      "cell_type": "code",
      "source": [
        "!wget --no-check-certificate 'https://docs.google.com/uc?export=download&id=1XmGvTJnNcCxje2vsKglhWGXauBVibTy_'  -O ./.env"
      ],
      "metadata": {
        "id": "LI36Hv7ux_yf"
      },
      "execution_count": null,
      "outputs": []
    },
    {
      "cell_type": "code",
      "source": [
        "# !echo \"OPENAI_API_KEY=\" >> .env\n",
        "!source /content/.env"
      ],
      "metadata": {
        "id": "_SzrxgTXx8IH"
      },
      "execution_count": null,
      "outputs": []
    },
    {
      "cell_type": "code",
      "source": [
        "import os\n",
        "from dotenv import load_dotenv\n",
        "\n",
        "# Load environment variables from .env file\n",
        "load_dotenv()\n",
        "# Access the API key using the variable name defined in the .env file\n",
        "api_key = os.getenv(\"OPENAI_API_KEY\")"
      ],
      "metadata": {
        "id": "9qPwwVE5x0L2"
      },
      "execution_count": null,
      "outputs": []
    },
    {
      "cell_type": "code",
      "source": [
        "import os\n",
        "\n",
        "from autogen import ConversableAgent\n",
        "\n",
        "agent = ConversableAgent(\n",
        "    \"chatbot\",\n",
        "    llm_config={\"config_list\": [{\"model\": \"gpt-4\", \"api_key\": os.environ.get(\"OPENAI_API_KEY\")}]},\n",
        "    code_execution_config=False,  # Turn off code execution, by default it is off.\n",
        "    function_map=None,  # No registered functions, by default it is None.\n",
        "    human_input_mode=\"NEVER\",  # Never ask for human input.\n",
        ")"
      ],
      "metadata": {
        "id": "NRUp2su7xrM_"
      },
      "execution_count": null,
      "outputs": []
    },
    {
      "cell_type": "code",
      "source": [
        "temp_dir = tempfile.TemporaryDirectory()\n",
        "executor = LocalCommandLineCodeExecutor(\n",
        "    timeout=10,  # Timeout for each code execution in seconds.\n",
        "    work_dir=temp_dir.name,  # Use the temporary directory to store the code files.\n",
        ")\n",
        "\n",
        "gpt4_config = {\n",
        "    \"cache_seed\": False,  # change the cache_seed for different trials\n",
        "    \"temperature\": 0,\n",
        "    \"config_list\": config_list,\n",
        "    \"timeout\": 120,\n",
        "}\n",
        "\n",
        "initializer = autogen.UserProxyAgent(\n",
        "    name=\"Init\",\n",
        "    code_execution_config=False,\n",
        ")\n"
      ],
      "metadata": {
        "id": "-e7hH3eInHmH",
        "outputId": "d575b757-35bb-47da-d33b-7886c8dca386",
        "colab": {
          "base_uri": "https://localhost:8080/",
          "height": 220
        }
      },
      "execution_count": 10,
      "outputs": [
        {
          "output_type": "error",
          "ename": "NameError",
          "evalue": "name 'tempfile' is not defined",
          "traceback": [
            "\u001b[0;31m---------------------------------------------------------------------------\u001b[0m",
            "\u001b[0;31mNameError\u001b[0m                                 Traceback (most recent call last)",
            "\u001b[0;32m<ipython-input-10-bd7b4e8fa8c7>\u001b[0m in \u001b[0;36m<cell line: 1>\u001b[0;34m()\u001b[0m\n\u001b[0;32m----> 1\u001b[0;31m \u001b[0mtemp_dir\u001b[0m \u001b[0;34m=\u001b[0m \u001b[0mtempfile\u001b[0m\u001b[0;34m.\u001b[0m\u001b[0mTemporaryDirectory\u001b[0m\u001b[0;34m(\u001b[0m\u001b[0;34m)\u001b[0m\u001b[0;34m\u001b[0m\u001b[0;34m\u001b[0m\u001b[0m\n\u001b[0m\u001b[1;32m      2\u001b[0m executor = LocalCommandLineCodeExecutor(\n\u001b[1;32m      3\u001b[0m     \u001b[0mtimeout\u001b[0m\u001b[0;34m=\u001b[0m\u001b[0;36m10\u001b[0m\u001b[0;34m,\u001b[0m  \u001b[0;31m# Timeout for each code execution in seconds.\u001b[0m\u001b[0;34m\u001b[0m\u001b[0;34m\u001b[0m\u001b[0m\n\u001b[1;32m      4\u001b[0m     \u001b[0mwork_dir\u001b[0m\u001b[0;34m=\u001b[0m\u001b[0mtemp_dir\u001b[0m\u001b[0;34m.\u001b[0m\u001b[0mname\u001b[0m\u001b[0;34m,\u001b[0m  \u001b[0;31m# Use the temporary directory to store the code files.\u001b[0m\u001b[0;34m\u001b[0m\u001b[0;34m\u001b[0m\u001b[0m\n\u001b[1;32m      5\u001b[0m )\n",
            "\u001b[0;31mNameError\u001b[0m: name 'tempfile' is not defined"
          ]
        }
      ]
    }
  ]
}