{
  "nbformat": 4,
  "nbformat_minor": 0,
  "metadata": {
    "colab": {
      "provenance": [],
      "gpuType": "T4"
    },
    "kernelspec": {
      "name": "python3",
      "display_name": "Python 3"
    },
    "language_info": {
      "name": "python"
    },
    "accelerator": "GPU"
  },
  "cells": [
    {
      "cell_type": "code",
      "execution_count": null,
      "metadata": {
        "id": "qHJqMYtwJf90"
      },
      "outputs": [],
      "source": [
        "# Install AgentChat and OpenAI client from Extensions\n",
        "!pip install -U \"autogen-agentchat\" \"autogen-ext[openai]\""
      ]
    },
    {
      "cell_type": "code",
      "source": [
        "from google.colab import userdata\n",
        "import openai\n",
        "import os\n",
        "\n",
        "os.environ[\"OPENAI_API_KEY\"] = userdata.get('OPENAI_API_KEY')\n",
        "openai.api_key  = os.environ[\"OPENAI_API_KEY\"]"
      ],
      "metadata": {
        "id": "6pTAaIYKKJ89"
      },
      "execution_count": 2,
      "outputs": []
    },
    {
      "cell_type": "code",
      "source": [
        "from pathlib import Path\n",
        "\n",
        "from autogen_core import CancellationToken\n",
        "from autogen_core.code_executor import CodeBlock\n",
        "from autogen_ext.code_executors.local import LocalCommandLineCodeExecutor\n",
        "\n",
        "work_dir = Path(\"coding\")\n",
        "work_dir.mkdir(exist_ok=True)\n",
        "\n",
        "local_executor = LocalCommandLineCodeExecutor(work_dir=work_dir)\n",
        "print(\n",
        "    await local_executor.execute_code_blocks(\n",
        "        code_blocks=[\n",
        "            CodeBlock(language=\"python\", code=\"print('Hello, World!')\"),\n",
        "        ],\n",
        "        cancellation_token=CancellationToken(),\n",
        "    )\n",
        ")"
      ],
      "metadata": {
        "id": "8SFdZUTURFke",
        "outputId": "b284a8d0-e6b5-4985-9bcc-f3897d3e4475",
        "colab": {
          "base_uri": "https://localhost:8080/"
        }
      },
      "execution_count": 3,
      "outputs": [
        {
          "output_type": "stream",
          "name": "stdout",
          "text": [
            "CommandLineCodeResult(exit_code=0, output='Hello, World!\\n', code_file='/content/coding/tmp_code_2b33215fadf3c54926d5c4100348afc158dbff4c94b15044e3a7fe804f80ed2d.py')\n"
          ]
        }
      ]
    }
  ]
}