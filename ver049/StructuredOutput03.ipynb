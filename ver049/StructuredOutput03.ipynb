{
  "nbformat": 4,
  "nbformat_minor": 0,
  "metadata": {
    "colab": {
      "provenance": [],
      "gpuType": "T4",
      "authorship_tag": "ABX9TyPbbaGpwWWq3tAwzwxUVSF9",
      "include_colab_link": true
    },
    "kernelspec": {
      "name": "python3",
      "display_name": "Python 3"
    },
    "language_info": {
      "name": "python"
    },
    "accelerator": "GPU"
  },
  "cells": [
    {
      "cell_type": "markdown",
      "metadata": {
        "id": "view-in-github",
        "colab_type": "text"
      },
      "source": [
        "<a href=\"https://colab.research.google.com/github/JSJeong-me/AutoGen/blob/main/ver049/StructuredOutput03.ipynb\" target=\"_parent\"><img src=\"https://colab.research.google.com/assets/colab-badge.svg\" alt=\"Open In Colab\"/></a>"
      ]
    },
    {
      "cell_type": "code",
      "execution_count": null,
      "metadata": {
        "id": "7jWtQtmpGJ2w"
      },
      "outputs": [],
      "source": [
        "!pip install -U \"autogen-agentchat\" \"autogen-ext[openai]\""
      ]
    },
    {
      "cell_type": "code",
      "source": [
        "from google.colab import userdata\n",
        "import openai\n",
        "import os\n",
        "\n",
        "os.environ[\"OPENAI_API_KEY\"] = userdata.get('OPENAI_API_KEY')\n",
        "openai.api_key  = os.environ[\"OPENAI_API_KEY\"]"
      ],
      "metadata": {
        "id": "FvIlE3bBGrbc"
      },
      "execution_count": null,
      "outputs": []
    },
    {
      "cell_type": "code",
      "source": [
        "from autogen_core.tools import FunctionTool\n",
        "\n",
        "\n",
        "# Define a tool using a Python function.\n",
        "async def web_search_func(query: str) -> str:\n",
        "    \"\"\"Find information on the web\"\"\"\n",
        "    return \"AutoGen is a programming framework for building multi-agent applications.\"\n",
        "\n",
        "\n",
        "# This step is automatically performed inside the AssistantAgent if the tool is a Python function.\n",
        "web_search_function_tool = FunctionTool(web_search_func, description=\"Find information on the web\")\n",
        "# The schema is provided to the model during AssistantAgent's on_messages call.\n",
        "web_search_function_tool.schema\n"
      ],
      "metadata": {
        "id": "-7LosAUQO_qm"
      },
      "execution_count": null,
      "outputs": []
    },
    {
      "cell_type": "code",
      "source": [
        "from typing import Literal\n",
        "\n",
        "from pydantic import BaseModel\n",
        "from autogen_agentchat.agents import AssistantAgent\n",
        "from autogen_agentchat.ui import Console\n",
        "\n",
        "\n",
        "# The response format for the agent as a Pydantic base model.\n",
        "class AgentResponse(BaseModel):\n",
        "    thoughts: str\n",
        "    response: Literal[\"happy\", \"sad\", \"neutral\"]\n",
        "\n",
        "\n",
        "# Create an agent that uses the OpenAI GPT-4o model with the custom response format.\n",
        "model_client = OpenAIChatCompletionClient(\n",
        "    model=\"gpt-4o\",\n",
        "    response_format=AgentResponse,  # type: ignore\n",
        ")\n",
        "agent = AssistantAgent(\n",
        "    \"assistant\",\n",
        "    model_client=model_client,\n",
        "    system_message=\"Categorize the input as happy, sad, or neutral following the JSON format.\",\n",
        ")\n",
        "\n",
        "await Console(agent.run_stream(task=\"I am happy.\"))\n"
      ],
      "metadata": {
        "colab": {
          "base_uri": "https://localhost:8080/"
        },
        "id": "e0LuGR2ORxL6",
        "outputId": "8fa88ee1-d386-4e59-fb64-b97b1d98ea12"
      },
      "execution_count": 16,
      "outputs": [
        {
          "output_type": "stream",
          "name": "stdout",
          "text": [
            "---------- user ----------\n",
            "I am happy.\n",
            "---------- assistant ----------\n",
            "{\"thoughts\":\"The statement \\\"I am happy\\\" directly expresses the user's emotional state, indicating a positive and pleasant mood. The use of \\\"happy\\\" clearly denotes joy and contentment.\",\"response\":\"happy\"}\n"
          ]
        },
        {
          "output_type": "execute_result",
          "data": {
            "text/plain": [
              "TaskResult(messages=[TextMessage(source='user', models_usage=None, metadata={}, content='I am happy.', type='TextMessage'), TextMessage(source='assistant', models_usage=RequestUsage(prompt_tokens=89, completion_tokens=43), metadata={}, content='{\"thoughts\":\"The statement \\\\\"I am happy\\\\\" directly expresses the user\\'s emotional state, indicating a positive and pleasant mood. The use of \\\\\"happy\\\\\" clearly denotes joy and contentment.\",\"response\":\"happy\"}', type='TextMessage')], stop_reason=None)"
            ]
          },
          "metadata": {},
          "execution_count": 16
        }
      ]
    }
  ]
}