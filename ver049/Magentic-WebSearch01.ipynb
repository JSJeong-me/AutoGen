{
  "nbformat": 4,
  "nbformat_minor": 0,
  "metadata": {
    "colab": {
      "provenance": [],
      "gpuType": "T4",
      "authorship_tag": "ABX9TyM0QbsT28ghMfCfsHV6QVbQ",
      "include_colab_link": true
    },
    "kernelspec": {
      "name": "python3",
      "display_name": "Python 3"
    },
    "language_info": {
      "name": "python"
    },
    "accelerator": "GPU"
  },
  "cells": [
    {
      "cell_type": "markdown",
      "metadata": {
        "id": "view-in-github",
        "colab_type": "text"
      },
      "source": [
        "<a href=\"https://colab.research.google.com/github/JSJeong-me/AutoGen/blob/main/ver049/Magentic-WebSearch01.ipynb\" target=\"_parent\"><img src=\"https://colab.research.google.com/assets/colab-badge.svg\" alt=\"Open In Colab\"/></a>"
      ]
    },
    {
      "cell_type": "code",
      "execution_count": null,
      "metadata": {
        "id": "7jWtQtmpGJ2w"
      },
      "outputs": [],
      "source": [
        "!pip install -U \"autogen-agentchat\" \"autogen-ext[openai]\""
      ]
    },
    {
      "cell_type": "code",
      "source": [
        "!pip install interfaceagent"
      ],
      "metadata": {
        "id": "WOZcsCkk-OoP"
      },
      "execution_count": null,
      "outputs": []
    },
    {
      "cell_type": "code",
      "source": [
        "!playwright install"
      ],
      "metadata": {
        "colab": {
          "base_uri": "https://localhost:8080/"
        },
        "id": "7WJ8FWIA7YG2",
        "outputId": "72045ea4-a1b5-4779-83ec-2f5f21c9e01d"
      },
      "execution_count": null,
      "outputs": [
        {
          "output_type": "stream",
          "name": "stdout",
          "text": [
            "Downloading Chromium 134.0.6998.35 (playwright build v1161)\u001b[2m from https://cdn.playwright.dev/dbazure/download/playwright/builds/chromium/1161/chromium-linux.zip\u001b[22m\n",
            "\u001b[1G164.9 MiB [] 0% 0.0s\u001b[0K\u001b[1G164.9 MiB [] 0% 43.1s\u001b[0K\u001b[1G164.9 MiB [] 0% 24.7s\u001b[0K\u001b[1G164.9 MiB [] 0% 16.7s\u001b[0K\u001b[1G164.9 MiB [] 0% 12.0s\u001b[0K\u001b[1G164.9 MiB [] 0% 11.1s\u001b[0K\u001b[1G164.9 MiB [] 0% 10.4s\u001b[0K\u001b[1G164.9 MiB [] 1% 9.5s\u001b[0K\u001b[1G164.9 MiB [] 1% 7.4s\u001b[0K\u001b[1G164.9 MiB [] 2% 6.6s\u001b[0K\u001b[1G164.9 MiB [] 2% 6.0s\u001b[0K\u001b[1G164.9 MiB [] 3% 5.6s\u001b[0K\u001b[1G164.9 MiB [] 3% 4.9s\u001b[0K\u001b[1G164.9 MiB [] 4% 4.6s\u001b[0K\u001b[1G164.9 MiB [] 5% 4.2s\u001b[0K\u001b[1G164.9 MiB [] 5% 4.0s\u001b[0K\u001b[1G164.9 MiB [] 6% 3.9s\u001b[0K\u001b[1G164.9 MiB [] 6% 4.0s\u001b[0K\u001b[1G164.9 MiB [] 6% 4.1s\u001b[0K\u001b[1G164.9 MiB [] 7% 4.1s\u001b[0K\u001b[1G164.9 MiB [] 7% 3.9s\u001b[0K\u001b[1G164.9 MiB [] 8% 3.8s\u001b[0K\u001b[1G164.9 MiB [] 9% 3.6s\u001b[0K\u001b[1G164.9 MiB [] 9% 3.5s\u001b[0K\u001b[1G164.9 MiB [] 10% 3.4s\u001b[0K\u001b[1G164.9 MiB [] 11% 3.4s\u001b[0K\u001b[1G164.9 MiB [] 12% 3.4s\u001b[0K\u001b[1G164.9 MiB [] 12% 3.5s\u001b[0K\u001b[1G164.9 MiB [] 13% 3.4s\u001b[0K\u001b[1G164.9 MiB [] 13% 3.5s\u001b[0K\u001b[1G164.9 MiB [] 15% 3.1s\u001b[0K\u001b[1G164.9 MiB [] 16% 3.0s\u001b[0K\u001b[1G164.9 MiB [] 17% 3.1s\u001b[0K\u001b[1G164.9 MiB [] 17% 3.0s\u001b[0K\u001b[1G164.9 MiB [] 18% 3.0s\u001b[0K\u001b[1G164.9 MiB [] 18% 2.9s\u001b[0K\u001b[1G164.9 MiB [] 19% 2.9s\u001b[0K\u001b[1G164.9 MiB [] 20% 2.8s\u001b[0K\u001b[1G164.9 MiB [] 21% 2.8s\u001b[0K\u001b[1G164.9 MiB [] 22% 2.7s\u001b[0K\u001b[1G164.9 MiB [] 22% 2.6s\u001b[0K\u001b[1G164.9 MiB [] 23% 2.7s\u001b[0K\u001b[1G164.9 MiB [] 24% 2.6s\u001b[0K\u001b[1G164.9 MiB [] 25% 2.5s\u001b[0K\u001b[1G164.9 MiB [] 27% 2.4s\u001b[0K\u001b[1G164.9 MiB [] 28% 2.3s\u001b[0K\u001b[1G164.9 MiB [] 29% 2.3s\u001b[0K\u001b[1G164.9 MiB [] 30% 2.2s\u001b[0K\u001b[1G164.9 MiB [] 31% 2.1s\u001b[0K\u001b[1G164.9 MiB [] 32% 2.1s\u001b[0K\u001b[1G164.9 MiB [] 33% 2.1s\u001b[0K\u001b[1G164.9 MiB [] 34% 2.0s\u001b[0K\u001b[1G164.9 MiB [] 35% 2.0s\u001b[0K\u001b[1G164.9 MiB [] 36% 1.9s\u001b[0K\u001b[1G164.9 MiB [] 38% 1.8s\u001b[0K\u001b[1G164.9 MiB [] 39% 1.8s\u001b[0K\u001b[1G164.9 MiB [] 40% 1.8s\u001b[0K\u001b[1G164.9 MiB [] 41% 1.7s\u001b[0K\u001b[1G164.9 MiB [] 42% 1.7s\u001b[0K\u001b[1G164.9 MiB [] 43% 1.6s\u001b[0K\u001b[1G164.9 MiB [] 44% 1.6s\u001b[0K\u001b[1G164.9 MiB [] 45% 1.6s\u001b[0K\u001b[1G164.9 MiB [] 46% 1.5s\u001b[0K\u001b[1G164.9 MiB [] 47% 1.5s\u001b[0K\u001b[1G164.9 MiB [] 48% 1.5s\u001b[0K\u001b[1G164.9 MiB [] 49% 1.4s\u001b[0K\u001b[1G164.9 MiB [] 50% 1.4s\u001b[0K\u001b[1G164.9 MiB [] 51% 1.4s\u001b[0K\u001b[1G164.9 MiB [] 52% 1.4s\u001b[0K\u001b[1G164.9 MiB [] 52% 1.3s\u001b[0K\u001b[1G164.9 MiB [] 53% 1.3s\u001b[0K\u001b[1G164.9 MiB [] 54% 1.3s\u001b[0K\u001b[1G164.9 MiB [] 55% 1.3s\u001b[0K\u001b[1G164.9 MiB [] 56% 1.3s\u001b[0K\u001b[1G164.9 MiB [] 57% 1.2s\u001b[0K\u001b[1G164.9 MiB [] 58% 1.2s\u001b[0K\u001b[1G164.9 MiB [] 59% 1.2s\u001b[0K\u001b[1G164.9 MiB [] 60% 1.2s\u001b[0K\u001b[1G164.9 MiB [] 61% 1.2s\u001b[0K\u001b[1G164.9 MiB [] 61% 1.1s\u001b[0K\u001b[1G164.9 MiB [] 62% 1.1s\u001b[0K\u001b[1G164.9 MiB [] 63% 1.1s\u001b[0K\u001b[1G164.9 MiB [] 64% 1.1s\u001b[0K\u001b[1G164.9 MiB [] 65% 1.1s\u001b[0K\u001b[1G164.9 MiB [] 65% 1.0s\u001b[0K\u001b[1G164.9 MiB [] 66% 1.0s\u001b[0K\u001b[1G164.9 MiB [] 67% 1.0s\u001b[0K\u001b[1G164.9 MiB [] 68% 1.0s\u001b[0K\u001b[1G164.9 MiB [] 69% 1.0s\u001b[0K\u001b[1G164.9 MiB [] 69% 0.9s\u001b[0K\u001b[1G164.9 MiB [] 69% 1.0s\u001b[0K\u001b[1G164.9 MiB [] 70% 1.0s\u001b[0K\u001b[1G164.9 MiB [] 70% 0.9s\u001b[0K\u001b[1G164.9 MiB [] 71% 0.9s\u001b[0K\u001b[1G164.9 MiB [] 72% 0.9s\u001b[0K\u001b[1G164.9 MiB [] 73% 0.9s\u001b[0K\u001b[1G164.9 MiB [] 74% 0.8s\u001b[0K\u001b[1G164.9 MiB [] 75% 0.8s\u001b[0K\u001b[1G164.9 MiB [] 76% 0.8s\u001b[0K\u001b[1G164.9 MiB [] 77% 0.7s\u001b[0K\u001b[1G164.9 MiB [] 78% 0.7s\u001b[0K\u001b[1G164.9 MiB [] 79% 0.7s\u001b[0K\u001b[1G164.9 MiB [] 80% 0.7s\u001b[0K\u001b[1G164.9 MiB [] 80% 0.6s\u001b[0K\u001b[1G164.9 MiB [] 81% 0.6s\u001b[0K\u001b[1G164.9 MiB [] 82% 0.6s\u001b[0K\u001b[1G164.9 MiB [] 83% 0.6s\u001b[0K\u001b[1G164.9 MiB [] 83% 0.5s\u001b[0K\u001b[1G164.9 MiB [] 84% 0.5s\u001b[0K\u001b[1G164.9 MiB [] 85% 0.5s\u001b[0K\u001b[1G164.9 MiB [] 86% 0.5s\u001b[0K\u001b[1G164.9 MiB [] 87% 0.4s\u001b[0K\u001b[1G164.9 MiB [] 88% 0.4s\u001b[0K\u001b[1G164.9 MiB [] 89% 0.4s\u001b[0K\u001b[1G164.9 MiB [] 90% 0.3s\u001b[0K\u001b[1G164.9 MiB [] 91% 0.3s\u001b[0K\u001b[1G164.9 MiB [] 92% 0.3s\u001b[0K\u001b[1G164.9 MiB [] 92% 0.2s\u001b[0K\u001b[1G164.9 MiB [] 93% 0.2s\u001b[0K\u001b[1G164.9 MiB [] 94% 0.2s\u001b[0K\u001b[1G164.9 MiB [] 95% 0.2s\u001b[0K\u001b[1G164.9 MiB [] 96% 0.1s\u001b[0K\u001b[1G164.9 MiB [] 97% 0.1s\u001b[0K\u001b[1G164.9 MiB [] 98% 0.1s\u001b[0K\u001b[1G164.9 MiB [] 99% 0.0s\u001b[0K\u001b[1G164.9 MiB [] 100% 0.0s\u001b[0K\n",
            "Chromium 134.0.6998.35 (playwright build v1161) downloaded to /root/.cache/ms-playwright/chromium-1161\n",
            "Downloading Chromium Headless Shell 134.0.6998.35 (playwright build v1161)\u001b[2m from https://cdn.playwright.dev/dbazure/download/playwright/builds/chromium/1161/chromium-headless-shell-linux.zip\u001b[22m\n",
            "\u001b[1G100.9 MiB [] 0% 0.0s\u001b[0K\u001b[1G100.9 MiB [] 0% 18.5s\u001b[0K\u001b[1G100.9 MiB [] 0% 10.7s\u001b[0K\u001b[1G100.9 MiB [] 0% 7.6s\u001b[0K\u001b[1G100.9 MiB [] 1% 4.4s\u001b[0K\u001b[1G100.9 MiB [] 2% 4.5s\u001b[0K\u001b[1G100.9 MiB [] 2% 3.6s\u001b[0K\u001b[1G100.9 MiB [] 4% 2.8s\u001b[0K\u001b[1G100.9 MiB [] 5% 2.3s\u001b[0K\u001b[1G100.9 MiB [] 6% 2.3s\u001b[0K\u001b[1G100.9 MiB [] 8% 1.9s\u001b[0K\u001b[1G100.9 MiB [] 10% 1.7s\u001b[0K\u001b[1G100.9 MiB [] 12% 1.6s\u001b[0K\u001b[1G100.9 MiB [] 13% 1.5s\u001b[0K\u001b[1G100.9 MiB [] 15% 1.4s\u001b[0K\u001b[1G100.9 MiB [] 17% 1.3s\u001b[0K\u001b[1G100.9 MiB [] 18% 1.3s\u001b[0K\u001b[1G100.9 MiB [] 20% 1.2s\u001b[0K\u001b[1G100.9 MiB [] 22% 1.1s\u001b[0K\u001b[1G100.9 MiB [] 24% 1.0s\u001b[0K\u001b[1G100.9 MiB [] 25% 1.0s\u001b[0K\u001b[1G100.9 MiB [] 26% 1.0s\u001b[0K\u001b[1G100.9 MiB [] 28% 1.0s\u001b[0K\u001b[1G100.9 MiB [] 30% 0.9s\u001b[0K\u001b[1G100.9 MiB [] 31% 0.9s\u001b[0K\u001b[1G100.9 MiB [] 32% 0.9s\u001b[0K\u001b[1G100.9 MiB [] 34% 0.9s\u001b[0K\u001b[1G100.9 MiB [] 35% 0.8s\u001b[0K\u001b[1G100.9 MiB [] 36% 0.8s\u001b[0K\u001b[1G100.9 MiB [] 37% 0.8s\u001b[0K\u001b[1G100.9 MiB [] 39% 0.8s\u001b[0K\u001b[1G100.9 MiB [] 41% 0.8s\u001b[0K\u001b[1G100.9 MiB [] 44% 0.7s\u001b[0K\u001b[1G100.9 MiB [] 46% 0.6s\u001b[0K\u001b[1G100.9 MiB [] 48% 0.6s\u001b[0K\u001b[1G100.9 MiB [] 49% 0.6s\u001b[0K\u001b[1G100.9 MiB [] 51% 0.6s\u001b[0K\u001b[1G100.9 MiB [] 53% 0.5s\u001b[0K\u001b[1G100.9 MiB [] 56% 0.5s\u001b[0K\u001b[1G100.9 MiB [] 59% 0.5s\u001b[0K\u001b[1G100.9 MiB [] 61% 0.4s\u001b[0K\u001b[1G100.9 MiB [] 63% 0.4s\u001b[0K\u001b[1G100.9 MiB [] 66% 0.4s\u001b[0K\u001b[1G100.9 MiB [] 68% 0.3s\u001b[0K\u001b[1G100.9 MiB [] 71% 0.3s\u001b[0K\u001b[1G100.9 MiB [] 73% 0.3s\u001b[0K\u001b[1G100.9 MiB [] 76% 0.2s\u001b[0K\u001b[1G100.9 MiB [] 79% 0.2s\u001b[0K\u001b[1G100.9 MiB [] 82% 0.2s\u001b[0K\u001b[1G100.9 MiB [] 84% 0.2s\u001b[0K\u001b[1G100.9 MiB [] 87% 0.1s\u001b[0K\u001b[1G100.9 MiB [] 90% 0.1s\u001b[0K\u001b[1G100.9 MiB [] 91% 0.1s\u001b[0K\u001b[1G100.9 MiB [] 93% 0.1s\u001b[0K\u001b[1G100.9 MiB [] 95% 0.0s\u001b[0K\u001b[1G100.9 MiB [] 97% 0.0s\u001b[0K\u001b[1G100.9 MiB [] 100% 0.0s\u001b[0K\n",
            "Chromium Headless Shell 134.0.6998.35 (playwright build v1161) downloaded to /root/.cache/ms-playwright/chromium_headless_shell-1161\n",
            "Downloading Firefox 135.0 (playwright build v1475)\u001b[2m from https://cdn.playwright.dev/dbazure/download/playwright/builds/firefox/1475/firefox-ubuntu-22.04.zip\u001b[22m\n",
            "\u001b[1G90.6 MiB [] 0% 0.0s\u001b[0K\u001b[1G90.6 MiB [] 0% 27.8s\u001b[0K\u001b[1G90.6 MiB [] 0% 14.3s\u001b[0K\u001b[1G90.6 MiB [] 0% 8.8s\u001b[0K\u001b[1G90.6 MiB [] 1% 4.8s\u001b[0K\u001b[1G90.6 MiB [] 2% 2.7s\u001b[0K\u001b[1G90.6 MiB [] 4% 2.0s\u001b[0K\u001b[1G90.6 MiB [] 6% 1.6s\u001b[0K\u001b[1G90.6 MiB [] 8% 1.4s\u001b[0K\u001b[1G90.6 MiB [] 10% 1.2s\u001b[0K\u001b[1G90.6 MiB [] 11% 1.2s\u001b[0K\u001b[1G90.6 MiB [] 13% 1.2s\u001b[0K\u001b[1G90.6 MiB [] 15% 1.1s\u001b[0K\u001b[1G90.6 MiB [] 16% 1.1s\u001b[0K\u001b[1G90.6 MiB [] 18% 1.0s\u001b[0K\u001b[1G90.6 MiB [] 20% 1.0s\u001b[0K\u001b[1G90.6 MiB [] 21% 1.0s\u001b[0K\u001b[1G90.6 MiB [] 23% 0.9s\u001b[0K\u001b[1G90.6 MiB [] 25% 0.9s\u001b[0K\u001b[1G90.6 MiB [] 28% 0.8s\u001b[0K\u001b[1G90.6 MiB [] 29% 0.8s\u001b[0K\u001b[1G90.6 MiB [] 30% 0.8s\u001b[0K\u001b[1G90.6 MiB [] 33% 0.7s\u001b[0K\u001b[1G90.6 MiB [] 34% 0.7s\u001b[0K\u001b[1G90.6 MiB [] 36% 0.7s\u001b[0K\u001b[1G90.6 MiB [] 37% 0.7s\u001b[0K\u001b[1G90.6 MiB [] 39% 0.7s\u001b[0K\u001b[1G90.6 MiB [] 41% 0.6s\u001b[0K\u001b[1G90.6 MiB [] 41% 0.7s\u001b[0K\u001b[1G90.6 MiB [] 42% 0.7s\u001b[0K\u001b[1G90.6 MiB [] 44% 0.6s\u001b[0K\u001b[1G90.6 MiB [] 45% 0.6s\u001b[0K\u001b[1G90.6 MiB [] 47% 0.6s\u001b[0K\u001b[1G90.6 MiB [] 49% 0.6s\u001b[0K\u001b[1G90.6 MiB [] 51% 0.5s\u001b[0K\u001b[1G90.6 MiB [] 53% 0.5s\u001b[0K\u001b[1G90.6 MiB [] 56% 0.5s\u001b[0K\u001b[1G90.6 MiB [] 58% 0.4s\u001b[0K\u001b[1G90.6 MiB [] 58% 0.5s\u001b[0K\u001b[1G90.6 MiB [] 59% 0.4s\u001b[0K\u001b[1G90.6 MiB [] 61% 0.4s\u001b[0K\u001b[1G90.6 MiB [] 64% 0.4s\u001b[0K\u001b[1G90.6 MiB [] 65% 0.4s\u001b[0K\u001b[1G90.6 MiB [] 67% 0.4s\u001b[0K\u001b[1G90.6 MiB [] 68% 0.3s\u001b[0K\u001b[1G90.6 MiB [] 69% 0.3s\u001b[0K\u001b[1G90.6 MiB [] 72% 0.3s\u001b[0K\u001b[1G90.6 MiB [] 74% 0.3s\u001b[0K\u001b[1G90.6 MiB [] 76% 0.2s\u001b[0K\u001b[1G90.6 MiB [] 78% 0.2s\u001b[0K\u001b[1G90.6 MiB [] 80% 0.2s\u001b[0K\u001b[1G90.6 MiB [] 82% 0.2s\u001b[0K\u001b[1G90.6 MiB [] 84% 0.2s\u001b[0K\u001b[1G90.6 MiB [] 86% 0.1s\u001b[0K\u001b[1G90.6 MiB [] 88% 0.1s\u001b[0K\u001b[1G90.6 MiB [] 91% 0.1s\u001b[0K\u001b[1G90.6 MiB [] 92% 0.1s\u001b[0K\u001b[1G90.6 MiB [] 94% 0.1s\u001b[0K\u001b[1G90.6 MiB [] 96% 0.0s\u001b[0K\u001b[1G90.6 MiB [] 99% 0.0s\u001b[0K\u001b[1G90.6 MiB [] 100% 0.0s\u001b[0K\n",
            "Firefox 135.0 (playwright build v1475) downloaded to /root/.cache/ms-playwright/firefox-1475\n",
            "Downloading Webkit 18.4 (playwright build v2140)\u001b[2m from https://cdn.playwright.dev/dbazure/download/playwright/builds/webkit/2140/webkit-ubuntu-22.04.zip\u001b[22m\n",
            "\u001b[1G92.3 MiB [] 0% 0.0s\u001b[0K\u001b[1G92.3 MiB [] 0% 24.1s\u001b[0K\u001b[1G92.3 MiB [] 0% 284.8s\u001b[0K\u001b[1G92.3 MiB [] 1% 14.5s\u001b[0K\u001b[1G92.3 MiB [] 2% 9.0s\u001b[0K\u001b[1G92.3 MiB [] 4% 6.3s\u001b[0K\u001b[1G92.3 MiB [] 5% 4.6s\u001b[0K\u001b[1G92.3 MiB [] 8% 3.3s\u001b[0K\u001b[1G92.3 MiB [] 10% 2.7s\u001b[0K\u001b[1G92.3 MiB [] 11% 2.6s\u001b[0K\u001b[1G92.3 MiB [] 12% 2.4s\u001b[0K\u001b[1G92.3 MiB [] 14% 2.1s\u001b[0K\u001b[1G92.3 MiB [] 17% 1.9s\u001b[0K\u001b[1G92.3 MiB [] 18% 1.8s\u001b[0K\u001b[1G92.3 MiB [] 20% 1.6s\u001b[0K\u001b[1G92.3 MiB [] 22% 1.5s\u001b[0K\u001b[1G92.3 MiB [] 25% 1.3s\u001b[0K\u001b[1G92.3 MiB [] 27% 1.2s\u001b[0K\u001b[1G92.3 MiB [] 30% 1.1s\u001b[0K\u001b[1G92.3 MiB [] 33% 1.0s\u001b[0K\u001b[1G92.3 MiB [] 35% 0.9s\u001b[0K\u001b[1G92.3 MiB [] 38% 0.9s\u001b[0K\u001b[1G92.3 MiB [] 40% 0.8s\u001b[0K\u001b[1G92.3 MiB [] 42% 0.8s\u001b[0K\u001b[1G92.3 MiB [] 45% 0.7s\u001b[0K\u001b[1G92.3 MiB [] 49% 0.6s\u001b[0K\u001b[1G92.3 MiB [] 52% 0.6s\u001b[0K\u001b[1G92.3 MiB [] 55% 0.5s\u001b[0K\u001b[1G92.3 MiB [] 56% 0.5s\u001b[0K\u001b[1G92.3 MiB [] 58% 0.5s\u001b[0K\u001b[1G92.3 MiB [] 60% 0.5s\u001b[0K\u001b[1G92.3 MiB [] 63% 0.4s\u001b[0K\u001b[1G92.3 MiB [] 66% 0.4s\u001b[0K\u001b[1G92.3 MiB [] 69% 0.3s\u001b[0K\u001b[1G92.3 MiB [] 72% 0.3s\u001b[0K\u001b[1G92.3 MiB [] 76% 0.2s\u001b[0K\u001b[1G92.3 MiB [] 77% 0.2s\u001b[0K\u001b[1G92.3 MiB [] 80% 0.2s\u001b[0K\u001b[1G92.3 MiB [] 83% 0.2s\u001b[0K\u001b[1G92.3 MiB [] 84% 0.2s\u001b[0K\u001b[1G92.3 MiB [] 87% 0.1s\u001b[0K\u001b[1G92.3 MiB [] 89% 0.1s\u001b[0K\u001b[1G92.3 MiB [] 91% 0.1s\u001b[0K\u001b[1G92.3 MiB [] 92% 0.1s\u001b[0K\u001b[1G92.3 MiB [] 93% 0.1s\u001b[0K\u001b[1G92.3 MiB [] 94% 0.1s\u001b[0K\u001b[1G92.3 MiB [] 95% 0.1s\u001b[0K\u001b[1G92.3 MiB [] 96% 0.0s\u001b[0K\u001b[1G92.3 MiB [] 97% 0.0s\u001b[0K\u001b[1G92.3 MiB [] 98% 0.0s\u001b[0K\u001b[1G92.3 MiB [] 100% 0.0s\u001b[0K\n",
            "Webkit 18.4 (playwright build v2140) downloaded to /root/.cache/ms-playwright/webkit-2140\n",
            "Downloading FFMPEG playwright build v1011\u001b[2m from https://cdn.playwright.dev/dbazure/download/playwright/builds/ffmpeg/1011/ffmpeg-linux.zip\u001b[22m\n",
            "\u001b[1G2.3 MiB [] 0% 0.0s\u001b[0K\u001b[1G2.3 MiB [] 2% 0.7s\u001b[0K\u001b[1G2.3 MiB [] 10% 0.3s\u001b[0K\u001b[1G2.3 MiB [] 24% 0.2s\u001b[0K\u001b[1G2.3 MiB [] 70% 0.0s\u001b[0K\u001b[1G2.3 MiB [] 100% 0.0s\u001b[0K\n",
            "FFMPEG playwright build v1011 downloaded to /root/.cache/ms-playwright/ffmpeg-1011\n",
            "Playwright Host validation warning: \n",
            "╔══════════════════════════════════════════════════════╗\n",
            "║ Host system is missing dependencies to run browsers. ║\n",
            "║ Missing libraries:                                   ║\n",
            "║     libwoff2dec.so.1.0.2                             ║\n",
            "║     libgstgl-1.0.so.0                                ║\n",
            "║     libgstcodecparsers-1.0.so.0                      ║\n",
            "║     libavif.so.13                                    ║\n",
            "║     libharfbuzz-icu.so.0                             ║\n",
            "║     libenchant-2.so.2                                ║\n",
            "║     libsecret-1.so.0                                 ║\n",
            "║     libhyphen.so.0                                   ║\n",
            "║     libmanette-0.2.so.0                              ║\n",
            "╚══════════════════════════════════════════════════════╝\n",
            "    at validateDependenciesLinux (/usr/local/lib/python3.11/dist-packages/playwright/driver/package/lib/server/registry/dependencies.js:216:9)\n",
            "\u001b[90m    at process.processTicksAndRejections (node:internal/process/task_queues:105:5)\u001b[39m\n",
            "    at async Registry._validateHostRequirements (/usr/local/lib/python3.11/dist-packages/playwright/driver/package/lib/server/registry/index.js:859:52)\n",
            "    at async Registry._validateHostRequirementsForExecutableIfNeeded (/usr/local/lib/python3.11/dist-packages/playwright/driver/package/lib/server/registry/index.js:957:7)\n",
            "    at async Registry.validateHostRequirementsForExecutablesIfNeeded (/usr/local/lib/python3.11/dist-packages/playwright/driver/package/lib/server/registry/index.js:946:43)\n",
            "    at async t.<anonymous> (/usr/local/lib/python3.11/dist-packages/playwright/driver/package/lib/cli/program.js:122:7)\n"
          ]
        }
      ]
    },
    {
      "cell_type": "code",
      "source": [
        "from google.colab import userdata\n",
        "import openai\n",
        "import os\n",
        "\n",
        "os.environ[\"OPENAI_API_KEY\"] = userdata.get('OPENAI_API_KEY')\n",
        "openai.api_key  = os.environ[\"OPENAI_API_KEY\"]"
      ],
      "metadata": {
        "id": "FvIlE3bBGrbc"
      },
      "execution_count": null,
      "outputs": []
    },
    {
      "cell_type": "code",
      "source": [
        "import asyncio\n",
        "from autogen_ext.models.openai import OpenAIChatCompletionClient\n",
        "from autogen_agentchat.teams import MagenticOneGroupChat\n",
        "from autogen_agentchat.ui import Console\n",
        "from autogen_ext.agents.web_surfer import MultimodalWebSurfer\n",
        "# from autogen_ext.agents.file_surfer import FileSurfer\n",
        "# from autogen_ext.agents.magentic_one import MagenticOneCoderAgent\n",
        "# from autogen_agentchat.agents import CodeExecutorAgent\n",
        "# from autogen_ext.code_executors.local import LocalCommandLineCodeExecutor\n",
        "\n",
        "async def main() -> None:\n",
        "    model_client = OpenAIChatCompletionClient(model=\"gpt-4o\")\n",
        "\n",
        "    surfer = MultimodalWebSurfer(\n",
        "        \"WebSurfer\",\n",
        "        model_client=model_client,\n",
        "    )\n",
        "\n",
        "    team = MagenticOneGroupChat([surfer], model_client=model_client)\n",
        "    # await Console(team.run_stream(task=\"What is the UV index in Melbourne today?\"))\n",
        "    await Console(team.run_stream(task=\"the Australian Bureau of Meteorology or Weather.com for up-to-date information. You can also use apps like MyUV, which provide ongoing updates about the UV index, ensuring you stay informed and protected while outdoors.\"))\n",
        "\n",
        "    # the Australian Bureau of Meteorology or Weather.com for up-to-date information. You can also use apps like MyUV, which provide ongoing updates about the UV index, ensuring you stay informed and protected while outdoors.\n",
        "\n",
        "    # # Note: you can also use  other agents in the team\n",
        "    # team = MagenticOneGroupChat([surfer, file_surfer, coder, terminal], model_client=model_client)\n",
        "    # file_surfer = FileSurfer( \"FileSurfer\",model_client=model_client)\n",
        "    # coder = MagenticOneCoderAgent(\"Coder\",model_client=model_client)\n",
        "    # terminal = CodeExecutorAgent(\"ComputerTerminal\",code_executor=LocalCommandLineCodeExecutor())\n",
        "\n",
        "\n",
        "# asyncio.run(main())\n"
      ],
      "metadata": {
        "id": "4kWo1pSi7O5_"
      },
      "execution_count": null,
      "outputs": []
    },
    {
      "cell_type": "code",
      "source": [
        "# Instead of asyncio.run(main()), directly await the main function\n",
        "await main()"
      ],
      "metadata": {
        "colab": {
          "base_uri": "https://localhost:8080/"
        },
        "id": "l7RXnDtZ7l5r",
        "outputId": "ed6ea17b-722b-41bb-bf97-5aa612655a02"
      },
      "execution_count": null,
      "outputs": [
        {
          "output_type": "stream",
          "name": "stdout",
          "text": [
            "---------- user ----------\n",
            "the Australian Bureau of Meteorology or Weather.com for up-to-date information. You can also use apps like MyUV, which provide ongoing updates about the UV index, ensuring you stay informed and protected while outdoors.\n",
            "---------- MagenticOneOrchestrator ----------\n",
            "\n",
            "We are working to address the following user request:\n",
            "\n",
            "the Australian Bureau of Meteorology or Weather.com for up-to-date information. You can also use apps like MyUV, which provide ongoing updates about the UV index, ensuring you stay informed and protected while outdoors.\n",
            "\n",
            "\n",
            "To answer this request we have assembled the following team:\n",
            "\n",
            "WebSurfer: A helpful assistant with access to a web browser. Ask them to perform web searches, open pages, and interact with content (e.g., clicking links, scrolling the viewport, filling in form fields, etc.). It can also summarize the entire page, or answer questions based on the content of the page. It can also be asked to sleep and wait for pages to load, in cases where the page seems not yet fully loaded.\n",
            "\n",
            "\n",
            "Here is an initial fact sheet to consider:\n",
            "\n",
            "1. GIVEN OR VERIFIED FACTS\n",
            "   - The request mentions two sources: the Australian Bureau of Meteorology and Weather.com.\n",
            "   - It also references an app called MyUV.\n",
            "\n",
            "2. FACTS TO LOOK UP\n",
            "   - The current UV index for a specific location in Australia.\n",
            "   - The general functionality and features of the MyUV app.\n",
            "   - Any data or updates from the Australian Bureau of Meteorology or Weather.com specific to UV indices.\n",
            "\n",
            "3. FACTS TO DERIVE\n",
            "   - Whether the areas mentioned typically have high UV index readings, based on geographical location and time of year.\n",
            "\n",
            "4. EDUCATED GUESSES\n",
            "   - The time of year might influence UV index levels, with higher levels typically found during summer months.\n",
            "   - Australia is known for having high UV index levels compared to many other regions.\n",
            "\n",
            "\n",
            "Here is the plan to follow as best as possible:\n",
            "\n",
            "- **Check the Australian Bureau of Meteorology:**\n",
            "  - Ask WebSurfer to visit the Australian Bureau of Meteorology website to find up-to-date information on the UV index for a specific location if provided.\n",
            "  \n",
            "- **Visit Weather.com:**\n",
            "  - Instruct WebSurfer to explore Weather.com to see if there is any relevant and current information about the UV index.\n",
            "  \n",
            "- **Research MyUV App:**\n",
            "  - Ask WebSurfer to find and summarize information about the MyUV app, including its functionality and how it helps users stay informed about the UV index.\n",
            "\n",
            "- **Conclude the Request:**\n",
            "  - Based on the information gathered from these sources, summarize the current UV index or provide guidance on how to access live UV index information for a specified location.\n",
            "\n",
            "---------- MagenticOneOrchestrator ----------\n",
            "Please visit the Australian Bureau of Meteorology website to look for the current UV index information for a specific location. If a location is not specified, choose a major city like Sydney or Melbourne as a reference.\n",
            "---------- WebSurfer ----------\n",
            "I typed 'Australian Bureau of Meteorology UV index Sydney' into the browser search bar.\n",
            "\n",
            "The web browser is open to the page [Australian Bureau of Meteorology UV index Sydney - Search](https://www.bing.com/search?q=Australian+Bureau+of+Meteorology+UV+index+Sydney&FORM=QBLH).\n",
            "The viewport shows 28% of the webpage, and is positioned at the top of the page\n",
            "The following text is visible in the viewport:\n",
            "\n",
            "Skip to content\n",
            "Australian Bureau of Meteorology UV index SydneyDeep search\n",
            "All\n",
            "Copilot\n",
            "News\n",
            "Images\n",
            "Videos\n",
            "Maps\n",
            "Shopping\n",
            "More\n",
            "Tools\n",
            "Copilot Answer\n",
            "Bureau of Meteorology\n",
            "http://www.bom.gov.au › nsw › forecasts › sydney.shtmlSydney Forecast - Bureau of MeteorologySun protection recommended from 9:40 am to 4:20 pm, \n",
            "UV \n",
            "Index predicted to reach 8 [Very High] Shower or two. Partly cloudy. Medium chance of showers, most likely in the morning an…\n",
            "Richmond\n",
            "Richmond - Sydney Forecast - Bureau of Meteorology\n",
            "Liverpool\n",
            "Mostly sunny day. The chance of a shower or thunderstorm early this morni…\n",
            "Parramatta\n",
            "Partly cloudy. High chance of showers, most likely during this afternoon and ev…\n",
            "Bondi\n",
            "Bondi - Sydney Forecast - Bureau of Meteorology\n",
            "Penrith\n",
            "Sydney area. Partly cloudy. Medium chance of showers, most likely in the m…\n",
            "7 Day Town Forecasts\n",
            "Bureau Home > Australia > New South Wales > Forecasts > New South Wales …\n",
            "Sydney - Wikipedia\n",
            "Capital of New South Wales\n",
            "Sydney is the capital city of the state of New South Wales and the most populous city in Australia. Located on Australia's east coast, the metropolis surrounds Sydney Harbour and extends about 80 km from the Pacific Ocean in the east to the Blue Mountains in the w...\n",
            "See more on Wikipedia\n",
            "Sydney - BBC Weather\n",
            "14-day weather forecast for Sydney.\n",
            "BBCSydney climate: weather by month, temperature, rain - Cli…\n",
            "In Sydney, the average temperature of the coldest month (July) is …\n",
            "Climates to TravelSydney, New South WalesUpdated a few minutes ago\n",
            "Share\n",
            "Print\n",
            "Feedback\n",
            "71\n",
            "°F\n",
            "C75°68°\n",
            "Wind: 8 MPH\n",
            "Humidity: 89%\n",
            "Mostly cloudy\n",
            "Sun 23, 4:50 AM\n",
            "5 AM\n",
            "8 AM\n",
            "11 AM\n",
            "2 PM\n",
            "5 PM\n",
            "8 PM\n",
            "11 PM\n",
            "2 AM\n",
            "1 AM\n",
            "4 AM\n",
            "7 AM\n",
            "10 AM\n",
            "1 PM\n",
            "4 PM\n",
            "7 PM\n",
            "10 PM\n",
            "UV index\n",
            "No forecast\n",
            "Gentle breeze\n",
            "8 MPH, S\n",
            "Sunrise\n",
            "07:00 AM\n",
            "Sunset\n",
            "07:03 PM\n",
            "Related searches\n",
            "australian \n",
            "weather uv \n",
            "levelsuv index \n",
            "australiabureau of meteorology uv index\n",
            "\n",
            "The following metadata was extracted from the webpage:\n",
            "\n",
            "{\n",
            "    \"meta_tags\": {\n",
            "        \"referrer\": \"origin-when-cross-origin\",\n",
            "        \"SystemEntropyOriginTrialToken\": \"A5is4nwJJVnhaJpUr1URgj4vvAXSiHoK0VBbM9fawMskbDUj9WUREpa3JzGAo6xd1Cp2voQEG1h6NQ71AsMznU8AAABxeyJvcmlnaW4iOiJodHRwczovL3d3dy5iaW5nLmNvbTo0NDMiLCJmZWF0dXJlIjoiTXNVc2VyQWdlbnRMYXVuY2hOYXZUeXBlIiwiZXhwaXJ5IjoxNzUzNzQ3MjAwLCJpc1N1YmRvbWFpbiI6dHJ1ZX0=\",\n",
            "        \"og:description\": \"Intelligent search from Bing makes it easier to quickly find what you\\u2019re looking for and rewards you.\",\n",
            "        \"og:site_name\": \"Bing\",\n",
            "        \"og:title\": \"Australian Bureau of Meteorology UV index Sydney - Bing\",\n",
            "        \"og:url\": \"https://www.bing.com/search?q=Australian+Bureau+of+Meteorology+UV+index+Sydney&FORM=QBLH\",\n",
            "        \"fb:app_id\": \"3732605936979161\",\n",
            "        \"og:image\": \"http://www.bing.com/sa/simg/facebook_sharing_5.png\",\n",
            "        \"og:type\": \"website\",\n",
            "        \"og:image:width\": \"600\",\n",
            "        \"og:image:height\": \"315\"\n",
            "    }\n",
            "}\n",
            "\n",
            "Here is a screenshot of the page.\n",
            "<image>\n",
            "---------- MagenticOneOrchestrator ----------\n",
            "For up-to-date UV index information in Sydney, the Australian Bureau of Meteorology predicts a UV index reaching 8, which is considered very high. It's recommended to take sun protection measures from 9:40 am to 4:20 pm.\n",
            "\n",
            "Additionally, you can use apps like MyUV for ongoing updates about the UV index to ensure you stay informed and protected while outdoors. For more detailed and real-time weather data, you can visit the Australian Bureau of Meteorology's website or check Weather.com.\n"
          ]
        }
      ]
    }
  ]
}