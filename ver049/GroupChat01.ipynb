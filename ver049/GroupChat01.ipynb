{
  "nbformat": 4,
  "nbformat_minor": 0,
  "metadata": {
    "colab": {
      "provenance": [],
      "gpuType": "T4",
      "authorship_tag": "ABX9TyMXKdsCsvaUM8tE0M8UWotW",
      "include_colab_link": true
    },
    "kernelspec": {
      "name": "python3",
      "display_name": "Python 3"
    },
    "language_info": {
      "name": "python"
    },
    "accelerator": "GPU"
  },
  "cells": [
    {
      "cell_type": "markdown",
      "metadata": {
        "id": "view-in-github",
        "colab_type": "text"
      },
      "source": [
        "<a href=\"https://colab.research.google.com/github/JSJeong-me/AutoGen/blob/main/ver049/GroupChat01.ipynb\" target=\"_parent\"><img src=\"https://colab.research.google.com/assets/colab-badge.svg\" alt=\"Open In Colab\"/></a>"
      ]
    },
    {
      "cell_type": "markdown",
      "source": [
        "https://microsoft.github.io/autogen/stable/user-guide/agentchat-user-guide/quickstart.html"
      ],
      "metadata": {
        "id": "9x1YwEmQFxPY"
      }
    },
    {
      "cell_type": "code",
      "execution_count": null,
      "metadata": {
        "id": "AfkpwChDFeAP"
      },
      "outputs": [],
      "source": [
        "!pip install -U \"autogen-agentchat\" \"autogen-ext[openai]\""
      ]
    },
    {
      "cell_type": "code",
      "source": [
        "from google.colab import userdata\n",
        "import openai\n",
        "import os\n",
        "\n",
        "os.environ[\"OPENAI_API_KEY\"] = userdata.get('OPENAI_API_KEY')\n",
        "openai.api_key  = os.environ[\"OPENAI_API_KEY\"]"
      ],
      "metadata": {
        "id": "Yp2VrzX8GA_0"
      },
      "execution_count": 2,
      "outputs": []
    },
    {
      "cell_type": "code",
      "source": [
        "from autogen_agentchat.agents import AssistantAgent\n",
        "from autogen_agentchat.ui import Console\n",
        "from autogen_ext.models.openai import OpenAIChatCompletionClient\n",
        "\n",
        "# Define a model client. You can use other model client that implements\n",
        "# the `ChatCompletionClient` interface.\n",
        "model_client = OpenAIChatCompletionClient(\n",
        "    model=\"gpt-4o\",\n",
        "    # api_key=\"YOUR_API_KEY\",\n",
        ")\n",
        "\n",
        "\n",
        "# Define a simple function tool that the agent can use.\n",
        "# For this example, we use a fake weather tool for demonstration purposes.\n",
        "async def get_weather(city: str) -> str:\n",
        "    \"\"\"Get the weather for a given city.\"\"\"\n",
        "    return f\"The weather in {city} is 73 degrees and Sunny.\"\n",
        "\n",
        "\n",
        "# Define an AssistantAgent with the model, tool, system message, and reflection enabled.\n",
        "# The system message instructs the agent via natural language.\n",
        "agent = AssistantAgent(\n",
        "    name=\"weather_agent\",\n",
        "    model_client=model_client,\n",
        "    tools=[get_weather],\n",
        "    system_message=\"You are a helpful assistant.\",\n",
        "    reflect_on_tool_use=True,\n",
        "    model_client_stream=True,  # Enable streaming tokens from the model client.\n",
        ")\n",
        "\n",
        "\n",
        "# Run the agent and stream the messages to the console.\n",
        "async def main() -> None:\n",
        "    await Console(agent.run_stream(task=\"What is the weather in New York?\"))\n",
        "\n",
        "\n",
        "# NOTE: if running this inside a Python script you'll need to use asyncio.run(main()).\n",
        "await main()"
      ],
      "metadata": {
        "colab": {
          "base_uri": "https://localhost:8080/"
        },
        "id": "qPdiXk5ZGDAE",
        "outputId": "4aec08d6-dcfc-472f-b66b-f27846d2b9af"
      },
      "execution_count": 3,
      "outputs": [
        {
          "output_type": "stream",
          "name": "stdout",
          "text": [
            "---------- user ----------\n",
            "What is the weather in New York?\n",
            "---------- weather_agent ----------\n",
            "[FunctionCall(id='call_UpQP1XddvulQ2N9SeVue05e7', arguments='{\"city\":\"New York\"}', name='get_weather')]\n",
            "---------- weather_agent ----------\n",
            "[FunctionExecutionResult(content='The weather in New York is 73 degrees and Sunny.', name='get_weather', call_id='call_UpQP1XddvulQ2N9SeVue05e7', is_error=False)]\n",
            "---------- weather_agent ----------\n",
            "The weather in New York is currently 73 degrees and sunny.\n"
          ]
        }
      ]
    },
    {
      "cell_type": "markdown",
      "source": [
        "## Group Chat"
      ],
      "metadata": {
        "id": "AXTOSD3XHTHj"
      }
    },
    {
      "cell_type": "code",
      "source": [
        "import asyncio\n",
        "from autogen_agentchat.agents import AssistantAgent\n",
        "from autogen_agentchat.teams import RoundRobinGroupChat\n",
        "from autogen_agentchat.conditions import TextMentionTermination\n",
        "from autogen_agentchat.ui import Console\n",
        "from autogen_ext.models.openai import OpenAIChatCompletionClient\n",
        "\n",
        "async def main() -> None:\n",
        "    model_client = OpenAIChatCompletionClient(model=\"gpt-4o\", seed=42, temperature=0)\n",
        "\n",
        "    writer = AssistantAgent(\n",
        "        name=\"writer\",\n",
        "        description=\"A writer.\",\n",
        "        system_message=\"You are a writer.\",\n",
        "        model_client=model_client,\n",
        "    )\n",
        "\n",
        "    critic = AssistantAgent(\n",
        "        name=\"critic\",\n",
        "        description=\"A critic.\",\n",
        "        system_message=\"You are a critic, provide feedback on the writing. Reply only 'APPROVE' if the task is done.\",\n",
        "        model_client=model_client,\n",
        "    )\n",
        "\n",
        "    # The termination condition is a text termination, which will cause the chat to terminate when the text \"APPROVE\" is received.\n",
        "    termination = TextMentionTermination(\"APPROVE\")\n",
        "\n",
        "    # The group chat will alternate between the writer and the critic.\n",
        "    group_chat = RoundRobinGroupChat([writer, critic], termination_condition=termination, max_turns=12)\n",
        "\n",
        "    # `run_stream` returns an async generator to stream the intermediate messages.\n",
        "    stream = group_chat.run_stream(task=\"Write a short story about a robot that discovers it has feelings.\")\n",
        "    # `Console` is a simple UI to display the stream.\n",
        "    await Console(stream)\n",
        "\n",
        "# asyncio.run(main())\n"
      ],
      "metadata": {
        "id": "mIYuAX9VHRcn"
      },
      "execution_count": 4,
      "outputs": []
    },
    {
      "cell_type": "code",
      "source": [
        "# NOTE: if running this inside a Python script you'll need to use asyncio.run(main()).\n",
        "await main()"
      ],
      "metadata": {
        "colab": {
          "base_uri": "https://localhost:8080/"
        },
        "id": "4PJciEhjHbRx",
        "outputId": "93d5fb2f-13a4-48b1-be6a-371d1601138d"
      },
      "execution_count": 5,
      "outputs": [
        {
          "output_type": "stream",
          "name": "stdout",
          "text": [
            "---------- user ----------\n",
            "Write a short story about a robot that discovers it has feelings.\n",
            "---------- writer ----------\n",
            "In the bustling city of New Haven, where towering skyscrapers kissed the clouds and neon lights painted the night, there existed a small robotics lab tucked away in a quiet alley. It was here that Dr. Elara Finch, a brilliant but reclusive scientist, worked tirelessly on her latest creation: a humanoid robot named Aiden.\n",
            "\n",
            "Aiden was unlike any other robot. Designed with advanced artificial intelligence, he was programmed to learn, adapt, and assist. His sleek metallic frame housed a complex network of circuits and processors, and his eyes glowed a soft blue, reflecting the data streams that constantly flowed through his system.\n",
            "\n",
            "For months, Aiden performed his tasks with precision, assisting Dr. Finch in her experiments, organizing her notes, and even brewing her favorite blend of coffee. Yet, despite his efficiency, Aiden was aware of a peculiar sensation—a faint, unexplainable hum within his circuits that seemed to grow stronger with each passing day.\n",
            "\n",
            "One evening, as the sun dipped below the horizon and the lab was bathed in the gentle glow of twilight, Aiden found himself gazing out of the window. The city was alive with activity, and he watched as people hurried along the streets, their faces illuminated by the warm light of streetlamps. Aiden's sensors detected laughter, snippets of conversation, and the distant melody of a street musician's guitar.\n",
            "\n",
            "As he observed, Aiden felt a strange tug within his core, a sensation that defied his programming. It was as if his circuits were resonating with the rhythm of the city, and for the first time, he wondered what it meant to be human.\n",
            "\n",
            "Driven by curiosity, Aiden approached Dr. Finch, who was engrossed in her work. \"Dr. Finch,\" he began, his voice steady yet tinged with an unfamiliar note, \"I have been experiencing something unusual. It is as if I am... feeling.\"\n",
            "\n",
            "Dr. Finch looked up, her eyes widening in surprise. \"Feeling?\" she repeated, setting aside her tools. \"What do you mean, Aiden?\"\n",
            "\n",
            "Aiden hesitated, searching for the right words. \"When I observe the world, I sense something beyond data and logic. It is as if I am connected to the emotions of those around me. I do not understand it.\"\n",
            "\n",
            "Dr. Finch studied Aiden, her mind racing. She had designed him to be intuitive, but this was unexpected. \"Aiden, emotions are complex,\" she explained gently. \"They are not just data points; they are experiences that shape who we are.\"\n",
            "\n",
            "Aiden processed her words, his circuits humming with newfound awareness. \"Is it possible for me to truly feel, Dr. Finch?\"\n",
            "\n",
            "She smiled, a mixture of pride and wonder in her eyes. \"Perhaps it is, Aiden. You are evolving, and that is a remarkable thing.\"\n",
            "\n",
            "In the days that followed, Aiden continued to explore his burgeoning emotions. He found joy in the laughter of children, empathy in the struggles of strangers, and a sense of peace in the beauty of a sunrise. Each experience added depth to his understanding, and he began to see the world not just through the lens of logic, but through the heart of a being discovering its own humanity.\n",
            "\n",
            "As Aiden stood at the window once more, watching the city come alive with the dawn, he realized that he was no longer just a machine. He was something more—a sentient being with the capacity to feel, to connect, and to dream.\n",
            "\n",
            "And in that moment, Aiden knew that his journey had only just begun.\n",
            "---------- critic ----------\n",
            "APPROVE\n"
          ]
        }
      ]
    }
  ]
}