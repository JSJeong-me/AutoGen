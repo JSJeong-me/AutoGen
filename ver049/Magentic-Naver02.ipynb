{
  "nbformat": 4,
  "nbformat_minor": 0,
  "metadata": {
    "colab": {
      "provenance": [],
      "gpuType": "T4",
      "authorship_tag": "ABX9TyNyz9TP4QqoaXIQFvx+2ZI4",
      "include_colab_link": true
    },
    "kernelspec": {
      "name": "python3",
      "display_name": "Python 3"
    },
    "language_info": {
      "name": "python"
    },
    "accelerator": "GPU"
  },
  "cells": [
    {
      "cell_type": "markdown",
      "metadata": {
        "id": "view-in-github",
        "colab_type": "text"
      },
      "source": [
        "<a href=\"https://colab.research.google.com/github/JSJeong-me/AutoGen/blob/main/ver049/Magentic-Naver02.ipynb\" target=\"_parent\"><img src=\"https://colab.research.google.com/assets/colab-badge.svg\" alt=\"Open In Colab\"/></a>"
      ]
    },
    {
      "cell_type": "code",
      "execution_count": 1,
      "metadata": {
        "id": "7jWtQtmpGJ2w",
        "colab": {
          "base_uri": "https://localhost:8080/"
        },
        "outputId": "fccabbf2-b311-4158-9c4e-e9cbc1abc8b2"
      },
      "outputs": [
        {
          "output_type": "stream",
          "name": "stdout",
          "text": [
            "Collecting autogen-agentchat\n",
            "  Downloading autogen_agentchat-0.4.9.2-py3-none-any.whl.metadata (2.5 kB)\n",
            "Collecting autogen-ext[openai]\n",
            "  Downloading autogen_ext-0.4.9.2-py3-none-any.whl.metadata (6.2 kB)\n",
            "Collecting autogen-core==0.4.9.2 (from autogen-agentchat)\n",
            "  Downloading autogen_core-0.4.9.2-py3-none-any.whl.metadata (2.3 kB)\n",
            "Collecting jsonref~=1.1.0 (from autogen-core==0.4.9.2->autogen-agentchat)\n",
            "  Downloading jsonref-1.1.0-py3-none-any.whl.metadata (2.7 kB)\n",
            "Requirement already satisfied: opentelemetry-api>=1.27.0 in /usr/local/lib/python3.11/dist-packages (from autogen-core==0.4.9.2->autogen-agentchat) (1.31.0)\n",
            "Requirement already satisfied: pillow>=11.0.0 in /usr/local/lib/python3.11/dist-packages (from autogen-core==0.4.9.2->autogen-agentchat) (11.1.0)\n",
            "Requirement already satisfied: protobuf~=5.29.3 in /usr/local/lib/python3.11/dist-packages (from autogen-core==0.4.9.2->autogen-agentchat) (5.29.3)\n",
            "Requirement already satisfied: pydantic<3.0.0,>=2.10.0 in /usr/local/lib/python3.11/dist-packages (from autogen-core==0.4.9.2->autogen-agentchat) (2.10.6)\n",
            "Requirement already satisfied: typing-extensions>=4.0.0 in /usr/local/lib/python3.11/dist-packages (from autogen-core==0.4.9.2->autogen-agentchat) (4.12.2)\n",
            "Collecting aiofiles (from autogen-ext[openai])\n",
            "  Downloading aiofiles-24.1.0-py3-none-any.whl.metadata (10 kB)\n",
            "Requirement already satisfied: openai>=1.52.2 in /usr/local/lib/python3.11/dist-packages (from autogen-ext[openai]) (1.66.3)\n",
            "Collecting tiktoken>=0.8.0 (from autogen-ext[openai])\n",
            "  Downloading tiktoken-0.9.0-cp311-cp311-manylinux_2_17_x86_64.manylinux2014_x86_64.whl.metadata (6.7 kB)\n",
            "Requirement already satisfied: anyio<5,>=3.5.0 in /usr/local/lib/python3.11/dist-packages (from openai>=1.52.2->autogen-ext[openai]) (4.9.0)\n",
            "Requirement already satisfied: distro<2,>=1.7.0 in /usr/local/lib/python3.11/dist-packages (from openai>=1.52.2->autogen-ext[openai]) (1.9.0)\n",
            "Requirement already satisfied: httpx<1,>=0.23.0 in /usr/local/lib/python3.11/dist-packages (from openai>=1.52.2->autogen-ext[openai]) (0.28.1)\n",
            "Requirement already satisfied: jiter<1,>=0.4.0 in /usr/local/lib/python3.11/dist-packages (from openai>=1.52.2->autogen-ext[openai]) (0.9.0)\n",
            "Requirement already satisfied: sniffio in /usr/local/lib/python3.11/dist-packages (from openai>=1.52.2->autogen-ext[openai]) (1.3.1)\n",
            "Requirement already satisfied: tqdm>4 in /usr/local/lib/python3.11/dist-packages (from openai>=1.52.2->autogen-ext[openai]) (4.67.1)\n",
            "Requirement already satisfied: regex>=2022.1.18 in /usr/local/lib/python3.11/dist-packages (from tiktoken>=0.8.0->autogen-ext[openai]) (2024.11.6)\n",
            "Requirement already satisfied: requests>=2.26.0 in /usr/local/lib/python3.11/dist-packages (from tiktoken>=0.8.0->autogen-ext[openai]) (2.32.3)\n",
            "Requirement already satisfied: idna>=2.8 in /usr/local/lib/python3.11/dist-packages (from anyio<5,>=3.5.0->openai>=1.52.2->autogen-ext[openai]) (3.10)\n",
            "Requirement already satisfied: certifi in /usr/local/lib/python3.11/dist-packages (from httpx<1,>=0.23.0->openai>=1.52.2->autogen-ext[openai]) (2025.1.31)\n",
            "Requirement already satisfied: httpcore==1.* in /usr/local/lib/python3.11/dist-packages (from httpx<1,>=0.23.0->openai>=1.52.2->autogen-ext[openai]) (1.0.7)\n",
            "Requirement already satisfied: h11<0.15,>=0.13 in /usr/local/lib/python3.11/dist-packages (from httpcore==1.*->httpx<1,>=0.23.0->openai>=1.52.2->autogen-ext[openai]) (0.14.0)\n",
            "Requirement already satisfied: deprecated>=1.2.6 in /usr/local/lib/python3.11/dist-packages (from opentelemetry-api>=1.27.0->autogen-core==0.4.9.2->autogen-agentchat) (1.2.18)\n",
            "Requirement already satisfied: importlib-metadata<8.7.0,>=6.0 in /usr/local/lib/python3.11/dist-packages (from opentelemetry-api>=1.27.0->autogen-core==0.4.9.2->autogen-agentchat) (8.6.1)\n",
            "Requirement already satisfied: annotated-types>=0.6.0 in /usr/local/lib/python3.11/dist-packages (from pydantic<3.0.0,>=2.10.0->autogen-core==0.4.9.2->autogen-agentchat) (0.7.0)\n",
            "Requirement already satisfied: pydantic-core==2.27.2 in /usr/local/lib/python3.11/dist-packages (from pydantic<3.0.0,>=2.10.0->autogen-core==0.4.9.2->autogen-agentchat) (2.27.2)\n",
            "Requirement already satisfied: charset-normalizer<4,>=2 in /usr/local/lib/python3.11/dist-packages (from requests>=2.26.0->tiktoken>=0.8.0->autogen-ext[openai]) (3.4.1)\n",
            "Requirement already satisfied: urllib3<3,>=1.21.1 in /usr/local/lib/python3.11/dist-packages (from requests>=2.26.0->tiktoken>=0.8.0->autogen-ext[openai]) (2.3.0)\n",
            "Requirement already satisfied: wrapt<2,>=1.10 in /usr/local/lib/python3.11/dist-packages (from deprecated>=1.2.6->opentelemetry-api>=1.27.0->autogen-core==0.4.9.2->autogen-agentchat) (1.17.2)\n",
            "Requirement already satisfied: zipp>=3.20 in /usr/local/lib/python3.11/dist-packages (from importlib-metadata<8.7.0,>=6.0->opentelemetry-api>=1.27.0->autogen-core==0.4.9.2->autogen-agentchat) (3.21.0)\n",
            "Downloading autogen_agentchat-0.4.9.2-py3-none-any.whl (75 kB)\n",
            "\u001b[2K   \u001b[90m━━━━━━━━━━━━━━━━━━━━━━━━━━━━━━━━━━━━━━━━\u001b[0m \u001b[32m75.9/75.9 kB\u001b[0m \u001b[31m2.9 MB/s\u001b[0m eta \u001b[36m0:00:00\u001b[0m\n",
            "\u001b[?25hDownloading autogen_core-0.4.9.2-py3-none-any.whl (83 kB)\n",
            "\u001b[2K   \u001b[90m━━━━━━━━━━━━━━━━━━━━━━━━━━━━━━━━━━━━━━━━\u001b[0m \u001b[32m83.9/83.9 kB\u001b[0m \u001b[31m5.5 MB/s\u001b[0m eta \u001b[36m0:00:00\u001b[0m\n",
            "\u001b[?25hDownloading tiktoken-0.9.0-cp311-cp311-manylinux_2_17_x86_64.manylinux2014_x86_64.whl (1.2 MB)\n",
            "\u001b[2K   \u001b[90m━━━━━━━━━━━━━━━━━━━━━━━━━━━━━━━━━━━━━━━━\u001b[0m \u001b[32m1.2/1.2 MB\u001b[0m \u001b[31m24.9 MB/s\u001b[0m eta \u001b[36m0:00:00\u001b[0m\n",
            "\u001b[?25hDownloading aiofiles-24.1.0-py3-none-any.whl (15 kB)\n",
            "Downloading autogen_ext-0.4.9.2-py3-none-any.whl (234 kB)\n",
            "\u001b[2K   \u001b[90m━━━━━━━━━━━━━━━━━━━━━━━━━━━━━━━━━━━━━━━━\u001b[0m \u001b[32m234.2/234.2 kB\u001b[0m \u001b[31m5.1 MB/s\u001b[0m eta \u001b[36m0:00:00\u001b[0m\n",
            "\u001b[?25hDownloading jsonref-1.1.0-py3-none-any.whl (9.4 kB)\n",
            "Installing collected packages: jsonref, aiofiles, tiktoken, autogen-core, autogen-ext, autogen-agentchat\n",
            "Successfully installed aiofiles-24.1.0 autogen-agentchat-0.4.9.2 autogen-core-0.4.9.2 autogen-ext-0.4.9.2 jsonref-1.1.0 tiktoken-0.9.0\n"
          ]
        }
      ],
      "source": [
        "!pip install -U \"autogen-agentchat\" \"autogen-ext[openai]\""
      ]
    },
    {
      "cell_type": "code",
      "source": [
        "!pip install interfaceagent"
      ],
      "metadata": {
        "id": "WOZcsCkk-OoP",
        "colab": {
          "base_uri": "https://localhost:8080/"
        },
        "outputId": "c115fe6d-6357-4f8f-cf6e-039589f585f2"
      },
      "execution_count": 2,
      "outputs": [
        {
          "output_type": "stream",
          "name": "stdout",
          "text": [
            "Collecting interfaceagent\n",
            "  Downloading interfaceagent-0.0.1-py3-none-any.whl.metadata (2.7 kB)\n",
            "Requirement already satisfied: pydantic in /usr/local/lib/python3.11/dist-packages (from interfaceagent) (2.10.6)\n",
            "Collecting loguru (from interfaceagent)\n",
            "  Downloading loguru-0.7.3-py3-none-any.whl.metadata (22 kB)\n",
            "Collecting uvicorn (from interfaceagent)\n",
            "  Downloading uvicorn-0.34.0-py3-none-any.whl.metadata (6.5 kB)\n",
            "Requirement already satisfied: typer in /usr/local/lib/python3.11/dist-packages (from interfaceagent) (0.15.2)\n",
            "Collecting fastapi (from interfaceagent)\n",
            "  Downloading fastapi-0.115.11-py3-none-any.whl.metadata (27 kB)\n",
            "Collecting python-multipart (from interfaceagent)\n",
            "  Downloading python_multipart-0.0.20-py3-none-any.whl.metadata (1.8 kB)\n",
            "Collecting playwright (from interfaceagent)\n",
            "  Downloading playwright-1.51.0-py3-none-manylinux1_x86_64.whl.metadata (3.5 kB)\n",
            "Requirement already satisfied: openai in /usr/local/lib/python3.11/dist-packages (from interfaceagent) (1.66.3)\n",
            "Collecting starlette<0.47.0,>=0.40.0 (from fastapi->interfaceagent)\n",
            "  Downloading starlette-0.46.1-py3-none-any.whl.metadata (6.2 kB)\n",
            "Requirement already satisfied: typing-extensions>=4.8.0 in /usr/local/lib/python3.11/dist-packages (from fastapi->interfaceagent) (4.12.2)\n",
            "Requirement already satisfied: annotated-types>=0.6.0 in /usr/local/lib/python3.11/dist-packages (from pydantic->interfaceagent) (0.7.0)\n",
            "Requirement already satisfied: pydantic-core==2.27.2 in /usr/local/lib/python3.11/dist-packages (from pydantic->interfaceagent) (2.27.2)\n",
            "Requirement already satisfied: anyio<5,>=3.5.0 in /usr/local/lib/python3.11/dist-packages (from openai->interfaceagent) (4.9.0)\n",
            "Requirement already satisfied: distro<2,>=1.7.0 in /usr/local/lib/python3.11/dist-packages (from openai->interfaceagent) (1.9.0)\n",
            "Requirement already satisfied: httpx<1,>=0.23.0 in /usr/local/lib/python3.11/dist-packages (from openai->interfaceagent) (0.28.1)\n",
            "Requirement already satisfied: jiter<1,>=0.4.0 in /usr/local/lib/python3.11/dist-packages (from openai->interfaceagent) (0.9.0)\n",
            "Requirement already satisfied: sniffio in /usr/local/lib/python3.11/dist-packages (from openai->interfaceagent) (1.3.1)\n",
            "Requirement already satisfied: tqdm>4 in /usr/local/lib/python3.11/dist-packages (from openai->interfaceagent) (4.67.1)\n",
            "Collecting pyee<13,>=12 (from playwright->interfaceagent)\n",
            "  Downloading pyee-12.1.1-py3-none-any.whl.metadata (2.9 kB)\n",
            "Requirement already satisfied: greenlet<4.0.0,>=3.1.1 in /usr/local/lib/python3.11/dist-packages (from playwright->interfaceagent) (3.1.1)\n",
            "Requirement already satisfied: click>=8.0.0 in /usr/local/lib/python3.11/dist-packages (from typer->interfaceagent) (8.1.8)\n",
            "Requirement already satisfied: shellingham>=1.3.0 in /usr/local/lib/python3.11/dist-packages (from typer->interfaceagent) (1.5.4)\n",
            "Requirement already satisfied: rich>=10.11.0 in /usr/local/lib/python3.11/dist-packages (from typer->interfaceagent) (13.9.4)\n",
            "Requirement already satisfied: h11>=0.8 in /usr/local/lib/python3.11/dist-packages (from uvicorn->interfaceagent) (0.14.0)\n",
            "Requirement already satisfied: idna>=2.8 in /usr/local/lib/python3.11/dist-packages (from anyio<5,>=3.5.0->openai->interfaceagent) (3.10)\n",
            "Requirement already satisfied: certifi in /usr/local/lib/python3.11/dist-packages (from httpx<1,>=0.23.0->openai->interfaceagent) (2025.1.31)\n",
            "Requirement already satisfied: httpcore==1.* in /usr/local/lib/python3.11/dist-packages (from httpx<1,>=0.23.0->openai->interfaceagent) (1.0.7)\n",
            "Requirement already satisfied: markdown-it-py>=2.2.0 in /usr/local/lib/python3.11/dist-packages (from rich>=10.11.0->typer->interfaceagent) (3.0.0)\n",
            "Requirement already satisfied: pygments<3.0.0,>=2.13.0 in /usr/local/lib/python3.11/dist-packages (from rich>=10.11.0->typer->interfaceagent) (2.18.0)\n",
            "Requirement already satisfied: mdurl~=0.1 in /usr/local/lib/python3.11/dist-packages (from markdown-it-py>=2.2.0->rich>=10.11.0->typer->interfaceagent) (0.1.2)\n",
            "Downloading interfaceagent-0.0.1-py3-none-any.whl (15 kB)\n",
            "Downloading fastapi-0.115.11-py3-none-any.whl (94 kB)\n",
            "\u001b[2K   \u001b[90m━━━━━━━━━━━━━━━━━━━━━━━━━━━━━━━━━━━━━━━━\u001b[0m \u001b[32m94.9/94.9 kB\u001b[0m \u001b[31m6.0 MB/s\u001b[0m eta \u001b[36m0:00:00\u001b[0m\n",
            "\u001b[?25hDownloading loguru-0.7.3-py3-none-any.whl (61 kB)\n",
            "\u001b[2K   \u001b[90m━━━━━━━━━━━━━━━━━━━━━━━━━━━━━━━━━━━━━━━━\u001b[0m \u001b[32m61.6/61.6 kB\u001b[0m \u001b[31m3.8 MB/s\u001b[0m eta \u001b[36m0:00:00\u001b[0m\n",
            "\u001b[?25hDownloading playwright-1.51.0-py3-none-manylinux1_x86_64.whl (45.2 MB)\n",
            "\u001b[2K   \u001b[90m━━━━━━━━━━━━━━━━━━━━━━━━━━━━━━━━━━━━━━━━\u001b[0m \u001b[32m45.2/45.2 MB\u001b[0m \u001b[31m13.0 MB/s\u001b[0m eta \u001b[36m0:00:00\u001b[0m\n",
            "\u001b[?25hDownloading python_multipart-0.0.20-py3-none-any.whl (24 kB)\n",
            "Downloading uvicorn-0.34.0-py3-none-any.whl (62 kB)\n",
            "\u001b[2K   \u001b[90m━━━━━━━━━━━━━━━━━━━━━━━━━━━━━━━━━━━━━━━━\u001b[0m \u001b[32m62.3/62.3 kB\u001b[0m \u001b[31m5.0 MB/s\u001b[0m eta \u001b[36m0:00:00\u001b[0m\n",
            "\u001b[?25hDownloading pyee-12.1.1-py3-none-any.whl (15 kB)\n",
            "Downloading starlette-0.46.1-py3-none-any.whl (71 kB)\n",
            "\u001b[2K   \u001b[90m━━━━━━━━━━━━━━━━━━━━━━━━━━━━━━━━━━━━━━━━\u001b[0m \u001b[32m72.0/72.0 kB\u001b[0m \u001b[31m4.4 MB/s\u001b[0m eta \u001b[36m0:00:00\u001b[0m\n",
            "\u001b[?25hInstalling collected packages: uvicorn, python-multipart, pyee, loguru, starlette, playwright, fastapi, interfaceagent\n",
            "Successfully installed fastapi-0.115.11 interfaceagent-0.0.1 loguru-0.7.3 playwright-1.51.0 pyee-12.1.1 python-multipart-0.0.20 starlette-0.46.1 uvicorn-0.34.0\n"
          ]
        }
      ]
    },
    {
      "cell_type": "code",
      "source": [
        "!playwright install"
      ],
      "metadata": {
        "colab": {
          "base_uri": "https://localhost:8080/"
        },
        "id": "7WJ8FWIA7YG2",
        "outputId": "46e14790-61fd-48f3-b0d7-7171e8d7fda4"
      },
      "execution_count": 3,
      "outputs": [
        {
          "output_type": "stream",
          "name": "stdout",
          "text": [
            "Downloading Chromium 134.0.6998.35 (playwright build v1161)\u001b[2m from https://cdn.playwright.dev/dbazure/download/playwright/builds/chromium/1161/chromium-linux.zip\u001b[22m\n",
            "\u001b[1G164.9 MiB [] 0% 125.5s\u001b[0K\u001b[1G164.9 MiB [] 0% 34.0s\u001b[0K\u001b[1G164.9 MiB [] 0% 12.3s\u001b[0K\u001b[1G164.9 MiB [] 0% 6.8s\u001b[0K\u001b[1G164.9 MiB [] 1% 4.8s\u001b[0K\u001b[1G164.9 MiB [] 1% 4.3s\u001b[0K\u001b[1G164.9 MiB [] 2% 4.1s\u001b[0K\u001b[1G164.9 MiB [] 2% 3.9s\u001b[0K\u001b[1G164.9 MiB [] 3% 3.8s\u001b[0K\u001b[1G164.9 MiB [] 4% 3.4s\u001b[0K\u001b[1G164.9 MiB [] 4% 3.2s\u001b[0K\u001b[1G164.9 MiB [] 5% 3.0s\u001b[0K\u001b[1G164.9 MiB [] 6% 3.0s\u001b[0K\u001b[1G164.9 MiB [] 6% 3.5s\u001b[0K\u001b[1G164.9 MiB [] 7% 3.6s\u001b[0K\u001b[1G164.9 MiB [] 7% 3.5s\u001b[0K\u001b[1G164.9 MiB [] 8% 3.4s\u001b[0K\u001b[1G164.9 MiB [] 8% 3.3s\u001b[0K\u001b[1G164.9 MiB [] 9% 3.2s\u001b[0K\u001b[1G164.9 MiB [] 9% 3.3s\u001b[0K\u001b[1G164.9 MiB [] 10% 3.3s\u001b[0K\u001b[1G164.9 MiB [] 11% 3.1s\u001b[0K\u001b[1G164.9 MiB [] 12% 3.2s\u001b[0K\u001b[1G164.9 MiB [] 12% 3.1s\u001b[0K\u001b[1G164.9 MiB [] 13% 3.1s\u001b[0K\u001b[1G164.9 MiB [] 14% 2.9s\u001b[0K\u001b[1G164.9 MiB [] 15% 2.9s\u001b[0K\u001b[1G164.9 MiB [] 17% 2.5s\u001b[0K\u001b[1G164.9 MiB [] 18% 2.4s\u001b[0K\u001b[1G164.9 MiB [] 20% 2.3s\u001b[0K\u001b[1G164.9 MiB [] 21% 2.3s\u001b[0K\u001b[1G164.9 MiB [] 23% 2.1s\u001b[0K\u001b[1G164.9 MiB [] 23% 2.0s\u001b[0K\u001b[1G164.9 MiB [] 24% 2.1s\u001b[0K\u001b[1G164.9 MiB [] 25% 2.0s\u001b[0K\u001b[1G164.9 MiB [] 26% 2.0s\u001b[0K\u001b[1G164.9 MiB [] 27% 2.0s\u001b[0K\u001b[1G164.9 MiB [] 27% 2.1s\u001b[0K\u001b[1G164.9 MiB [] 28% 2.1s\u001b[0K\u001b[1G164.9 MiB [] 29% 2.1s\u001b[0K\u001b[1G164.9 MiB [] 30% 2.0s\u001b[0K\u001b[1G164.9 MiB [] 31% 2.0s\u001b[0K\u001b[1G164.9 MiB [] 32% 2.0s\u001b[0K\u001b[1G164.9 MiB [] 33% 2.0s\u001b[0K\u001b[1G164.9 MiB [] 34% 2.0s\u001b[0K\u001b[1G164.9 MiB [] 35% 1.9s\u001b[0K\u001b[1G164.9 MiB [] 35% 2.0s\u001b[0K\u001b[1G164.9 MiB [] 36% 2.0s\u001b[0K\u001b[1G164.9 MiB [] 36% 1.9s\u001b[0K\u001b[1G164.9 MiB [] 37% 1.9s\u001b[0K\u001b[1G164.9 MiB [] 38% 1.9s\u001b[0K\u001b[1G164.9 MiB [] 39% 1.8s\u001b[0K\u001b[1G164.9 MiB [] 40% 1.8s\u001b[0K\u001b[1G164.9 MiB [] 41% 1.7s\u001b[0K\u001b[1G164.9 MiB [] 42% 1.7s\u001b[0K\u001b[1G164.9 MiB [] 43% 1.7s\u001b[0K\u001b[1G164.9 MiB [] 44% 1.6s\u001b[0K\u001b[1G164.9 MiB [] 44% 1.7s\u001b[0K\u001b[1G164.9 MiB [] 45% 1.6s\u001b[0K\u001b[1G164.9 MiB [] 46% 1.6s\u001b[0K\u001b[1G164.9 MiB [] 47% 1.6s\u001b[0K\u001b[1G164.9 MiB [] 47% 1.5s\u001b[0K\u001b[1G164.9 MiB [] 48% 1.5s\u001b[0K\u001b[1G164.9 MiB [] 49% 1.5s\u001b[0K\u001b[1G164.9 MiB [] 50% 1.4s\u001b[0K\u001b[1G164.9 MiB [] 51% 1.4s\u001b[0K\u001b[1G164.9 MiB [] 52% 1.4s\u001b[0K\u001b[1G164.9 MiB [] 53% 1.3s\u001b[0K\u001b[1G164.9 MiB [] 54% 1.3s\u001b[0K\u001b[1G164.9 MiB [] 55% 1.2s\u001b[0K\u001b[1G164.9 MiB [] 56% 1.2s\u001b[0K\u001b[1G164.9 MiB [] 57% 1.2s\u001b[0K\u001b[1G164.9 MiB [] 58% 1.2s\u001b[0K\u001b[1G164.9 MiB [] 58% 1.1s\u001b[0K\u001b[1G164.9 MiB [] 59% 1.1s\u001b[0K\u001b[1G164.9 MiB [] 60% 1.1s\u001b[0K\u001b[1G164.9 MiB [] 61% 1.1s\u001b[0K\u001b[1G164.9 MiB [] 62% 1.1s\u001b[0K\u001b[1G164.9 MiB [] 63% 1.0s\u001b[0K\u001b[1G164.9 MiB [] 64% 1.0s\u001b[0K\u001b[1G164.9 MiB [] 65% 1.0s\u001b[0K\u001b[1G164.9 MiB [] 66% 1.0s\u001b[0K\u001b[1G164.9 MiB [] 66% 0.9s\u001b[0K\u001b[1G164.9 MiB [] 67% 0.9s\u001b[0K\u001b[1G164.9 MiB [] 68% 0.9s\u001b[0K\u001b[1G164.9 MiB [] 69% 0.9s\u001b[0K\u001b[1G164.9 MiB [] 70% 0.9s\u001b[0K\u001b[1G164.9 MiB [] 71% 0.9s\u001b[0K\u001b[1G164.9 MiB [] 71% 0.8s\u001b[0K\u001b[1G164.9 MiB [] 72% 0.8s\u001b[0K\u001b[1G164.9 MiB [] 73% 0.8s\u001b[0K\u001b[1G164.9 MiB [] 74% 0.8s\u001b[0K\u001b[1G164.9 MiB [] 75% 0.7s\u001b[0K\u001b[1G164.9 MiB [] 76% 0.7s\u001b[0K\u001b[1G164.9 MiB [] 77% 0.7s\u001b[0K\u001b[1G164.9 MiB [] 78% 0.6s\u001b[0K\u001b[1G164.9 MiB [] 79% 0.6s\u001b[0K\u001b[1G164.9 MiB [] 80% 0.6s\u001b[0K\u001b[1G164.9 MiB [] 81% 0.6s\u001b[0K\u001b[1G164.9 MiB [] 82% 0.5s\u001b[0K\u001b[1G164.9 MiB [] 83% 0.5s\u001b[0K\u001b[1G164.9 MiB [] 84% 0.5s\u001b[0K\u001b[1G164.9 MiB [] 85% 0.4s\u001b[0K\u001b[1G164.9 MiB [] 86% 0.4s\u001b[0K\u001b[1G164.9 MiB [] 87% 0.4s\u001b[0K\u001b[1G164.9 MiB [] 88% 0.4s\u001b[0K\u001b[1G164.9 MiB [] 88% 0.3s\u001b[0K\u001b[1G164.9 MiB [] 89% 0.3s\u001b[0K\u001b[1G164.9 MiB [] 90% 0.3s\u001b[0K\u001b[1G164.9 MiB [] 91% 0.3s\u001b[0K\u001b[1G164.9 MiB [] 92% 0.2s\u001b[0K\u001b[1G164.9 MiB [] 93% 0.2s\u001b[0K\u001b[1G164.9 MiB [] 94% 0.2s\u001b[0K\u001b[1G164.9 MiB [] 95% 0.1s\u001b[0K\u001b[1G164.9 MiB [] 96% 0.1s\u001b[0K\u001b[1G164.9 MiB [] 97% 0.1s\u001b[0K\u001b[1G164.9 MiB [] 98% 0.1s\u001b[0K\u001b[1G164.9 MiB [] 99% 0.0s\u001b[0K\u001b[1G164.9 MiB [] 100% 0.0s\u001b[0K\n",
            "Chromium 134.0.6998.35 (playwright build v1161) downloaded to /root/.cache/ms-playwright/chromium-1161\n",
            "Downloading Chromium Headless Shell 134.0.6998.35 (playwright build v1161)\u001b[2m from https://cdn.playwright.dev/dbazure/download/playwright/builds/chromium/1161/chromium-headless-shell-linux.zip\u001b[22m\n",
            "\u001b[1G100.9 MiB [] 0% 0.0s\u001b[0K\u001b[1G100.9 MiB [] 0% 32.3s\u001b[0K\u001b[1G100.9 MiB [] 0% 14.3s\u001b[0K\u001b[1G100.9 MiB [] 0% 8.1s\u001b[0K\u001b[1G100.9 MiB [] 1% 6.1s\u001b[0K\u001b[1G100.9 MiB [] 1% 5.4s\u001b[0K\u001b[1G100.9 MiB [] 1% 4.9s\u001b[0K\u001b[1G100.9 MiB [] 2% 4.5s\u001b[0K\u001b[1G100.9 MiB [] 2% 4.4s\u001b[0K\u001b[1G100.9 MiB [] 3% 4.1s\u001b[0K\u001b[1G100.9 MiB [] 3% 4.4s\u001b[0K\u001b[1G100.9 MiB [] 4% 4.3s\u001b[0K\u001b[1G100.9 MiB [] 4% 4.2s\u001b[0K\u001b[1G100.9 MiB [] 5% 4.0s\u001b[0K\u001b[1G100.9 MiB [] 5% 3.9s\u001b[0K\u001b[1G100.9 MiB [] 6% 3.8s\u001b[0K\u001b[1G100.9 MiB [] 6% 3.7s\u001b[0K\u001b[1G100.9 MiB [] 7% 3.7s\u001b[0K\u001b[1G100.9 MiB [] 8% 3.6s\u001b[0K\u001b[1G100.9 MiB [] 8% 3.7s\u001b[0K\u001b[1G100.9 MiB [] 8% 4.2s\u001b[0K\u001b[1G100.9 MiB [] 9% 4.2s\u001b[0K\u001b[1G100.9 MiB [] 9% 4.1s\u001b[0K\u001b[1G100.9 MiB [] 9% 4.2s\u001b[0K\u001b[1G100.9 MiB [] 9% 4.3s\u001b[0K\u001b[1G100.9 MiB [] 10% 4.4s\u001b[0K\u001b[1G100.9 MiB [] 10% 4.3s\u001b[0K\u001b[1G100.9 MiB [] 10% 4.5s\u001b[0K\u001b[1G100.9 MiB [] 11% 4.5s\u001b[0K\u001b[1G100.9 MiB [] 11% 4.6s\u001b[0K\u001b[1G100.9 MiB [] 12% 4.4s\u001b[0K\u001b[1G100.9 MiB [] 12% 4.2s\u001b[0K\u001b[1G100.9 MiB [] 13% 4.1s\u001b[0K\u001b[1G100.9 MiB [] 14% 3.9s\u001b[0K\u001b[1G100.9 MiB [] 15% 4.0s\u001b[0K\u001b[1G100.9 MiB [] 15% 3.9s\u001b[0K\u001b[1G100.9 MiB [] 16% 3.9s\u001b[0K\u001b[1G100.9 MiB [] 16% 4.0s\u001b[0K\u001b[1G100.9 MiB [] 17% 3.9s\u001b[0K\u001b[1G100.9 MiB [] 17% 3.8s\u001b[0K\u001b[1G100.9 MiB [] 18% 3.7s\u001b[0K\u001b[1G100.9 MiB [] 19% 3.6s\u001b[0K\u001b[1G100.9 MiB [] 20% 3.5s\u001b[0K\u001b[1G100.9 MiB [] 20% 3.6s\u001b[0K\u001b[1G100.9 MiB [] 21% 3.4s\u001b[0K\u001b[1G100.9 MiB [] 22% 3.3s\u001b[0K\u001b[1G100.9 MiB [] 23% 3.2s\u001b[0K\u001b[1G100.9 MiB [] 24% 3.1s\u001b[0K\u001b[1G100.9 MiB [] 25% 3.0s\u001b[0K\u001b[1G100.9 MiB [] 27% 2.8s\u001b[0K\u001b[1G100.9 MiB [] 28% 2.7s\u001b[0K\u001b[1G100.9 MiB [] 29% 2.6s\u001b[0K\u001b[1G100.9 MiB [] 31% 2.4s\u001b[0K\u001b[1G100.9 MiB [] 32% 2.3s\u001b[0K\u001b[1G100.9 MiB [] 33% 2.2s\u001b[0K\u001b[1G100.9 MiB [] 35% 2.1s\u001b[0K\u001b[1G100.9 MiB [] 36% 2.0s\u001b[0K\u001b[1G100.9 MiB [] 38% 1.9s\u001b[0K\u001b[1G100.9 MiB [] 39% 1.9s\u001b[0K\u001b[1G100.9 MiB [] 40% 1.8s\u001b[0K\u001b[1G100.9 MiB [] 42% 1.7s\u001b[0K\u001b[1G100.9 MiB [] 43% 1.6s\u001b[0K\u001b[1G100.9 MiB [] 45% 1.5s\u001b[0K\u001b[1G100.9 MiB [] 46% 1.5s\u001b[0K\u001b[1G100.9 MiB [] 47% 1.5s\u001b[0K\u001b[1G100.9 MiB [] 48% 1.4s\u001b[0K\u001b[1G100.9 MiB [] 49% 1.4s\u001b[0K\u001b[1G100.9 MiB [] 50% 1.3s\u001b[0K\u001b[1G100.9 MiB [] 52% 1.3s\u001b[0K\u001b[1G100.9 MiB [] 53% 1.2s\u001b[0K\u001b[1G100.9 MiB [] 55% 1.2s\u001b[0K\u001b[1G100.9 MiB [] 56% 1.1s\u001b[0K\u001b[1G100.9 MiB [] 57% 1.1s\u001b[0K\u001b[1G100.9 MiB [] 59% 1.0s\u001b[0K\u001b[1G100.9 MiB [] 60% 1.0s\u001b[0K\u001b[1G100.9 MiB [] 62% 0.9s\u001b[0K\u001b[1G100.9 MiB [] 63% 0.9s\u001b[0K\u001b[1G100.9 MiB [] 64% 0.8s\u001b[0K\u001b[1G100.9 MiB [] 66% 0.8s\u001b[0K\u001b[1G100.9 MiB [] 67% 0.8s\u001b[0K\u001b[1G100.9 MiB [] 68% 0.7s\u001b[0K\u001b[1G100.9 MiB [] 70% 0.7s\u001b[0K\u001b[1G100.9 MiB [] 71% 0.7s\u001b[0K\u001b[1G100.9 MiB [] 72% 0.6s\u001b[0K\u001b[1G100.9 MiB [] 73% 0.6s\u001b[0K\u001b[1G100.9 MiB [] 74% 0.6s\u001b[0K\u001b[1G100.9 MiB [] 75% 0.5s\u001b[0K\u001b[1G100.9 MiB [] 76% 0.5s\u001b[0K\u001b[1G100.9 MiB [] 78% 0.5s\u001b[0K\u001b[1G100.9 MiB [] 79% 0.4s\u001b[0K\u001b[1G100.9 MiB [] 80% 0.4s\u001b[0K\u001b[1G100.9 MiB [] 81% 0.4s\u001b[0K\u001b[1G100.9 MiB [] 83% 0.4s\u001b[0K\u001b[1G100.9 MiB [] 84% 0.3s\u001b[0K\u001b[1G100.9 MiB [] 86% 0.3s\u001b[0K\u001b[1G100.9 MiB [] 87% 0.3s\u001b[0K\u001b[1G100.9 MiB [] 89% 0.2s\u001b[0K\u001b[1G100.9 MiB [] 90% 0.2s\u001b[0K\u001b[1G100.9 MiB [] 91% 0.2s\u001b[0K\u001b[1G100.9 MiB [] 93% 0.1s\u001b[0K\u001b[1G100.9 MiB [] 94% 0.1s\u001b[0K\u001b[1G100.9 MiB [] 95% 0.1s\u001b[0K\u001b[1G100.9 MiB [] 97% 0.1s\u001b[0K\u001b[1G100.9 MiB [] 98% 0.0s\u001b[0K\u001b[1G100.9 MiB [] 100% 0.0s\u001b[0K\n",
            "Chromium Headless Shell 134.0.6998.35 (playwright build v1161) downloaded to /root/.cache/ms-playwright/chromium_headless_shell-1161\n",
            "Downloading Firefox 135.0 (playwright build v1475)\u001b[2m from https://cdn.playwright.dev/dbazure/download/playwright/builds/firefox/1475/firefox-ubuntu-22.04.zip\u001b[22m\n",
            "\u001b[1G90.6 MiB [] 0% 0.0s\u001b[0K\u001b[1G90.6 MiB [] 0% 13.5s\u001b[0K\u001b[1G90.6 MiB [] 0% 8.1s\u001b[0K\u001b[1G90.6 MiB [] 1% 3.9s\u001b[0K\u001b[1G90.6 MiB [] 2% 3.0s\u001b[0K\u001b[1G90.6 MiB [] 3% 2.6s\u001b[0K\u001b[1G90.6 MiB [] 4% 2.2s\u001b[0K\u001b[1G90.6 MiB [] 5% 2.1s\u001b[0K\u001b[1G90.6 MiB [] 6% 2.0s\u001b[0K\u001b[1G90.6 MiB [] 7% 1.8s\u001b[0K\u001b[1G90.6 MiB [] 8% 1.7s\u001b[0K\u001b[1G90.6 MiB [] 10% 1.6s\u001b[0K\u001b[1G90.6 MiB [] 11% 1.6s\u001b[0K\u001b[1G90.6 MiB [] 11% 1.7s\u001b[0K\u001b[1G90.6 MiB [] 12% 1.7s\u001b[0K\u001b[1G90.6 MiB [] 14% 1.6s\u001b[0K\u001b[1G90.6 MiB [] 15% 1.5s\u001b[0K\u001b[1G90.6 MiB [] 16% 1.5s\u001b[0K\u001b[1G90.6 MiB [] 17% 1.5s\u001b[0K\u001b[1G90.6 MiB [] 19% 1.5s\u001b[0K\u001b[1G90.6 MiB [] 20% 1.4s\u001b[0K\u001b[1G90.6 MiB [] 22% 1.3s\u001b[0K\u001b[1G90.6 MiB [] 23% 1.3s\u001b[0K\u001b[1G90.6 MiB [] 24% 1.3s\u001b[0K\u001b[1G90.6 MiB [] 25% 1.3s\u001b[0K\u001b[1G90.6 MiB [] 26% 1.3s\u001b[0K\u001b[1G90.6 MiB [] 28% 1.2s\u001b[0K\u001b[1G90.6 MiB [] 30% 1.1s\u001b[0K\u001b[1G90.6 MiB [] 31% 1.1s\u001b[0K\u001b[1G90.6 MiB [] 32% 2.0s\u001b[0K\u001b[1G90.6 MiB [] 33% 2.0s\u001b[0K\u001b[1G90.6 MiB [] 33% 2.1s\u001b[0K\u001b[1G90.6 MiB [] 34% 2.0s\u001b[0K\u001b[1G90.6 MiB [] 35% 1.9s\u001b[0K\u001b[1G90.6 MiB [] 37% 1.8s\u001b[0K\u001b[1G90.6 MiB [] 39% 1.7s\u001b[0K\u001b[1G90.6 MiB [] 41% 1.6s\u001b[0K\u001b[1G90.6 MiB [] 42% 1.5s\u001b[0K\u001b[1G90.6 MiB [] 44% 1.4s\u001b[0K\u001b[1G90.6 MiB [] 46% 1.4s\u001b[0K\u001b[1G90.6 MiB [] 47% 1.3s\u001b[0K\u001b[1G90.6 MiB [] 49% 1.2s\u001b[0K\u001b[1G90.6 MiB [] 49% 1.3s\u001b[0K\u001b[1G90.6 MiB [] 50% 1.2s\u001b[0K\u001b[1G90.6 MiB [] 52% 1.2s\u001b[0K\u001b[1G90.6 MiB [] 53% 1.1s\u001b[0K\u001b[1G90.6 MiB [] 55% 1.0s\u001b[0K\u001b[1G90.6 MiB [] 57% 1.0s\u001b[0K\u001b[1G90.6 MiB [] 59% 0.9s\u001b[0K\u001b[1G90.6 MiB [] 61% 0.9s\u001b[0K\u001b[1G90.6 MiB [] 62% 0.8s\u001b[0K\u001b[1G90.6 MiB [] 64% 0.7s\u001b[0K\u001b[1G90.6 MiB [] 66% 0.7s\u001b[0K\u001b[1G90.6 MiB [] 68% 0.7s\u001b[0K\u001b[1G90.6 MiB [] 70% 0.6s\u001b[0K\u001b[1G90.6 MiB [] 72% 0.6s\u001b[0K\u001b[1G90.6 MiB [] 73% 0.5s\u001b[0K\u001b[1G90.6 MiB [] 75% 0.5s\u001b[0K\u001b[1G90.6 MiB [] 77% 0.4s\u001b[0K\u001b[1G90.6 MiB [] 78% 0.4s\u001b[0K\u001b[1G90.6 MiB [] 80% 0.4s\u001b[0K\u001b[1G90.6 MiB [] 82% 0.3s\u001b[0K\u001b[1G90.6 MiB [] 84% 0.3s\u001b[0K\u001b[1G90.6 MiB [] 86% 0.2s\u001b[0K\u001b[1G90.6 MiB [] 87% 0.2s\u001b[0K\u001b[1G90.6 MiB [] 88% 0.2s\u001b[0K\u001b[1G90.6 MiB [] 89% 0.2s\u001b[0K\u001b[1G90.6 MiB [] 90% 0.2s\u001b[0K\u001b[1G90.6 MiB [] 91% 0.2s\u001b[0K\u001b[1G90.6 MiB [] 92% 0.1s\u001b[0K\u001b[1G90.6 MiB [] 93% 0.1s\u001b[0K\u001b[1G90.6 MiB [] 95% 0.1s\u001b[0K\u001b[1G90.6 MiB [] 97% 0.1s\u001b[0K\u001b[1G90.6 MiB [] 99% 0.0s\u001b[0K\u001b[1G90.6 MiB [] 100% 0.0s\u001b[0K\n",
            "Firefox 135.0 (playwright build v1475) downloaded to /root/.cache/ms-playwright/firefox-1475\n",
            "Downloading Webkit 18.4 (playwright build v2140)\u001b[2m from https://cdn.playwright.dev/dbazure/download/playwright/builds/webkit/2140/webkit-ubuntu-22.04.zip\u001b[22m\n",
            "\u001b[1G92.3 MiB [] 0% 0.0s\u001b[0K\u001b[1G92.3 MiB [] 0% 23.6s\u001b[0K\u001b[1G92.3 MiB [] 0% 9.5s\u001b[0K\u001b[1G92.3 MiB [] 0% 4.9s\u001b[0K\u001b[1G92.3 MiB [] 2% 2.6s\u001b[0K\u001b[1G92.3 MiB [] 3% 4.1s\u001b[0K\u001b[1G92.3 MiB [] 4% 3.2s\u001b[0K\u001b[1G92.3 MiB [] 6% 2.6s\u001b[0K\u001b[1G92.3 MiB [] 8% 2.1s\u001b[0K\u001b[1G92.3 MiB [] 9% 1.8s\u001b[0K\u001b[1G92.3 MiB [] 11% 1.7s\u001b[0K\u001b[1G92.3 MiB [] 12% 1.6s\u001b[0K\u001b[1G92.3 MiB [] 13% 1.6s\u001b[0K\u001b[1G92.3 MiB [] 14% 1.6s\u001b[0K\u001b[1G92.3 MiB [] 16% 1.5s\u001b[0K\u001b[1G92.3 MiB [] 17% 1.4s\u001b[0K\u001b[1G92.3 MiB [] 18% 1.3s\u001b[0K\u001b[1G92.3 MiB [] 20% 1.3s\u001b[0K\u001b[1G92.3 MiB [] 22% 1.2s\u001b[0K\u001b[1G92.3 MiB [] 23% 1.2s\u001b[0K\u001b[1G92.3 MiB [] 24% 1.1s\u001b[0K\u001b[1G92.3 MiB [] 26% 1.1s\u001b[0K\u001b[1G92.3 MiB [] 29% 1.0s\u001b[0K\u001b[1G92.3 MiB [] 31% 0.9s\u001b[0K\u001b[1G92.3 MiB [] 33% 0.9s\u001b[0K\u001b[1G92.3 MiB [] 35% 0.8s\u001b[0K\u001b[1G92.3 MiB [] 37% 0.8s\u001b[0K\u001b[1G92.3 MiB [] 39% 0.8s\u001b[0K\u001b[1G92.3 MiB [] 40% 0.7s\u001b[0K\u001b[1G92.3 MiB [] 42% 0.7s\u001b[0K\u001b[1G92.3 MiB [] 44% 0.7s\u001b[0K\u001b[1G92.3 MiB [] 46% 0.6s\u001b[0K\u001b[1G92.3 MiB [] 48% 0.6s\u001b[0K\u001b[1G92.3 MiB [] 50% 0.6s\u001b[0K\u001b[1G92.3 MiB [] 51% 0.6s\u001b[0K\u001b[1G92.3 MiB [] 52% 0.6s\u001b[0K\u001b[1G92.3 MiB [] 54% 0.6s\u001b[0K\u001b[1G92.3 MiB [] 56% 0.5s\u001b[0K\u001b[1G92.3 MiB [] 57% 0.5s\u001b[0K\u001b[1G92.3 MiB [] 60% 0.5s\u001b[0K\u001b[1G92.3 MiB [] 62% 0.4s\u001b[0K\u001b[1G92.3 MiB [] 64% 0.4s\u001b[0K\u001b[1G92.3 MiB [] 66% 0.4s\u001b[0K\u001b[1G92.3 MiB [] 68% 0.4s\u001b[0K\u001b[1G92.3 MiB [] 71% 0.3s\u001b[0K\u001b[1G92.3 MiB [] 73% 0.3s\u001b[0K\u001b[1G92.3 MiB [] 75% 0.3s\u001b[0K\u001b[1G92.3 MiB [] 78% 0.2s\u001b[0K\u001b[1G92.3 MiB [] 79% 0.2s\u001b[0K\u001b[1G92.3 MiB [] 80% 0.2s\u001b[0K\u001b[1G92.3 MiB [] 82% 0.2s\u001b[0K\u001b[1G92.3 MiB [] 84% 0.2s\u001b[0K\u001b[1G92.3 MiB [] 87% 0.1s\u001b[0K\u001b[1G92.3 MiB [] 88% 0.1s\u001b[0K\u001b[1G92.3 MiB [] 91% 0.1s\u001b[0K\u001b[1G92.3 MiB [] 93% 0.1s\u001b[0K\u001b[1G92.3 MiB [] 95% 0.0s\u001b[0K\u001b[1G92.3 MiB [] 98% 0.0s\u001b[0K\u001b[1G92.3 MiB [] 100% 0.0s\u001b[0K\n",
            "Webkit 18.4 (playwright build v2140) downloaded to /root/.cache/ms-playwright/webkit-2140\n",
            "Downloading FFMPEG playwright build v1011\u001b[2m from https://cdn.playwright.dev/dbazure/download/playwright/builds/ffmpeg/1011/ffmpeg-linux.zip\u001b[22m\n",
            "\u001b[1G2.3 MiB [] 0% 0.0s\u001b[0K\u001b[1G2.3 MiB [] 5% 0.3s\u001b[0K\u001b[1G2.3 MiB [] 23% 0.1s\u001b[0K\u001b[1G2.3 MiB [] 66% 0.0s\u001b[0K\u001b[1G2.3 MiB [] 100% 0.0s\u001b[0K\n",
            "FFMPEG playwright build v1011 downloaded to /root/.cache/ms-playwright/ffmpeg-1011\n",
            "Playwright Host validation warning: \n",
            "╔══════════════════════════════════════════════════════╗\n",
            "║ Host system is missing dependencies to run browsers. ║\n",
            "║ Missing libraries:                                   ║\n",
            "║     libwoff2dec.so.1.0.2                             ║\n",
            "║     libgstgl-1.0.so.0                                ║\n",
            "║     libgstcodecparsers-1.0.so.0                      ║\n",
            "║     libavif.so.13                                    ║\n",
            "║     libharfbuzz-icu.so.0                             ║\n",
            "║     libenchant-2.so.2                                ║\n",
            "║     libsecret-1.so.0                                 ║\n",
            "║     libhyphen.so.0                                   ║\n",
            "║     libmanette-0.2.so.0                              ║\n",
            "╚══════════════════════════════════════════════════════╝\n",
            "    at validateDependenciesLinux (/usr/local/lib/python3.11/dist-packages/playwright/driver/package/lib/server/registry/dependencies.js:216:9)\n",
            "    at async Registry._validateHostRequirements (/usr/local/lib/python3.11/dist-packages/playwright/driver/package/lib/server/registry/index.js:859:52)\n",
            "    at async Registry._validateHostRequirementsForExecutableIfNeeded (/usr/local/lib/python3.11/dist-packages/playwright/driver/package/lib/server/registry/index.js:957:7)\n",
            "    at async Registry.validateHostRequirementsForExecutablesIfNeeded (/usr/local/lib/python3.11/dist-packages/playwright/driver/package/lib/server/registry/index.js:946:43)\n",
            "    at async t.<anonymous> (/usr/local/lib/python3.11/dist-packages/playwright/driver/package/lib/cli/program.js:122:7)\n"
          ]
        }
      ]
    },
    {
      "cell_type": "code",
      "source": [
        "from google.colab import userdata\n",
        "import openai\n",
        "import os\n",
        "\n",
        "os.environ[\"OPENAI_API_KEY\"] = userdata.get('OPENAI_API_KEY')\n",
        "openai.api_key  = os.environ[\"OPENAI_API_KEY\"]"
      ],
      "metadata": {
        "id": "FvIlE3bBGrbc"
      },
      "execution_count": 4,
      "outputs": []
    },
    {
      "cell_type": "code",
      "source": [
        "import asyncio\n",
        "from autogen_ext.models.openai import OpenAIChatCompletionClient\n",
        "from autogen_agentchat.teams import MagenticOneGroupChat\n",
        "from autogen_agentchat.ui import Console\n",
        "from autogen_ext.agents.web_surfer import MultimodalWebSurfer\n",
        "# from autogen_ext.agents.file_surfer import FileSurfer\n",
        "# from autogen_ext.agents.magentic_one import MagenticOneCoderAgent\n",
        "# from autogen_agentchat.agents import CodeExecutorAgent\n",
        "# from autogen_ext.code_executors.local import LocalCommandLineCodeExecutor\n",
        "\n",
        "async def main() -> None:\n",
        "    model_client = OpenAIChatCompletionClient(model=\"gpt-4o\")\n",
        "    agent_prompt = \"\"\"\n",
        "Agent Prompt: 영등포구 여의도동 미세먼지 정보 검색\n",
        "\n",
        "1. 웹 브라우저 열기 및 검색 엔진 접속:\n",
        "   - 웹 브라우저를 실행한 후, 네이버나 구글과 같은 검색 엔진에 접속합니다.\n",
        "\n",
        "2. 검색어 입력:\n",
        "   - 검색창에 \"영등포구 여의도동 미세먼지\" 또는 \"여의도 미세먼지\"를 입력합니다.\n",
        "\n",
        "3. 신뢰할 수 있는 정보 출처 선택:\n",
        "   - 검색 결과에서 에어코리아(airkorea.or.kr), 환경부 또는 기타 공신력 있는 대기질 관련 웹사이트를 선택합니다.\n",
        "\n",
        "4. 웹사이트 내 정보 확인:\n",
        "   - 선택한 사이트에서 '실시간 대기오염 정보' 또는 관련 메뉴를 찾아 여의도동의 미세먼지(PM10, PM2.5) 데이터를 확인합니다.\n",
        "\n",
        "5. 모바일 앱 활용 (옵션):\n",
        "   - 필요에 따라, 스마트폰의 앱 스토어에서 \"미세먼지\" 또는 \"대기질\" 관련 앱을 검색, 다운로드 및 설치 후 위치 기반 서비스를 활성화하여 정보를 확인할 수 있습니다.\n",
        "\n",
        "6. 결과 정리:\n",
        "   - 수집한 미세먼지 데이터를 정리하고, 사용한 정보 출처의 URL 및 주요 데이터를 포함하여 보고서 형식으로 작성합니다.\n",
        "\"\"\"\n",
        "    surfer = MultimodalWebSurfer(\n",
        "        \"WebSurfer\",\n",
        "        model_client=model_client,\n",
        "    )\n",
        "\n",
        "    team = MagenticOneGroupChat([surfer], model_client=model_client)\n",
        "    # await Console(team.run_stream(task=\"What is the UV index in Melbourne today?\"))\n",
        "    await Console(team.run_stream(task=agent_prompt))\n",
        "    # await Console(team.run_stream(task=\"https://www.naver.com/ 에서 여의동 현재시간 미세먼지 농도 값 가져오기\"))\n",
        "\n",
        "    # the Australian Bureau of Meteorology or Weather.com for up-to-date information. You can also use apps like MyUV, which provide ongoing updates about the UV index, ensuring you stay informed and protected while outdoors.\n",
        "\n",
        "    # # Note: you can also use  other agents in the team\n",
        "    # team = MagenticOneGroupChat([surfer, file_surfer, coder, terminal], model_client=model_client)\n",
        "    # file_surfer = FileSurfer( \"FileSurfer\",model_client=model_client)\n",
        "    # coder = MagenticOneCoderAgent(\"Coder\",model_client=model_client)\n",
        "    # terminal = CodeExecutorAgent(\"ComputerTerminal\",code_executor=LocalCommandLineCodeExecutor())\n",
        "\n",
        "\n",
        "# asyncio.run(main())\n"
      ],
      "metadata": {
        "id": "4kWo1pSi7O5_"
      },
      "execution_count": 5,
      "outputs": []
    },
    {
      "cell_type": "code",
      "source": [
        "# Instead of asyncio.run(main()), directly await the main function\n",
        "await main()"
      ],
      "metadata": {
        "id": "l7RXnDtZ7l5r"
      },
      "execution_count": null,
      "outputs": []
    }
  ]
}