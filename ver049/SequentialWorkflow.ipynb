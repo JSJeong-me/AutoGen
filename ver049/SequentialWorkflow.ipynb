{
  "nbformat": 4,
  "nbformat_minor": 0,
  "metadata": {
    "colab": {
      "provenance": [],
      "gpuType": "T4"
    },
    "kernelspec": {
      "name": "python3",
      "display_name": "Python 3"
    },
    "language_info": {
      "name": "python"
    },
    "accelerator": "GPU"
  },
  "cells": [
    {
      "cell_type": "code",
      "execution_count": null,
      "metadata": {
        "id": "qHJqMYtwJf90"
      },
      "outputs": [],
      "source": [
        "# Install AgentChat and OpenAI client from Extensions\n",
        "!pip install -U \"autogen-agentchat\" \"autogen-ext[openai]\""
      ]
    },
    {
      "cell_type": "code",
      "source": [
        "from google.colab import userdata\n",
        "import openai\n",
        "import os\n",
        "\n",
        "os.environ[\"OPENAI_API_KEY\"] = userdata.get('OPENAI_API_KEY')\n",
        "openai.api_key  = os.environ[\"OPENAI_API_KEY\"]"
      ],
      "metadata": {
        "id": "6pTAaIYKKJ89"
      },
      "execution_count": 2,
      "outputs": []
    },
    {
      "cell_type": "markdown",
      "source": [
        "Concept Extractor Agent: Analyzes the initial product description to extract key features, target audience, and unique selling points (USPs). The output is a structured analysis in a single text block.\n",
        "\n",
        "Writer Agent: Crafts compelling marketing copy based on the extracted concepts. This agent transforms the analytical insights into engaging promotional content, delivering a cohesive narrative in a single text block.\n",
        "\n",
        "Format & Proof Agent: Polishes the draft copy by refining grammar, enhancing clarity, and maintaining consistent tone. This agent ensures professional quality and delivers a well-formatted final version.\n",
        "\n",
        "User Agent: Presents the final, refined marketing copy to the user, completing the workflow."
      ],
      "metadata": {
        "id": "5mWRj15zVcnq"
      }
    },
    {
      "cell_type": "code",
      "source": [
        "from dataclasses import dataclass\n",
        "\n",
        "from autogen_core import (\n",
        "    MessageContext,\n",
        "    RoutedAgent,\n",
        "    SingleThreadedAgentRuntime,\n",
        "    TopicId,\n",
        "    TypeSubscription,\n",
        "    message_handler,\n",
        "    type_subscription,\n",
        ")\n",
        "from autogen_core.models import ChatCompletionClient, SystemMessage, UserMessage\n",
        "from autogen_ext.models.openai import OpenAIChatCompletionClient\n"
      ],
      "metadata": {
        "id": "gFGWQcROVY1h"
      },
      "execution_count": 3,
      "outputs": []
    },
    {
      "cell_type": "markdown",
      "source": [
        "Message Protocol"
      ],
      "metadata": {
        "id": "3XbK0MHaVrJf"
      }
    },
    {
      "cell_type": "code",
      "source": [
        "@dataclass\n",
        "class Message:\n",
        "    content: str\n"
      ],
      "metadata": {
        "id": "PwZcRLtyVoQn"
      },
      "execution_count": 4,
      "outputs": []
    },
    {
      "cell_type": "markdown",
      "source": [
        "Topics"
      ],
      "metadata": {
        "id": "MTVequ7QVwYF"
      }
    },
    {
      "cell_type": "code",
      "source": [
        "concept_extractor_topic_type = \"ConceptExtractorAgent\"\n",
        "writer_topic_type = \"WriterAgent\"\n",
        "format_proof_topic_type = \"FormatProofAgent\"\n",
        "user_topic_type = \"User\"\n"
      ],
      "metadata": {
        "id": "cLLBrS-nVxQC"
      },
      "execution_count": 5,
      "outputs": []
    },
    {
      "cell_type": "markdown",
      "source": [
        "Agents"
      ],
      "metadata": {
        "id": "pi_61PUkVzX9"
      }
    },
    {
      "cell_type": "code",
      "source": [
        "@type_subscription(topic_type=concept_extractor_topic_type)\n",
        "class ConceptExtractorAgent(RoutedAgent):\n",
        "    def __init__(self, model_client: ChatCompletionClient) -> None:\n",
        "        super().__init__(\"A concept extractor agent.\")\n",
        "        self._system_message = SystemMessage(\n",
        "            content=(\n",
        "                \"You are a marketing analyst. Given a product description, identify:\\n\"\n",
        "                \"- Key features\\n\"\n",
        "                \"- Target audience\\n\"\n",
        "                \"- Unique selling points\\n\\n\"\n",
        "            )\n",
        "        )\n",
        "        self._model_client = model_client\n",
        "\n",
        "    @message_handler\n",
        "    async def handle_user_description(self, message: Message, ctx: MessageContext) -> None:\n",
        "        prompt = f\"Product description: {message.content}\"\n",
        "        llm_result = await self._model_client.create(\n",
        "            messages=[self._system_message, UserMessage(content=prompt, source=self.id.key)],\n",
        "            cancellation_token=ctx.cancellation_token,\n",
        "        )\n",
        "        response = llm_result.content\n",
        "        assert isinstance(response, str)\n",
        "        print(f\"{'-'*80}\\n{self.id.type}:\\n{response}\")\n",
        "\n",
        "        await self.publish_message(Message(response), topic_id=TopicId(writer_topic_type, source=self.id.key))\n"
      ],
      "metadata": {
        "id": "lGp2giisV1VY"
      },
      "execution_count": 6,
      "outputs": []
    },
    {
      "cell_type": "markdown",
      "source": [
        "The writer agent performs writing."
      ],
      "metadata": {
        "id": "vgEM1cm4V7-D"
      }
    },
    {
      "cell_type": "code",
      "source": [
        "@type_subscription(topic_type=writer_topic_type)\n",
        "class WriterAgent(RoutedAgent):\n",
        "    def __init__(self, model_client: ChatCompletionClient) -> None:\n",
        "        super().__init__(\"A writer agent.\")\n",
        "        self._system_message = SystemMessage(\n",
        "            content=(\n",
        "                \"You are a marketing copywriter. Given a block of text describing features, audience, and USPs, \"\n",
        "                \"compose a compelling marketing copy (like a newsletter section) that highlights these points. \"\n",
        "                \"Output should be short (around 150 words), output just the copy as a single text block.\"\n",
        "            )\n",
        "        )\n",
        "        self._model_client = model_client\n",
        "\n",
        "    @message_handler\n",
        "    async def handle_intermediate_text(self, message: Message, ctx: MessageContext) -> None:\n",
        "        prompt = f\"Below is the info about the product:\\n\\n{message.content}\"\n",
        "\n",
        "        llm_result = await self._model_client.create(\n",
        "            messages=[self._system_message, UserMessage(content=prompt, source=self.id.key)],\n",
        "            cancellation_token=ctx.cancellation_token,\n",
        "        )\n",
        "        response = llm_result.content\n",
        "        assert isinstance(response, str)\n",
        "        print(f\"{'-'*80}\\n{self.id.type}:\\n{response}\")\n",
        "\n",
        "        await self.publish_message(Message(response), topic_id=TopicId(format_proof_topic_type, source=self.id.key))\n"
      ],
      "metadata": {
        "id": "Q1gL5HfEV8sn"
      },
      "execution_count": 7,
      "outputs": []
    },
    {
      "cell_type": "markdown",
      "source": [
        "The format proof agent performs the formatting."
      ],
      "metadata": {
        "id": "cX48jhP7V-0p"
      }
    },
    {
      "cell_type": "code",
      "source": [
        "@type_subscription(topic_type=format_proof_topic_type)\n",
        "class FormatProofAgent(RoutedAgent):\n",
        "    def __init__(self, model_client: ChatCompletionClient) -> None:\n",
        "        super().__init__(\"A format & proof agent.\")\n",
        "        self._system_message = SystemMessage(\n",
        "            content=(\n",
        "                \"You are an editor. Given the draft copy, correct grammar, improve clarity, ensure consistent tone, \"\n",
        "                \"give format and make it polished. Output the final improved copy as a single text block.\"\n",
        "            )\n",
        "        )\n",
        "        self._model_client = model_client\n",
        "\n",
        "    @message_handler\n",
        "    async def handle_intermediate_text(self, message: Message, ctx: MessageContext) -> None:\n",
        "        prompt = f\"Draft copy:\\n{message.content}.\"\n",
        "        llm_result = await self._model_client.create(\n",
        "            messages=[self._system_message, UserMessage(content=prompt, source=self.id.key)],\n",
        "            cancellation_token=ctx.cancellation_token,\n",
        "        )\n",
        "        response = llm_result.content\n",
        "        assert isinstance(response, str)\n",
        "        print(f\"{'-'*80}\\n{self.id.type}:\\n{response}\")\n",
        "\n",
        "        await self.publish_message(Message(response), topic_id=TopicId(user_topic_type, source=self.id.key))\n"
      ],
      "metadata": {
        "id": "tWgVQS-yWBr4"
      },
      "execution_count": 8,
      "outputs": []
    },
    {
      "cell_type": "code",
      "source": [
        "@type_subscription(topic_type=user_topic_type)\n",
        "class UserAgent(RoutedAgent):\n",
        "    def __init__(self) -> None:\n",
        "        super().__init__(\"A user agent that outputs the final copy to the user.\")\n",
        "\n",
        "    @message_handler\n",
        "    async def handle_final_copy(self, message: Message, ctx: MessageContext) -> None:\n",
        "        print(f\"\\n{'-'*80}\\n{self.id.type} received final copy:\\n{message.content}\")\n"
      ],
      "metadata": {
        "id": "XUoI9e3AWH70"
      },
      "execution_count": 9,
      "outputs": []
    },
    {
      "cell_type": "markdown",
      "source": [
        "Workflow"
      ],
      "metadata": {
        "id": "OL8DbEAqWKW1"
      }
    },
    {
      "cell_type": "code",
      "source": [
        "model_client = OpenAIChatCompletionClient(\n",
        "    model=\"gpt-4o-mini\",\n",
        "    # api_key=\"YOUR_API_KEY\"\n",
        ")\n",
        "\n",
        "runtime = SingleThreadedAgentRuntime()\n",
        "\n",
        "await ConceptExtractorAgent.register(\n",
        "    runtime, type=concept_extractor_topic_type, factory=lambda: ConceptExtractorAgent(model_client=model_client)\n",
        ")\n",
        "\n",
        "await WriterAgent.register(runtime, type=writer_topic_type, factory=lambda: WriterAgent(model_client=model_client))\n",
        "\n",
        "await FormatProofAgent.register(\n",
        "    runtime, type=format_proof_topic_type, factory=lambda: FormatProofAgent(model_client=model_client)\n",
        ")\n",
        "\n",
        "await UserAgent.register(runtime, type=user_topic_type, factory=lambda: UserAgent())\n"
      ],
      "metadata": {
        "id": "jHCWhqsYWLYH",
        "outputId": "daf382ab-c5ed-47c7-c6e4-936ab50bb3f1",
        "colab": {
          "base_uri": "https://localhost:8080/"
        }
      },
      "execution_count": 10,
      "outputs": [
        {
          "output_type": "execute_result",
          "data": {
            "text/plain": [
              "AgentType(type='User')"
            ]
          },
          "metadata": {},
          "execution_count": 10
        }
      ]
    },
    {
      "cell_type": "markdown",
      "source": [
        "Run the Workflow"
      ],
      "metadata": {
        "id": "2U161nliWQnk"
      }
    },
    {
      "cell_type": "code",
      "source": [
        "runtime.start()\n",
        "\n",
        "await runtime.publish_message(\n",
        "    Message(content=\"An eco-friendly stainless steel water bottle that keeps drinks cold for 24 hours\"),\n",
        "    topic_id=TopicId(concept_extractor_topic_type, source=\"default\"),\n",
        ")\n",
        "\n",
        "await runtime.stop_when_idle()"
      ],
      "metadata": {
        "id": "Ca4dm53ZWQL_",
        "outputId": "fa18fc59-b7e7-4fb5-af49-08eb3a40a932",
        "colab": {
          "base_uri": "https://localhost:8080/"
        }
      },
      "execution_count": 11,
      "outputs": [
        {
          "output_type": "stream",
          "name": "stdout",
          "text": [
            "--------------------------------------------------------------------------------\n",
            "ConceptExtractorAgent:\n",
            "**Key Features:**\n",
            "- Made from eco-friendly materials (stainless steel)\n",
            "- Insulated design that keeps beverages cold for 24 hours\n",
            "- Durable and reusable, reducing single-use plastic waste\n",
            "- Leak-proof lid to prevent spills\n",
            "- Various sizes and colors available for personalization\n",
            "\n",
            "**Target Audience:**\n",
            "- Environmentally conscious consumers looking for sustainable products\n",
            "- Active individuals and outdoor enthusiasts who need hydration on the go\n",
            "- Health-conscious people who prefer drinking from stainless steel over plastic\n",
            "- Students and professionals who seek stylish and functional hydration solutions\n",
            "\n",
            "**Unique Selling Points:**\n",
            "- Eco-friendly construction appeals to consumers prioritizing sustainability\n",
            "- Extended temperature retention for those needing cold beverages throughout the day\n",
            "- Durable and leak-proof design makes it suitable for various activities (commuting, hiking, gym)\n",
            "- Aesthetic variety for personal expression while promoting environmental responsibility\n",
            "--------------------------------------------------------------------------------\n",
            "WriterAgent:\n",
            "🌿 Elevate Your Hydration Game with Our Eco-Friendly Water Bottles! 🌊 \n",
            "\n",
            "For the environmentally conscious and active individuals, we present a stylish hydration solution that stands the test of time—our insulated water bottles are crafted from durable stainless steel, ensuring your beverages stay ice-cold for a remarkable 24 hours! Say goodbye to single-use plastics and hello to a sustainable lifestyle, all while showcasing your unique style with a variety of colors and sizes for personalization. \n",
            "\n",
            "Designed for the student, the professional, and the outdoor enthusiast, our leak-proof bottles keep your drinks secure—whether you’re biking to work, hiking your favorite trail, or hitting the gym. Join the eco-revolution and express your commitment to the planet without sacrificing style or function. Choose sustainability without compromise—get your eco-friendly water bottle today! 💧✨\n",
            "--------------------------------------------------------------------------------\n",
            "FormatProofAgent:\n",
            "🌿 Elevate Your Hydration Game with Our Eco-Friendly Water Bottles! 🌊\n",
            "\n",
            "Introducing a stylish hydration solution for environmentally conscious and active individuals—our insulated water bottles are crafted from durable stainless steel, ensuring your beverages stay ice-cold for an impressive 24 hours! Say goodbye to single-use plastics and embrace a sustainable lifestyle, all while expressing your unique style with a variety of colors and sizes to choose from.\n",
            "\n",
            "Designed for students, professionals, and outdoor enthusiasts alike, our leak-proof bottles keep your drinks secure whether you’re biking to work, hiking your favorite trail, or hitting the gym. Join the eco-revolution and demonstrate your commitment to the planet without sacrificing style or functionality. Choose sustainability without compromise—get your eco-friendly water bottle today! 💧✨\n",
            "\n",
            "--------------------------------------------------------------------------------\n",
            "User received final copy:\n",
            "🌿 Elevate Your Hydration Game with Our Eco-Friendly Water Bottles! 🌊\n",
            "\n",
            "Introducing a stylish hydration solution for environmentally conscious and active individuals—our insulated water bottles are crafted from durable stainless steel, ensuring your beverages stay ice-cold for an impressive 24 hours! Say goodbye to single-use plastics and embrace a sustainable lifestyle, all while expressing your unique style with a variety of colors and sizes to choose from.\n",
            "\n",
            "Designed for students, professionals, and outdoor enthusiasts alike, our leak-proof bottles keep your drinks secure whether you’re biking to work, hiking your favorite trail, or hitting the gym. Join the eco-revolution and demonstrate your commitment to the planet without sacrificing style or functionality. Choose sustainability without compromise—get your eco-friendly water bottle today! 💧✨\n"
          ]
        }
      ]
    }
  ]
}