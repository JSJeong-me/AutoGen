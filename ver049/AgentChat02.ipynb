{
  "nbformat": 4,
  "nbformat_minor": 0,
  "metadata": {
    "colab": {
      "provenance": [],
      "gpuType": "T4",
      "authorship_tag": "ABX9TyOtHGL1iRf1bPWGo93yYwcX",
      "include_colab_link": true
    },
    "kernelspec": {
      "name": "python3",
      "display_name": "Python 3"
    },
    "language_info": {
      "name": "python"
    },
    "accelerator": "GPU"
  },
  "cells": [
    {
      "cell_type": "markdown",
      "metadata": {
        "id": "view-in-github",
        "colab_type": "text"
      },
      "source": [
        "<a href=\"https://colab.research.google.com/github/JSJeong-me/AutoGen/blob/main/ver049/AgentChat02.ipynb\" target=\"_parent\"><img src=\"https://colab.research.google.com/assets/colab-badge.svg\" alt=\"Open In Colab\"/></a>"
      ]
    },
    {
      "cell_type": "code",
      "execution_count": 1,
      "metadata": {
        "colab": {
          "base_uri": "https://localhost:8080/"
        },
        "id": "7jWtQtmpGJ2w",
        "outputId": "6b779696-28b9-47e5-b8d6-0fceafda0636"
      },
      "outputs": [
        {
          "output_type": "stream",
          "name": "stdout",
          "text": [
            "Collecting autogen-agentchat\n",
            "  Downloading autogen_agentchat-0.4.9.2-py3-none-any.whl.metadata (2.5 kB)\n",
            "Collecting autogen-ext[openai]\n",
            "  Downloading autogen_ext-0.4.9.2-py3-none-any.whl.metadata (6.2 kB)\n",
            "Collecting autogen-core==0.4.9.2 (from autogen-agentchat)\n",
            "  Downloading autogen_core-0.4.9.2-py3-none-any.whl.metadata (2.3 kB)\n",
            "Collecting jsonref~=1.1.0 (from autogen-core==0.4.9.2->autogen-agentchat)\n",
            "  Downloading jsonref-1.1.0-py3-none-any.whl.metadata (2.7 kB)\n",
            "Requirement already satisfied: opentelemetry-api>=1.27.0 in /usr/local/lib/python3.11/dist-packages (from autogen-core==0.4.9.2->autogen-agentchat) (1.31.0)\n",
            "Requirement already satisfied: pillow>=11.0.0 in /usr/local/lib/python3.11/dist-packages (from autogen-core==0.4.9.2->autogen-agentchat) (11.1.0)\n",
            "Requirement already satisfied: protobuf~=5.29.3 in /usr/local/lib/python3.11/dist-packages (from autogen-core==0.4.9.2->autogen-agentchat) (5.29.3)\n",
            "Requirement already satisfied: pydantic<3.0.0,>=2.10.0 in /usr/local/lib/python3.11/dist-packages (from autogen-core==0.4.9.2->autogen-agentchat) (2.10.6)\n",
            "Requirement already satisfied: typing-extensions>=4.0.0 in /usr/local/lib/python3.11/dist-packages (from autogen-core==0.4.9.2->autogen-agentchat) (4.12.2)\n",
            "Collecting aiofiles (from autogen-ext[openai])\n",
            "  Downloading aiofiles-24.1.0-py3-none-any.whl.metadata (10 kB)\n",
            "Requirement already satisfied: openai>=1.52.2 in /usr/local/lib/python3.11/dist-packages (from autogen-ext[openai]) (1.66.3)\n",
            "Collecting tiktoken>=0.8.0 (from autogen-ext[openai])\n",
            "  Downloading tiktoken-0.9.0-cp311-cp311-manylinux_2_17_x86_64.manylinux2014_x86_64.whl.metadata (6.7 kB)\n",
            "Requirement already satisfied: anyio<5,>=3.5.0 in /usr/local/lib/python3.11/dist-packages (from openai>=1.52.2->autogen-ext[openai]) (4.9.0)\n",
            "Requirement already satisfied: distro<2,>=1.7.0 in /usr/local/lib/python3.11/dist-packages (from openai>=1.52.2->autogen-ext[openai]) (1.9.0)\n",
            "Requirement already satisfied: httpx<1,>=0.23.0 in /usr/local/lib/python3.11/dist-packages (from openai>=1.52.2->autogen-ext[openai]) (0.28.1)\n",
            "Requirement already satisfied: jiter<1,>=0.4.0 in /usr/local/lib/python3.11/dist-packages (from openai>=1.52.2->autogen-ext[openai]) (0.9.0)\n",
            "Requirement already satisfied: sniffio in /usr/local/lib/python3.11/dist-packages (from openai>=1.52.2->autogen-ext[openai]) (1.3.1)\n",
            "Requirement already satisfied: tqdm>4 in /usr/local/lib/python3.11/dist-packages (from openai>=1.52.2->autogen-ext[openai]) (4.67.1)\n",
            "Requirement already satisfied: regex>=2022.1.18 in /usr/local/lib/python3.11/dist-packages (from tiktoken>=0.8.0->autogen-ext[openai]) (2024.11.6)\n",
            "Requirement already satisfied: requests>=2.26.0 in /usr/local/lib/python3.11/dist-packages (from tiktoken>=0.8.0->autogen-ext[openai]) (2.32.3)\n",
            "Requirement already satisfied: idna>=2.8 in /usr/local/lib/python3.11/dist-packages (from anyio<5,>=3.5.0->openai>=1.52.2->autogen-ext[openai]) (3.10)\n",
            "Requirement already satisfied: certifi in /usr/local/lib/python3.11/dist-packages (from httpx<1,>=0.23.0->openai>=1.52.2->autogen-ext[openai]) (2025.1.31)\n",
            "Requirement already satisfied: httpcore==1.* in /usr/local/lib/python3.11/dist-packages (from httpx<1,>=0.23.0->openai>=1.52.2->autogen-ext[openai]) (1.0.7)\n",
            "Requirement already satisfied: h11<0.15,>=0.13 in /usr/local/lib/python3.11/dist-packages (from httpcore==1.*->httpx<1,>=0.23.0->openai>=1.52.2->autogen-ext[openai]) (0.14.0)\n",
            "Requirement already satisfied: deprecated>=1.2.6 in /usr/local/lib/python3.11/dist-packages (from opentelemetry-api>=1.27.0->autogen-core==0.4.9.2->autogen-agentchat) (1.2.18)\n",
            "Requirement already satisfied: importlib-metadata<8.7.0,>=6.0 in /usr/local/lib/python3.11/dist-packages (from opentelemetry-api>=1.27.0->autogen-core==0.4.9.2->autogen-agentchat) (8.6.1)\n",
            "Requirement already satisfied: annotated-types>=0.6.0 in /usr/local/lib/python3.11/dist-packages (from pydantic<3.0.0,>=2.10.0->autogen-core==0.4.9.2->autogen-agentchat) (0.7.0)\n",
            "Requirement already satisfied: pydantic-core==2.27.2 in /usr/local/lib/python3.11/dist-packages (from pydantic<3.0.0,>=2.10.0->autogen-core==0.4.9.2->autogen-agentchat) (2.27.2)\n",
            "Requirement already satisfied: charset-normalizer<4,>=2 in /usr/local/lib/python3.11/dist-packages (from requests>=2.26.0->tiktoken>=0.8.0->autogen-ext[openai]) (3.4.1)\n",
            "Requirement already satisfied: urllib3<3,>=1.21.1 in /usr/local/lib/python3.11/dist-packages (from requests>=2.26.0->tiktoken>=0.8.0->autogen-ext[openai]) (2.3.0)\n",
            "Requirement already satisfied: wrapt<2,>=1.10 in /usr/local/lib/python3.11/dist-packages (from deprecated>=1.2.6->opentelemetry-api>=1.27.0->autogen-core==0.4.9.2->autogen-agentchat) (1.17.2)\n",
            "Requirement already satisfied: zipp>=3.20 in /usr/local/lib/python3.11/dist-packages (from importlib-metadata<8.7.0,>=6.0->opentelemetry-api>=1.27.0->autogen-core==0.4.9.2->autogen-agentchat) (3.21.0)\n",
            "Downloading autogen_agentchat-0.4.9.2-py3-none-any.whl (75 kB)\n",
            "\u001b[2K   \u001b[90m━━━━━━━━━━━━━━━━━━━━━━━━━━━━━━━━━━━━━━━━\u001b[0m \u001b[32m75.9/75.9 kB\u001b[0m \u001b[31m2.9 MB/s\u001b[0m eta \u001b[36m0:00:00\u001b[0m\n",
            "\u001b[?25hDownloading autogen_core-0.4.9.2-py3-none-any.whl (83 kB)\n",
            "\u001b[2K   \u001b[90m━━━━━━━━━━━━━━━━━━━━━━━━━━━━━━━━━━━━━━━━\u001b[0m \u001b[32m83.9/83.9 kB\u001b[0m \u001b[31m4.9 MB/s\u001b[0m eta \u001b[36m0:00:00\u001b[0m\n",
            "\u001b[?25hDownloading tiktoken-0.9.0-cp311-cp311-manylinux_2_17_x86_64.manylinux2014_x86_64.whl (1.2 MB)\n",
            "\u001b[2K   \u001b[90m━━━━━━━━━━━━━━━━━━━━━━━━━━━━━━━━━━━━━━━━\u001b[0m \u001b[32m1.2/1.2 MB\u001b[0m \u001b[31m31.2 MB/s\u001b[0m eta \u001b[36m0:00:00\u001b[0m\n",
            "\u001b[?25hDownloading aiofiles-24.1.0-py3-none-any.whl (15 kB)\n",
            "Downloading autogen_ext-0.4.9.2-py3-none-any.whl (234 kB)\n",
            "\u001b[2K   \u001b[90m━━━━━━━━━━━━━━━━━━━━━━━━━━━━━━━━━━━━━━━━\u001b[0m \u001b[32m234.2/234.2 kB\u001b[0m \u001b[31m18.1 MB/s\u001b[0m eta \u001b[36m0:00:00\u001b[0m\n",
            "\u001b[?25hDownloading jsonref-1.1.0-py3-none-any.whl (9.4 kB)\n",
            "Installing collected packages: jsonref, aiofiles, tiktoken, autogen-core, autogen-ext, autogen-agentchat\n",
            "Successfully installed aiofiles-24.1.0 autogen-agentchat-0.4.9.2 autogen-core-0.4.9.2 autogen-ext-0.4.9.2 jsonref-1.1.0 tiktoken-0.9.0\n"
          ]
        }
      ],
      "source": [
        "!pip install -U \"autogen-agentchat\" \"autogen-ext[openai]\""
      ]
    },
    {
      "cell_type": "code",
      "source": [
        "from google.colab import userdata\n",
        "import openai\n",
        "import os\n",
        "\n",
        "os.environ[\"OPENAI_API_KEY\"] = userdata.get('OPENAI_API_KEY')\n",
        "openai.api_key  = os.environ[\"OPENAI_API_KEY\"]"
      ],
      "metadata": {
        "id": "FvIlE3bBGrbc"
      },
      "execution_count": 2,
      "outputs": []
    },
    {
      "cell_type": "code",
      "source": [
        "from autogen_agentchat.agents import AssistantAgent\n",
        "from autogen_agentchat.ui import Console\n",
        "from autogen_ext.models.openai import OpenAIChatCompletionClient\n",
        "\n",
        "# Define a model client. You can use other model client that implements\n",
        "# the `ChatCompletionClient` interface.\n",
        "model_client = OpenAIChatCompletionClient(\n",
        "    model=\"gpt-4o\",\n",
        "    # api_key=\"YOUR_API_KEY\",\n",
        ")\n",
        "\n",
        "\n",
        "# Define a simple function tool that the agent can use.\n",
        "# For this example, we use a fake weather tool for demonstration purposes.\n",
        "async def get_weather(city: str) -> str:\n",
        "    \"\"\"Get the weather for a given city.\"\"\"\n",
        "    return f\"The weather in {city} is 73 degrees and Sunny.\"\n",
        "\n",
        "\n",
        "# Define an AssistantAgent with the model, tool, system message, and reflection enabled.\n",
        "# The system message instructs the agent via natural language.\n",
        "agent = AssistantAgent(\n",
        "    name=\"weather_agent\",\n",
        "    model_client=model_client,\n",
        "    tools=[get_weather],\n",
        "    system_message=\"You are a helpful assistant.\",\n",
        "    reflect_on_tool_use=True,\n",
        "    model_client_stream=True,  # Enable streaming tokens from the model client.\n",
        ")\n",
        "\n",
        "\n",
        "# Run the agent and stream the messages to the console.\n",
        "async def main() -> None:\n",
        "    await Console(agent.run_stream(task=\"What is the weather in New York?\"))\n",
        "\n",
        "\n",
        "# NOTE: if running this inside a Python script you'll need to use asyncio.run(main()).\n",
        "await main()\n"
      ],
      "metadata": {
        "colab": {
          "base_uri": "https://localhost:8080/"
        },
        "id": "DiUkB2SYGo4d",
        "outputId": "57e74b96-2500-46de-b560-e04c51913934"
      },
      "execution_count": 3,
      "outputs": [
        {
          "output_type": "stream",
          "name": "stdout",
          "text": [
            "---------- user ----------\n",
            "What is the weather in New York?\n",
            "---------- weather_agent ----------\n",
            "[FunctionCall(id='call_u9h4Rzj918e1prrK8zgIIQeR', arguments='{\"city\":\"New York\"}', name='get_weather')]\n",
            "---------- weather_agent ----------\n",
            "[FunctionExecutionResult(content='The weather in New York is 73 degrees and Sunny.', name='get_weather', call_id='call_u9h4Rzj918e1prrK8zgIIQeR', is_error=False)]\n",
            "---------- weather_agent ----------\n",
            "The current weather in New York is 73 degrees and sunny.\n"
          ]
        }
      ]
    },
    {
      "cell_type": "code",
      "source": [
        "import asyncio\n",
        "from autogen_agentchat.agents import AssistantAgent, CodeExecutorAgent\n",
        "from autogen_agentchat.teams import RoundRobinGroupChat\n",
        "from autogen_agentchat.conditions import TextMentionTermination, MaxMessageTermination\n",
        "from autogen_agentchat.ui import Console\n",
        "from autogen_ext.code_executors.local import LocalCommandLineCodeExecutor\n",
        "from autogen_ext.models.openai import OpenAIChatCompletionClient\n",
        "\n",
        "async def main() -> None:\n",
        "    model_client = OpenAIChatCompletionClient(model=\"gpt-4o\", seed=42, temperature=0)\n",
        "\n",
        "    assistant = AssistantAgent(\n",
        "        name=\"assistant\",\n",
        "        system_message=\"You are a helpful assistant. Write all code in python. Reply only 'TERMINATE' if the task is done.\",\n",
        "        model_client=model_client,\n",
        "    )\n",
        "\n",
        "    code_executor = CodeExecutorAgent(\n",
        "        name=\"code_executor\",\n",
        "        code_executor=LocalCommandLineCodeExecutor(work_dir=\"coding\"),\n",
        "    )\n",
        "\n",
        "    # The termination condition is a combination of text termination and max message termination, either of which will cause the chat to terminate.\n",
        "    termination = TextMentionTermination(\"TERMINATE\") | MaxMessageTermination(10)\n",
        "\n",
        "    # The group chat will alternate between the assistant and the code executor.\n",
        "    group_chat = RoundRobinGroupChat([assistant, code_executor], termination_condition=termination)\n",
        "\n",
        "    # `run_stream` returns an async generator to stream the intermediate messages.\n",
        "    stream = group_chat.run_stream(task=\"Write a python script to print 'Hello, world!'\")\n",
        "    # `Console` is a simple UI to display the stream.\n",
        "    await Console(stream)\n",
        "\n",
        "# asyncio.run(main())\n"
      ],
      "metadata": {
        "id": "GK3Uex0nIaQV"
      },
      "execution_count": null,
      "outputs": []
    },
    {
      "cell_type": "code",
      "source": [
        "# NOTE: if running this inside a Python script you'll need to use asyncio.run(main()).\n",
        "await main()"
      ],
      "metadata": {
        "colab": {
          "base_uri": "https://localhost:8080/"
        },
        "id": "rYSYXDbqIoTJ",
        "outputId": "006761ef-ddab-4f57-8f40-8cf41b1ef253"
      },
      "execution_count": 4,
      "outputs": [
        {
          "output_type": "stream",
          "name": "stdout",
          "text": [
            "---------- user ----------\n",
            "Write a python script to print 'Hello, world!'\n",
            "---------- assistant ----------\n",
            "```python\n",
            "print('Hello, world!')\n",
            "```\n",
            "---------- code_executor ----------\n",
            "Hello, world!\n",
            "\n",
            "---------- assistant ----------\n",
            "TERMINATE\n"
          ]
        }
      ]
    },
    {
      "cell_type": "code",
      "source": [
        "# !pip install autogen-agentchat"
      ],
      "metadata": {
        "id": "oQMUymqmJggi"
      },
      "execution_count": null,
      "outputs": []
    },
    {
      "cell_type": "code",
      "source": [
        "# !pip install autogen"
      ],
      "metadata": {
        "id": "WQnkgNjtJuT-"
      },
      "execution_count": null,
      "outputs": []
    },
    {
      "cell_type": "code",
      "source": [
        "# from autogen.agentchat import AssistantAgent, UserProxyAgent, register_function\n",
        "\n",
        "# llm_config = {\n",
        "#     \"config_list\": [{\"model\": \"gpt-4o\", \"api_key\": \"sk-xxx\"}],\n",
        "#     \"seed\": 42,\n",
        "#     \"temperature\": 0,\n",
        "# }\n",
        "\n",
        "# tool_caller = AssistantAgent(\n",
        "#     name=\"tool_caller\",\n",
        "#     system_message=\"You are a helpful assistant. You can call tools to help user.\",\n",
        "#     llm_config=llm_config,\n",
        "#     max_consecutive_auto_reply=1, # Set to 1 so that we return to the application after each assistant reply as we are building a chatbot.\n",
        "# )\n",
        "\n",
        "# tool_executor = UserProxyAgent(\n",
        "#     name=\"tool_executor\",\n",
        "#     human_input_mode=\"NEVER\",\n",
        "#     code_execution_config=False,\n",
        "#     llm_config=False,\n",
        "# )\n",
        "\n",
        "# def get_weather(city: str) -> str:\n",
        "#     return f\"The weather in {city} is 72 degree and sunny.\"\n",
        "\n",
        "# # Register the tool function to the tool caller and executor.\n",
        "# register_function(get_weather, caller=tool_caller, executor=tool_executor)\n",
        "\n",
        "# while True:\n",
        "#     user_input = input(\"User: \")\n",
        "#     if user_input == \"exit\":\n",
        "#         break\n",
        "#     chat_result = tool_executor.initiate_chat(\n",
        "#         tool_caller,\n",
        "#         message=user_input,\n",
        "#         summary_method=\"reflection_with_llm\", # To let the model reflect on the tool use, set to \"last_msg\" to return the tool call result directly.\n",
        "#     )\n",
        "#     print(\"Assistant:\", chat_result.summary)\n"
      ],
      "metadata": {
        "id": "17l3ohi1JXtI"
      },
      "execution_count": null,
      "outputs": []
    }
  ]
}