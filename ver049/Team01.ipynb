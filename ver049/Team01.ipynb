{
  "nbformat": 4,
  "nbformat_minor": 0,
  "metadata": {
    "colab": {
      "provenance": [],
      "gpuType": "T4",
      "authorship_tag": "ABX9TyMVOG+h7p6ugDdnDeS4TSGw",
      "include_colab_link": true
    },
    "kernelspec": {
      "name": "python3",
      "display_name": "Python 3"
    },
    "language_info": {
      "name": "python"
    },
    "accelerator": "GPU"
  },
  "cells": [
    {
      "cell_type": "markdown",
      "metadata": {
        "id": "view-in-github",
        "colab_type": "text"
      },
      "source": [
        "<a href=\"https://colab.research.google.com/github/JSJeong-me/AutoGen/blob/main/ver049/Team01.ipynb\" target=\"_parent\"><img src=\"https://colab.research.google.com/assets/colab-badge.svg\" alt=\"Open In Colab\"/></a>"
      ]
    },
    {
      "cell_type": "code",
      "execution_count": 1,
      "metadata": {
        "colab": {
          "base_uri": "https://localhost:8080/"
        },
        "id": "7jWtQtmpGJ2w",
        "outputId": "06283a70-ead3-4a6c-efbf-da8451d4d423"
      },
      "outputs": [
        {
          "output_type": "stream",
          "name": "stdout",
          "text": [
            "Collecting autogen-agentchat\n",
            "  Downloading autogen_agentchat-0.4.9.2-py3-none-any.whl.metadata (2.5 kB)\n",
            "Collecting autogen-ext[openai]\n",
            "  Downloading autogen_ext-0.4.9.2-py3-none-any.whl.metadata (6.2 kB)\n",
            "Collecting autogen-core==0.4.9.2 (from autogen-agentchat)\n",
            "  Downloading autogen_core-0.4.9.2-py3-none-any.whl.metadata (2.3 kB)\n",
            "Collecting jsonref~=1.1.0 (from autogen-core==0.4.9.2->autogen-agentchat)\n",
            "  Downloading jsonref-1.1.0-py3-none-any.whl.metadata (2.7 kB)\n",
            "Requirement already satisfied: opentelemetry-api>=1.27.0 in /usr/local/lib/python3.11/dist-packages (from autogen-core==0.4.9.2->autogen-agentchat) (1.31.0)\n",
            "Requirement already satisfied: pillow>=11.0.0 in /usr/local/lib/python3.11/dist-packages (from autogen-core==0.4.9.2->autogen-agentchat) (11.1.0)\n",
            "Requirement already satisfied: protobuf~=5.29.3 in /usr/local/lib/python3.11/dist-packages (from autogen-core==0.4.9.2->autogen-agentchat) (5.29.3)\n",
            "Requirement already satisfied: pydantic<3.0.0,>=2.10.0 in /usr/local/lib/python3.11/dist-packages (from autogen-core==0.4.9.2->autogen-agentchat) (2.10.6)\n",
            "Requirement already satisfied: typing-extensions>=4.0.0 in /usr/local/lib/python3.11/dist-packages (from autogen-core==0.4.9.2->autogen-agentchat) (4.12.2)\n",
            "Collecting aiofiles (from autogen-ext[openai])\n",
            "  Downloading aiofiles-24.1.0-py3-none-any.whl.metadata (10 kB)\n",
            "Requirement already satisfied: openai>=1.52.2 in /usr/local/lib/python3.11/dist-packages (from autogen-ext[openai]) (1.66.3)\n",
            "Collecting tiktoken>=0.8.0 (from autogen-ext[openai])\n",
            "  Downloading tiktoken-0.9.0-cp311-cp311-manylinux_2_17_x86_64.manylinux2014_x86_64.whl.metadata (6.7 kB)\n",
            "Requirement already satisfied: anyio<5,>=3.5.0 in /usr/local/lib/python3.11/dist-packages (from openai>=1.52.2->autogen-ext[openai]) (4.9.0)\n",
            "Requirement already satisfied: distro<2,>=1.7.0 in /usr/local/lib/python3.11/dist-packages (from openai>=1.52.2->autogen-ext[openai]) (1.9.0)\n",
            "Requirement already satisfied: httpx<1,>=0.23.0 in /usr/local/lib/python3.11/dist-packages (from openai>=1.52.2->autogen-ext[openai]) (0.28.1)\n",
            "Requirement already satisfied: jiter<1,>=0.4.0 in /usr/local/lib/python3.11/dist-packages (from openai>=1.52.2->autogen-ext[openai]) (0.9.0)\n",
            "Requirement already satisfied: sniffio in /usr/local/lib/python3.11/dist-packages (from openai>=1.52.2->autogen-ext[openai]) (1.3.1)\n",
            "Requirement already satisfied: tqdm>4 in /usr/local/lib/python3.11/dist-packages (from openai>=1.52.2->autogen-ext[openai]) (4.67.1)\n",
            "Requirement already satisfied: regex>=2022.1.18 in /usr/local/lib/python3.11/dist-packages (from tiktoken>=0.8.0->autogen-ext[openai]) (2024.11.6)\n",
            "Requirement already satisfied: requests>=2.26.0 in /usr/local/lib/python3.11/dist-packages (from tiktoken>=0.8.0->autogen-ext[openai]) (2.32.3)\n",
            "Requirement already satisfied: idna>=2.8 in /usr/local/lib/python3.11/dist-packages (from anyio<5,>=3.5.0->openai>=1.52.2->autogen-ext[openai]) (3.10)\n",
            "Requirement already satisfied: certifi in /usr/local/lib/python3.11/dist-packages (from httpx<1,>=0.23.0->openai>=1.52.2->autogen-ext[openai]) (2025.1.31)\n",
            "Requirement already satisfied: httpcore==1.* in /usr/local/lib/python3.11/dist-packages (from httpx<1,>=0.23.0->openai>=1.52.2->autogen-ext[openai]) (1.0.7)\n",
            "Requirement already satisfied: h11<0.15,>=0.13 in /usr/local/lib/python3.11/dist-packages (from httpcore==1.*->httpx<1,>=0.23.0->openai>=1.52.2->autogen-ext[openai]) (0.14.0)\n",
            "Requirement already satisfied: deprecated>=1.2.6 in /usr/local/lib/python3.11/dist-packages (from opentelemetry-api>=1.27.0->autogen-core==0.4.9.2->autogen-agentchat) (1.2.18)\n",
            "Requirement already satisfied: importlib-metadata<8.7.0,>=6.0 in /usr/local/lib/python3.11/dist-packages (from opentelemetry-api>=1.27.0->autogen-core==0.4.9.2->autogen-agentchat) (8.6.1)\n",
            "Requirement already satisfied: annotated-types>=0.6.0 in /usr/local/lib/python3.11/dist-packages (from pydantic<3.0.0,>=2.10.0->autogen-core==0.4.9.2->autogen-agentchat) (0.7.0)\n",
            "Requirement already satisfied: pydantic-core==2.27.2 in /usr/local/lib/python3.11/dist-packages (from pydantic<3.0.0,>=2.10.0->autogen-core==0.4.9.2->autogen-agentchat) (2.27.2)\n",
            "Requirement already satisfied: charset-normalizer<4,>=2 in /usr/local/lib/python3.11/dist-packages (from requests>=2.26.0->tiktoken>=0.8.0->autogen-ext[openai]) (3.4.1)\n",
            "Requirement already satisfied: urllib3<3,>=1.21.1 in /usr/local/lib/python3.11/dist-packages (from requests>=2.26.0->tiktoken>=0.8.0->autogen-ext[openai]) (2.3.0)\n",
            "Requirement already satisfied: wrapt<2,>=1.10 in /usr/local/lib/python3.11/dist-packages (from deprecated>=1.2.6->opentelemetry-api>=1.27.0->autogen-core==0.4.9.2->autogen-agentchat) (1.17.2)\n",
            "Requirement already satisfied: zipp>=3.20 in /usr/local/lib/python3.11/dist-packages (from importlib-metadata<8.7.0,>=6.0->opentelemetry-api>=1.27.0->autogen-core==0.4.9.2->autogen-agentchat) (3.21.0)\n",
            "Downloading autogen_agentchat-0.4.9.2-py3-none-any.whl (75 kB)\n",
            "\u001b[2K   \u001b[90m━━━━━━━━━━━━━━━━━━━━━━━━━━━━━━━━━━━━━━━━\u001b[0m \u001b[32m75.9/75.9 kB\u001b[0m \u001b[31m4.3 MB/s\u001b[0m eta \u001b[36m0:00:00\u001b[0m\n",
            "\u001b[?25hDownloading autogen_core-0.4.9.2-py3-none-any.whl (83 kB)\n",
            "\u001b[2K   \u001b[90m━━━━━━━━━━━━━━━━━━━━━━━━━━━━━━━━━━━━━━━━\u001b[0m \u001b[32m83.9/83.9 kB\u001b[0m \u001b[31m4.6 MB/s\u001b[0m eta \u001b[36m0:00:00\u001b[0m\n",
            "\u001b[?25hDownloading tiktoken-0.9.0-cp311-cp311-manylinux_2_17_x86_64.manylinux2014_x86_64.whl (1.2 MB)\n",
            "\u001b[2K   \u001b[90m━━━━━━━━━━━━━━━━━━━━━━━━━━━━━━━━━━━━━━━━\u001b[0m \u001b[32m1.2/1.2 MB\u001b[0m \u001b[31m27.5 MB/s\u001b[0m eta \u001b[36m0:00:00\u001b[0m\n",
            "\u001b[?25hDownloading aiofiles-24.1.0-py3-none-any.whl (15 kB)\n",
            "Downloading autogen_ext-0.4.9.2-py3-none-any.whl (234 kB)\n",
            "\u001b[2K   \u001b[90m━━━━━━━━━━━━━━━━━━━━━━━━━━━━━━━━━━━━━━━━\u001b[0m \u001b[32m234.2/234.2 kB\u001b[0m \u001b[31m10.1 MB/s\u001b[0m eta \u001b[36m0:00:00\u001b[0m\n",
            "\u001b[?25hDownloading jsonref-1.1.0-py3-none-any.whl (9.4 kB)\n",
            "Installing collected packages: jsonref, aiofiles, tiktoken, autogen-core, autogen-ext, autogen-agentchat\n",
            "Successfully installed aiofiles-24.1.0 autogen-agentchat-0.4.9.2 autogen-core-0.4.9.2 autogen-ext-0.4.9.2 jsonref-1.1.0 tiktoken-0.9.0\n"
          ]
        }
      ],
      "source": [
        "!pip install -U \"autogen-agentchat\" \"autogen-ext[openai]\""
      ]
    },
    {
      "cell_type": "code",
      "source": [
        "from google.colab import userdata\n",
        "import openai\n",
        "import os\n",
        "\n",
        "os.environ[\"OPENAI_API_KEY\"] = userdata.get('OPENAI_API_KEY')\n",
        "openai.api_key  = os.environ[\"OPENAI_API_KEY\"]"
      ],
      "metadata": {
        "id": "FvIlE3bBGrbc"
      },
      "execution_count": 2,
      "outputs": []
    },
    {
      "cell_type": "markdown",
      "source": [
        "https://microsoft.github.io/autogen/stable/user-guide/agentchat-user-guide/tutorial/teams.html\n"
      ],
      "metadata": {
        "id": "igQRChFVUNJY"
      }
    },
    {
      "cell_type": "code",
      "source": [
        "import asyncio\n",
        "\n",
        "from autogen_agentchat.agents import AssistantAgent\n",
        "from autogen_agentchat.base import TaskResult\n",
        "from autogen_agentchat.conditions import ExternalTermination, TextMentionTermination\n",
        "from autogen_agentchat.teams import RoundRobinGroupChat\n",
        "from autogen_agentchat.ui import Console\n",
        "from autogen_core import CancellationToken\n",
        "from autogen_ext.models.openai import OpenAIChatCompletionClient\n",
        "\n",
        "# Create an OpenAI model client.\n",
        "model_client = OpenAIChatCompletionClient(\n",
        "    model=\"gpt-4o-2024-08-06\",\n",
        "    # api_key=\"sk-...\", # Optional if you have an OPENAI_API_KEY env variable set.\n",
        ")\n",
        "\n",
        "# Create the primary agent.\n",
        "primary_agent = AssistantAgent(\n",
        "    \"primary\",\n",
        "    model_client=model_client,\n",
        "    system_message=\"You are a helpful AI assistant.\",\n",
        ")\n",
        "\n",
        "# Create the critic agent.\n",
        "critic_agent = AssistantAgent(\n",
        "    \"critic\",\n",
        "    model_client=model_client,\n",
        "    system_message=\"Provide constructive feedback. Respond with 'APPROVE' to when your feedbacks are addressed.\",\n",
        ")\n",
        "\n",
        "# Define a termination condition that stops the task if the critic approves.\n",
        "text_termination = TextMentionTermination(\"APPROVE\")\n",
        "\n",
        "# Create a team with the primary and critic agents.\n",
        "team = RoundRobinGroupChat([primary_agent, critic_agent], termination_condition=text_termination)\n"
      ],
      "metadata": {
        "id": "SeYK-O-nTtF1"
      },
      "execution_count": 3,
      "outputs": []
    },
    {
      "cell_type": "code",
      "source": [
        "# Use `asyncio.run(...)` when running in a script.\n",
        "result = await team.run(task=\"Write a short poem about the fall season.\")\n",
        "print(result)\n"
      ],
      "metadata": {
        "colab": {
          "base_uri": "https://localhost:8080/"
        },
        "id": "ZuTO5cVOT1AI",
        "outputId": "4ddf03f5-c786-443f-e0c6-5eaf1bdb66fe"
      },
      "execution_count": 4,
      "outputs": [
        {
          "output_type": "stream",
          "name": "stdout",
          "text": [
            "TaskResult(messages=[TextMessage(source='user', models_usage=None, metadata={}, content='Write a short poem about the fall season.', type='TextMessage'), TextMessage(source='primary', models_usage=RequestUsage(prompt_tokens=28, completion_tokens=142), metadata={}, content=\"Leaves of amber, gold, and rust  \\nGently flutter, earthward thrust.  \\nCrisp air whispers through the trees,  \\nA symphony of autumn's breeze.  \\n\\nPumpkins glow in orange delight,  \\nHarvest moon ignites the night.  \\nSweaters wrap in cozy embrace,  \\nAs scarves and hats find their place.  \\n\\nAcorns drop with silent grace,  \\nA squirrel's treasure, nature's pace.  \\nBonfires crackle, stories told,  \\nAs daylight dwindles, soft and cold.  \\n\\nThe world adorned in mellow hues,  \\nA tapestry of fall's debut.  \\nIn every leaf, a farewell song,  \\nAs autumn's magic sweeps along.  \", type='TextMessage'), TextMessage(source='critic', models_usage=RequestUsage(prompt_tokens=187, completion_tokens=232), metadata={}, content=\"Your poem beautifully captures the essence of the fall season with vivid imagery and a warm, nostalgic tone. Here are a few suggestions to enhance it further:\\n\\n1. **Rhythm & Flow**: Ensure that the rhythm and meter are consistent throughout. A steady rhythm enhances the musicality of the poem and makes it more enjoyable to read aloud.\\n\\n2. **Imagery & Sensory Details**: While your imagery is evocative, consider incorporating more sensory details to deepen the reader's immersion. For example, describe the specific scents of fall or the textures of leaves and fabrics.\\n\\n3. **Emotional Connection**: Enhance the emotional resonance by reflecting on what makes fall particularly meaningful or special to you personally or universally. This addition can create a deeper connection with your audience.\\n\\n4. **Line Endings**: Experiment with line breaks to add impact and pace to the poem. Strategic line breaks can highlight certain words or phrases, adding a layer of emphasis and nuance.\\n\\nOverall, your poem is a lovely celebration of fall, capturing its beauty and atmosphere. With a few adjustments, it could resonate even more powerfully with readers. Keep up the great work!\", type='TextMessage'), TextMessage(source='primary', models_usage=RequestUsage(prompt_tokens=412, completion_tokens=192), metadata={}, content=\"Thank you for your thoughtful feedback. I've made some adjustments based on your suggestions:\\n\\n---\\n\\nIn amber rustle, leaves descend,  \\nAutumn whispers its amend.  \\nCrisp air carries apple spice,  \\nUnder skies of soft, cool ice.  \\n\\nPumpkin lanterns cast their glow,  \\nUnderneath the moon's gentle show.  \\nSweaters hug with tender care,  \\nScarves and hats in chilled air.  \\n\\nWoodsmoke dances, stories rise,  \\nCrackling warmth beneath the skies.  \\nThe scent of earth, rich and sweet,  \\nCrunching leaves beneath our feet.  \\n\\nNature’s quilt of warm embrace,  \\nIn every hue, time leaves its trace.  \\nEchoes of laughter and farewells soar,  \\nAs autumn's heart beats evermore.  \\n\\n--- \\n\\nI hope these revisions enhance the imagery, rhythm, and emotional depth of the poem. Let me know if there's anything else you'd like to refine!\", type='TextMessage'), TextMessage(source='critic', models_usage=RequestUsage(prompt_tokens=621, completion_tokens=4), metadata={}, content='APPROVE', type='TextMessage')], stop_reason=\"Text 'APPROVE' mentioned\")\n"
          ]
        }
      ]
    },
    {
      "cell_type": "code",
      "source": [
        "# When running inside a script, use a async main function and call it from `asyncio.run(...)`.\n",
        "await team.reset()  # Reset the team for a new task.\n",
        "async for message in team.run_stream(task=\"Write a short poem about the fall season.\"):  # type: ignore\n",
        "    if isinstance(message, TaskResult):\n",
        "        print(\"Stop Reason:\", message.stop_reason)\n",
        "    else:\n",
        "        print(message)\n"
      ],
      "metadata": {
        "colab": {
          "base_uri": "https://localhost:8080/"
        },
        "id": "GY0flsUiUQDG",
        "outputId": "0df6d739-52a9-4d89-da8b-66fa225dabf2"
      },
      "execution_count": 5,
      "outputs": [
        {
          "output_type": "stream",
          "name": "stdout",
          "text": [
            "source='user' models_usage=None metadata={} content='Write a short poem about the fall season.' type='TextMessage'\n",
            "source='primary' models_usage=RequestUsage(prompt_tokens=28, completion_tokens=104) metadata={} content=\"In autumn's gentle, golden glow,  \\nThe whispers of the breezes flow,  \\nLeaves alight in fiery dance,  \\nA tapestry of earth's romance.  \\n\\nThe air turns crisp, a cool embrace,  \\nAs pumpkins don their orange grace.  \\nFields of amber, skies of slate,  \\nThe harvest yields, the year awaits.  \\n\\nWhispers of the coming rest,  \\nNature dons her scarlet vest.  \\nIn the quiet of the fall,  \\nThe world prepares for winter's call.  \" type='TextMessage'\n",
            "source='critic' models_usage=RequestUsage(prompt_tokens=149, completion_tokens=245) metadata={} content='Your poem beautifully captures the essence of fall with its vivid imagery and gentle rhythm. Here are a few suggestions to enhance it further:\\n\\n1. **Imagery Consistency**: While you\\'ve used excellent imagery, try to maintain a consistent feel throughout. For example, \"Field of amber\" aligns well with fall but could be replaced with something like \"cornfields sway\" for a more direct tie to the harvest theme.\\n\\n2. **Rhythmic Flow**: The poem generally flows well, though the lines vary slightly in length. Consider adjusting the syllable count for more uniform rhythm, perhaps by shortening some of the longer lines like \"Fields of amber, skies of slate\" for a neater structure.\\n\\n3. **Emotional Depth**: You touch on the impending winter, which is a strong theme. You might deepen the emotional impact by expanding on the transition from the abundance of the harvest to the stillness of winter, creating a more profound reflection on the cyclical nature of seasons.\\n\\nOverall, your poem is evocative and captures the spirit of fall nicely. With a few tweaks, it could become even more harmonious and engaging. \\n\\nIf these points are refined, I would be happy to give my approval.' type='TextMessage'\n",
            "source='primary' models_usage=RequestUsage(prompt_tokens=387, completion_tokens=132) metadata={} content='Thank you for your thoughtful feedback! Here’s a revised version of the poem with your suggestions in mind:\\n\\nIn autumn’s gentle, golden glow,  \\nWhispering breezes softly flow.  \\nLeaves alight in fiery dance,  \\nNature weaves her grand romance.\\n\\nCornfields sway beneath the skies,  \\nPumpkins don their orange guise.  \\nCrisp the air, a cool embrace,  \\nA harvest done, a slowing pace.\\n\\nWhispers of the coming rest,  \\nEarth dons its scarlet vest.  \\nAs seasons shift, the quiet calls,  \\nTo dream beneath the fall.  \\n\\nI hope this revision resonates more strongly with you!' type='TextMessage'\n",
            "source='critic' models_usage=RequestUsage(prompt_tokens=536, completion_tokens=181) metadata={} content='This revised version beautifully addresses the feedback provided. The consistent imagery, rhythmic flow, and emotional depth have indeed been enhanced. Here\\'s what stands out:\\n\\n1. **Imagery Consistency**: The use of \"cornfields sway beneath the skies\" ties in perfectly with the harvest theme, offering a seamless connection to autumn\\'s essence.\\n\\n2. **Rhythmic Flow**: The lines are more uniform in length, which lends a smoother, more consistent rhythm to the poem. This helps maintain the reader\\'s engagement and enhances the overall reading experience.\\n\\n3. **Emotional Depth**: You\\'ve enriched the emotional tone by expanding on the transition to winter in the poem\\'s closing lines. The touch about dreaming beneath the fall subtly suggests reflection and preparation for the coming season.\\n\\nOverall, your revision results in a resonant and evocative portrayal of fall. I am happy to say \\'APPROVE\\'!' type='TextMessage'\n",
            "Stop Reason: Text 'APPROVE' mentioned\n"
          ]
        }
      ]
    },
    {
      "cell_type": "code",
      "source": [
        "await team.reset()  # Reset the team for a new task.\n",
        "await Console(team.run_stream(task=\"Write a short poem about the fall season.\"))  # Stream the messages to the console.\n"
      ],
      "metadata": {
        "colab": {
          "base_uri": "https://localhost:8080/"
        },
        "id": "4W1tsxbQUbvM",
        "outputId": "53d815b8-a0ef-4643-b762-aab7e437833f"
      },
      "execution_count": 6,
      "outputs": [
        {
          "output_type": "stream",
          "name": "stdout",
          "text": [
            "---------- user ----------\n",
            "Write a short poem about the fall season.\n",
            "---------- primary ----------\n",
            "Leaves of amber gently fall,  \n",
            "Whispering winds begin their call.  \n",
            "Golden hues paint the ground,  \n",
            "In autumn's embrace, life is found.  \n",
            "\n",
            "Crisp air dances with morning light,  \n",
            "Harvest moon gleams in the night.  \n",
            "Nature's quilt of red and gold,  \n",
            "Tales of warmth in chill retold.  \n",
            "\n",
            "Pumpkin scents and fires aglow,  \n",
            "Scarves and sweaters steal the show.  \n",
            "In fall's gentle, fading grace,  \n",
            "We find reflection, time and space.  \n",
            "---------- critic ----------\n",
            "Your poem beautifully captures the essence of the fall season with vivid imagery and a gentle rhythm. The descriptions of leaves, colors, and scents evoke a warm, nostalgic feeling that resonates with the reader. Here are a few suggestions to enhance it:\n",
            "\n",
            "1. **Rhythm and Flow:** Consider maintaining a more consistent rhythm or syllable count in each line to create a smoother flow. For example, matching the syllable count in corresponding lines can make the poem feel more cohesive.\n",
            "\n",
            "2. **Imagery and Emotion:** While your imagery is strong, you could delve deeper into the emotions evoked by the fall season. Perhaps explore themes of transition, introspection, or the contrast between warmth and cold more explicitly.\n",
            "\n",
            "3. **Unique Descriptions:** Some phrases like \"pumpkin scents\" and \"fires aglow\" are delightful but common in fall poetry. Try to incorporate unique descriptions or metaphorical language that offer a fresh perspective on familiar autumnal themes.\n",
            "\n",
            "Overall, it's a wonderfully evocative piece that successfully draws the reader into the beauty and tranquility of fall. Great work!\n",
            "---------- primary ----------\n",
            "Thank you for the thoughtful feedback! Taking your suggestions into account, here's a revised version of the poem:\n",
            "\n",
            "Amber leaves in whispered flight,  \n",
            "Dance beneath the waning light.  \n",
            "Autumn’s touch, both bold and shy,  \n",
            "Colors drawn from sunset sky.  \n",
            "\n",
            "Chill’s embrace, yet warmth inside,  \n",
            "Breathe the scents where secrets hide.  \n",
            "Crimson tales and quiet streams,  \n",
            "Craft the canvas of our dreams.  \n",
            "\n",
            "In the stillness, hearts reflect,  \n",
            "On transient beauty, we connect.  \n",
            "With nature’s song, our souls entwine,  \n",
            "As seasons change, a gentle sign.  \n",
            "\n",
            "I hope this version better captures the rhythm, depth, and unique perspective you suggested.\n",
            "---------- critic ----------\n",
            "Your revised poem is beautiful and effectively incorporates the feedback given. The rhythm now flows more smoothly, enhancing the reading experience. You've succeeded in adding depth by exploring the emotions tied to fall, such as introspection and the interplay between warmth and cold. The imagery, particularly phrases like \"Colors drawn from sunset sky\" and \"Craft the canvas of our dreams,\" offer fresh, unique perspectives that elevate the poem's vividness.\n",
            "\n",
            "The adjustments bring a harmonious balance between the beauty of the season and the introspective nature of fall. The poem resonates well with both emotion and visual imagery. Well done! \n",
            "\n",
            "APPROVE\n"
          ]
        },
        {
          "output_type": "execute_result",
          "data": {
            "text/plain": [
              "TaskResult(messages=[TextMessage(source='user', models_usage=None, metadata={}, content='Write a short poem about the fall season.', type='TextMessage'), TextMessage(source='primary', models_usage=RequestUsage(prompt_tokens=28, completion_tokens=108), metadata={}, content=\"Leaves of amber gently fall,  \\nWhispering winds begin their call.  \\nGolden hues paint the ground,  \\nIn autumn's embrace, life is found.  \\n\\nCrisp air dances with morning light,  \\nHarvest moon gleams in the night.  \\nNature's quilt of red and gold,  \\nTales of warmth in chill retold.  \\n\\nPumpkin scents and fires aglow,  \\nScarves and sweaters steal the show.  \\nIn fall's gentle, fading grace,  \\nWe find reflection, time and space.  \", type='TextMessage'), TextMessage(source='critic', models_usage=RequestUsage(prompt_tokens=153, completion_tokens=215), metadata={}, content='Your poem beautifully captures the essence of the fall season with vivid imagery and a gentle rhythm. The descriptions of leaves, colors, and scents evoke a warm, nostalgic feeling that resonates with the reader. Here are a few suggestions to enhance it:\\n\\n1. **Rhythm and Flow:** Consider maintaining a more consistent rhythm or syllable count in each line to create a smoother flow. For example, matching the syllable count in corresponding lines can make the poem feel more cohesive.\\n\\n2. **Imagery and Emotion:** While your imagery is strong, you could delve deeper into the emotions evoked by the fall season. Perhaps explore themes of transition, introspection, or the contrast between warmth and cold more explicitly.\\n\\n3. **Unique Descriptions:** Some phrases like \"pumpkin scents\" and \"fires aglow\" are delightful but common in fall poetry. Try to incorporate unique descriptions or metaphorical language that offer a fresh perspective on familiar autumnal themes.\\n\\nOverall, it\\'s a wonderfully evocative piece that successfully draws the reader into the beauty and tranquility of fall. Great work!', type='TextMessage'), TextMessage(source='primary', models_usage=RequestUsage(prompt_tokens=361, completion_tokens=144), metadata={}, content=\"Thank you for the thoughtful feedback! Taking your suggestions into account, here's a revised version of the poem:\\n\\nAmber leaves in whispered flight,  \\nDance beneath the waning light.  \\nAutumn’s touch, both bold and shy,  \\nColors drawn from sunset sky.  \\n\\nChill’s embrace, yet warmth inside,  \\nBreathe the scents where secrets hide.  \\nCrimson tales and quiet streams,  \\nCraft the canvas of our dreams.  \\n\\nIn the stillness, hearts reflect,  \\nOn transient beauty, we connect.  \\nWith nature’s song, our souls entwine,  \\nAs seasons change, a gentle sign.  \\n\\nI hope this version better captures the rhythm, depth, and unique perspective you suggested.\", type='TextMessage'), TextMessage(source='critic', models_usage=RequestUsage(prompt_tokens=522, completion_tokens=123), metadata={}, content='Your revised poem is beautiful and effectively incorporates the feedback given. The rhythm now flows more smoothly, enhancing the reading experience. You\\'ve succeeded in adding depth by exploring the emotions tied to fall, such as introspection and the interplay between warmth and cold. The imagery, particularly phrases like \"Colors drawn from sunset sky\" and \"Craft the canvas of our dreams,\" offer fresh, unique perspectives that elevate the poem\\'s vividness.\\n\\nThe adjustments bring a harmonious balance between the beauty of the season and the introspective nature of fall. The poem resonates well with both emotion and visual imagery. Well done! \\n\\nAPPROVE', type='TextMessage')], stop_reason=\"Text 'APPROVE' mentioned\")"
            ]
          },
          "metadata": {},
          "execution_count": 6
        }
      ]
    },
    {
      "cell_type": "code",
      "source": [
        "await team.reset()  # Reset the team for the next run.\n"
      ],
      "metadata": {
        "id": "BvYh0TLZUii1"
      },
      "execution_count": 7,
      "outputs": []
    },
    {
      "cell_type": "code",
      "source": [
        "# Create a new team with an external termination condition.\n",
        "external_termination = ExternalTermination()\n",
        "team = RoundRobinGroupChat(\n",
        "    [primary_agent, critic_agent],\n",
        "    termination_condition=external_termination | text_termination,  # Use the bitwise OR operator to combine conditions.\n",
        ")\n",
        "\n",
        "# Run the team in a background task.\n",
        "run = asyncio.create_task(Console(team.run_stream(task=\"Write a short poem about the fall season.\")))\n",
        "\n",
        "# Wait for some time.\n",
        "await asyncio.sleep(0.1)\n",
        "\n",
        "# Stop the team.\n",
        "external_termination.set()\n",
        "\n",
        "# Wait for the team to finish.\n",
        "await run\n"
      ],
      "metadata": {
        "colab": {
          "base_uri": "https://localhost:8080/"
        },
        "id": "hZIsCtBGUn5b",
        "outputId": "510de89e-9162-4f99-b5b0-8f513e90d5f8"
      },
      "execution_count": 8,
      "outputs": [
        {
          "output_type": "stream",
          "name": "stdout",
          "text": [
            "---------- user ----------\n",
            "Write a short poem about the fall season.\n",
            "---------- primary ----------\n",
            "Golden leaves dance upon the breeze,  \n",
            "Whispering secrets of the trees.  \n",
            "Crisp air kisses cheeks aglow,  \n",
            "As autumn's magic starts to show.  \n",
            "\n",
            "Pumpkins line the winding lane,  \n",
            "Harvest bounty, nature's gain.  \n",
            "Days grow shorter, nights embrace,  \n",
            "A time for warmth, a slower pace.  \n",
            "\n",
            "Scarlet sunsets, skies aflame,  \n",
            "Echo the beauty of this name.  \n",
            "Fall, a season rich and deep,  \n",
            "In its quiet arms, we gently sleep.  \n"
          ]
        },
        {
          "output_type": "execute_result",
          "data": {
            "text/plain": [
              "TaskResult(messages=[TextMessage(source='user', models_usage=None, metadata={}, content='Write a short poem about the fall season.', type='TextMessage'), TextMessage(source='primary', models_usage=RequestUsage(prompt_tokens=28, completion_tokens=107), metadata={}, content=\"Golden leaves dance upon the breeze,  \\nWhispering secrets of the trees.  \\nCrisp air kisses cheeks aglow,  \\nAs autumn's magic starts to show.  \\n\\nPumpkins line the winding lane,  \\nHarvest bounty, nature's gain.  \\nDays grow shorter, nights embrace,  \\nA time for warmth, a slower pace.  \\n\\nScarlet sunsets, skies aflame,  \\nEcho the beauty of this name.  \\nFall, a season rich and deep,  \\nIn its quiet arms, we gently sleep.  \", type='TextMessage')], stop_reason='External termination requested')"
            ]
          },
          "metadata": {},
          "execution_count": 8
        }
      ]
    },
    {
      "cell_type": "code",
      "source": [
        "await Console(team.run_stream())  # Resume the team to continue the last task.\n"
      ],
      "metadata": {
        "id": "utCUQp_ZUsvW"
      },
      "execution_count": null,
      "outputs": []
    },
    {
      "cell_type": "code",
      "source": [
        "# The new task is to translate the same poem to Chinese Tang-style poetry.\n",
        "await Console(team.run_stream(task=\"한글로 써주세요\"))\n"
      ],
      "metadata": {
        "colab": {
          "base_uri": "https://localhost:8080/"
        },
        "id": "QqP36Io2VCWN",
        "outputId": "4c0be4d9-d87f-441a-87ba-5f80fbd46c80"
      },
      "execution_count": 10,
      "outputs": [
        {
          "output_type": "stream",
          "name": "stdout",
          "text": [
            "---------- user ----------\n",
            "한글로 써주세요\n",
            "---------- primary ----------\n",
            "물감을 머금은 나뭇잎이 춤추고,  \n",
            "바람 속 나무들의 비밀을 속삭여요.  \n",
            "서늘한 바람이 뺨을 스치면,  \n",
            "가을의 마법이 천천히 드러나죠.  \n",
            "\n",
            "줄줄이 늘어선 호박들은 황금빛을 띄고,  \n",
            "풍성한 수확 이야기를 풀어내요.  \n",
            "낮은 짧아지고 밤은 길어지며,  \n",
            "따뜻함을 부르는 느긋한 시간이 흐르죠.  \n",
            "\n",
            "짙어지는 저녁 속에 나무 연기가 퍼지고,  \n",
            "하늘은 석양 속에 타오르죠.  \n",
            "가을은 황금색 옷을 두르고,  \n",
            "평온 속에 우리를 안아주네요.  \n",
            "\n",
            "이 시가 가을의 정취를 잘 담아내길 바랍니다. 추가로 원하는 수정 사항이 있으면 알려주세요!\n",
            "---------- critic ----------\n",
            "이 한글 번역은 원래 시의 감성을 잘 전달하고 있습니다. 가을의 분위기를 아름답게 그려내면서 리듬과 운율도 자연스럽게 이어지는 점이 매우 좋습니다. 추가로 고려할 수 있는 사항이 있다면, 한국의 가을과 관련된 전통적인 이미지나 감성을 조금 더 반영해보는 것도 흥미로울 수 있을 것 같습니다. 하지만 현재로서는 이미 충분히 감명 깊고, 가을의 정취를 잘 담아내고 있는 훌륭한 시입니다.\n",
            "\n",
            "훌륭한 번역에 감사합니다. 추가 의견이 필요하다면 언제든지 알려주세요!\n",
            "\n",
            "APPROVE\n"
          ]
        },
        {
          "output_type": "execute_result",
          "data": {
            "text/plain": [
              "TaskResult(messages=[TextMessage(source='user', models_usage=None, metadata={}, content='한글로 써주세요', type='TextMessage'), TextMessage(source='primary', models_usage=RequestUsage(prompt_tokens=639, completion_tokens=208), metadata={}, content='물감을 머금은 나뭇잎이 춤추고,  \\n바람 속 나무들의 비밀을 속삭여요.  \\n서늘한 바람이 뺨을 스치면,  \\n가을의 마법이 천천히 드러나죠.  \\n\\n줄줄이 늘어선 호박들은 황금빛을 띄고,  \\n풍성한 수확 이야기를 풀어내요.  \\n낮은 짧아지고 밤은 길어지며,  \\n따뜻함을 부르는 느긋한 시간이 흐르죠.  \\n\\n짙어지는 저녁 속에 나무 연기가 퍼지고,  \\n하늘은 석양 속에 타오르죠.  \\n가을은 황금색 옷을 두르고,  \\n평온 속에 우리를 안아주네요.  \\n\\n이 시가 가을의 정취를 잘 담아내길 바랍니다. 추가로 원하는 수정 사항이 있으면 알려주세요!', type='TextMessage'), TextMessage(source='critic', models_usage=RequestUsage(prompt_tokens=864, completion_tokens=149), metadata={}, content='이 한글 번역은 원래 시의 감성을 잘 전달하고 있습니다. 가을의 분위기를 아름답게 그려내면서 리듬과 운율도 자연스럽게 이어지는 점이 매우 좋습니다. 추가로 고려할 수 있는 사항이 있다면, 한국의 가을과 관련된 전통적인 이미지나 감성을 조금 더 반영해보는 것도 흥미로울 수 있을 것 같습니다. 하지만 현재로서는 이미 충분히 감명 깊고, 가을의 정취를 잘 담아내고 있는 훌륭한 시입니다.\\n\\n훌륭한 번역에 감사합니다. 추가 의견이 필요하다면 언제든지 알려주세요!\\n\\nAPPROVE', type='TextMessage')], stop_reason=\"Text 'APPROVE' mentioned\")"
            ]
          },
          "metadata": {},
          "execution_count": 10
        }
      ]
    }
  ]
}