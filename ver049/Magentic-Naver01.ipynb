{
  "nbformat": 4,
  "nbformat_minor": 0,
  "metadata": {
    "colab": {
      "provenance": [],
      "gpuType": "T4",
      "authorship_tag": "ABX9TyMg9vcHgDi3jrh1WUn7Fg5v",
      "include_colab_link": true
    },
    "kernelspec": {
      "name": "python3",
      "display_name": "Python 3"
    },
    "language_info": {
      "name": "python"
    },
    "accelerator": "GPU"
  },
  "cells": [
    {
      "cell_type": "markdown",
      "metadata": {
        "id": "view-in-github",
        "colab_type": "text"
      },
      "source": [
        "<a href=\"https://colab.research.google.com/github/JSJeong-me/AutoGen/blob/main/ver049/Magentic-Naver01.ipynb\" target=\"_parent\"><img src=\"https://colab.research.google.com/assets/colab-badge.svg\" alt=\"Open In Colab\"/></a>"
      ]
    },
    {
      "cell_type": "code",
      "execution_count": null,
      "metadata": {
        "id": "7jWtQtmpGJ2w"
      },
      "outputs": [],
      "source": [
        "!pip install -U \"autogen-agentchat\" \"autogen-ext[openai]\""
      ]
    },
    {
      "cell_type": "code",
      "source": [
        "!pip install interfaceagent"
      ],
      "metadata": {
        "id": "WOZcsCkk-OoP"
      },
      "execution_count": null,
      "outputs": []
    },
    {
      "cell_type": "code",
      "source": [
        "!playwright install"
      ],
      "metadata": {
        "id": "7WJ8FWIA7YG2"
      },
      "execution_count": null,
      "outputs": []
    },
    {
      "cell_type": "code",
      "source": [
        "from google.colab import userdata\n",
        "import openai\n",
        "import os\n",
        "\n",
        "os.environ[\"OPENAI_API_KEY\"] = userdata.get('OPENAI_API_KEY')\n",
        "openai.api_key  = os.environ[\"OPENAI_API_KEY\"]"
      ],
      "metadata": {
        "id": "FvIlE3bBGrbc"
      },
      "execution_count": null,
      "outputs": []
    },
    {
      "cell_type": "code",
      "source": [
        "import asyncio\n",
        "from autogen_ext.models.openai import OpenAIChatCompletionClient\n",
        "from autogen_agentchat.teams import MagenticOneGroupChat\n",
        "from autogen_agentchat.ui import Console\n",
        "from autogen_ext.agents.web_surfer import MultimodalWebSurfer\n",
        "\n",
        "\n",
        "async def main() -> None:\n",
        "    model_client = OpenAIChatCompletionClient(model=\"gpt-4o\")\n",
        "\n",
        "    surfer = MultimodalWebSurfer(\n",
        "        \"WebSurfer\",\n",
        "        model_client=model_client,\n",
        "    )\n",
        "\n",
        "    team = MagenticOneGroupChat([surfer], model_client=model_client)\n",
        "    # await Console(team.run_stream(task=\"What is the UV index in Melbourne today?\"))\n",
        "    await Console(team.run_stream(task=\"https://www.naver.com/ 에서 여의동 현재시간 미세먼지 농도 값 가져오기\"))\n",
        "\n",
        "\n",
        "# asyncio.run(main())\n"
      ],
      "metadata": {
        "id": "4kWo1pSi7O5_"
      },
      "execution_count": null,
      "outputs": []
    },
    {
      "cell_type": "code",
      "source": [
        "# Instead of asyncio.run(main()), directly await the main function\n",
        "await main()"
      ],
      "metadata": {
        "id": "l7RXnDtZ7l5r"
      },
      "execution_count": null,
      "outputs": []
    }
  ]
}