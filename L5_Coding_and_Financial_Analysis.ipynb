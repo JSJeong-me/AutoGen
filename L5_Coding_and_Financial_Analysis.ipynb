{
  "cells": [
    {
      "cell_type": "markdown",
      "metadata": {
        "id": "view-in-github",
        "colab_type": "text"
      },
      "source": [
        "<a href=\"https://colab.research.google.com/github/JSJeong-me/AutoGen/blob/main/L5_Coding_and_Financial_Analysis.ipynb\" target=\"_parent\"><img src=\"https://colab.research.google.com/assets/colab-badge.svg\" alt=\"Open In Colab\"/></a>"
      ]
    },
    {
      "cell_type": "markdown",
      "id": "eacbb70c",
      "metadata": {
        "id": "eacbb70c"
      },
      "source": [
        "# Lesson 5: Coding and Financial Analysis"
      ]
    },
    {
      "cell_type": "markdown",
      "id": "babbc472",
      "metadata": {
        "id": "babbc472"
      },
      "source": [
        "## Setup"
      ]
    },
    {
      "cell_type": "code",
      "source": [
        "!pip install -r requirements.txt"
      ],
      "metadata": {
        "id": "w7BwcQg7a0Ac"
      },
      "id": "w7BwcQg7a0Ac",
      "execution_count": null,
      "outputs": []
    },
    {
      "cell_type": "code",
      "source": [
        "# Add your utilities or helper functions to this file.\n",
        "\n",
        "import os\n",
        "from dotenv import load_dotenv, find_dotenv\n",
        "\n",
        "# these expect to find a .env file at the directory above the lesson.                                                                                                                     # the format for that file is (without the comment)                                                                                                                                       #API_KEYNAME=AStringThatIsTheLongAPIKeyFromSomeService\n",
        "def load_env():\n",
        "    _ = load_dotenv(find_dotenv())\n",
        "\n",
        "def get_openai_api_key():\n",
        "    load_env()\n",
        "    openai_api_key = os.getenv(\"OPENAI_API_KEY\")\n",
        "    return openai_api_key"
      ],
      "metadata": {
        "id": "pnBhOzqZbAsB"
      },
      "id": "pnBhOzqZbAsB",
      "execution_count": 4,
      "outputs": []
    },
    {
      "cell_type": "code",
      "source": [
        "# from utils import get_openai_api_key\n",
        "OPENAI_API_KEY = get_openai_api_key()\n",
        "llm_config = {\"model\": \"gpt-3.5-turbo\"}"
      ],
      "metadata": {
        "id": "3AIb7JtsbK3-"
      },
      "id": "3AIb7JtsbK3-",
      "execution_count": 5,
      "outputs": []
    },
    {
      "cell_type": "code",
      "execution_count": 6,
      "id": "b5613ba9-d387-4b7d-9670-ec2b6e4353be",
      "metadata": {
        "height": 30,
        "id": "b5613ba9-d387-4b7d-9670-ec2b6e4353be"
      },
      "outputs": [],
      "source": [
        "llm_config = {\"model\": \"gpt-4-turbo\"}"
      ]
    },
    {
      "cell_type": "markdown",
      "id": "e4e8fd85",
      "metadata": {
        "id": "e4e8fd85"
      },
      "source": [
        "## Define a code executor"
      ]
    },
    {
      "cell_type": "code",
      "execution_count": 7,
      "id": "fb90a672-4318-47de-a061-384e68dd75c9",
      "metadata": {
        "height": 30,
        "id": "fb90a672-4318-47de-a061-384e68dd75c9"
      },
      "outputs": [],
      "source": [
        "from autogen.coding import LocalCommandLineCodeExecutor"
      ]
    },
    {
      "cell_type": "code",
      "execution_count": 8,
      "id": "b5cafee7-a0ac-4583-8201-5e19eb603138",
      "metadata": {
        "height": 81,
        "id": "b5cafee7-a0ac-4583-8201-5e19eb603138"
      },
      "outputs": [],
      "source": [
        "executor = LocalCommandLineCodeExecutor(\n",
        "    timeout=60,\n",
        "    work_dir=\"coding\",\n",
        ")"
      ]
    },
    {
      "cell_type": "markdown",
      "id": "3b62a1a0",
      "metadata": {
        "id": "3b62a1a0"
      },
      "source": [
        "## Create agents"
      ]
    },
    {
      "cell_type": "code",
      "execution_count": 9,
      "id": "e6d9b3d6-9915-4fea-a853-512dfb77c4a5",
      "metadata": {
        "height": 30,
        "id": "e6d9b3d6-9915-4fea-a853-512dfb77c4a5"
      },
      "outputs": [],
      "source": [
        "from autogen import ConversableAgent, AssistantAgent"
      ]
    },
    {
      "cell_type": "markdown",
      "id": "b741b947",
      "metadata": {
        "id": "b741b947"
      },
      "source": [
        "### 1. Agent with code executor configuration"
      ]
    },
    {
      "cell_type": "code",
      "execution_count": 10,
      "id": "57d286e5-b7b7-405a-b1d7-212c0cc84497",
      "metadata": {
        "height": 149,
        "id": "57d286e5-b7b7-405a-b1d7-212c0cc84497"
      },
      "outputs": [],
      "source": [
        "code_executor_agent = ConversableAgent(\n",
        "    name=\"code_executor_agent\",\n",
        "    llm_config=False,\n",
        "    code_execution_config={\"executor\": executor},\n",
        "    human_input_mode=\"ALWAYS\",\n",
        "    default_auto_reply=\n",
        "    \"Please continue. If everything is done, reply 'TERMINATE'.\",\n",
        ")"
      ]
    },
    {
      "cell_type": "markdown",
      "id": "c1eb1094",
      "metadata": {
        "id": "c1eb1094"
      },
      "source": [
        "### 2. Agent with code writing capability"
      ]
    },
    {
      "cell_type": "code",
      "execution_count": 11,
      "id": "99c38c33-d335-48cd-96eb-cafe9ac70142",
      "metadata": {
        "height": 115,
        "id": "99c38c33-d335-48cd-96eb-cafe9ac70142"
      },
      "outputs": [],
      "source": [
        "code_writer_agent = AssistantAgent(\n",
        "    name=\"code_writer_agent\",\n",
        "    llm_config=llm_config,\n",
        "    code_execution_config=False,\n",
        "    human_input_mode=\"NEVER\",\n",
        ")"
      ]
    },
    {
      "cell_type": "code",
      "execution_count": 12,
      "id": "0fb1a62f-8dd2-4636-9103-b26ea27a29bd",
      "metadata": {
        "height": 30,
        "id": "0fb1a62f-8dd2-4636-9103-b26ea27a29bd"
      },
      "outputs": [],
      "source": [
        "code_writer_agent_system_message = code_writer_agent.system_message"
      ]
    },
    {
      "cell_type": "code",
      "execution_count": 13,
      "id": "7c8e9a04-55fb-4124-a9d0-3431274476d2",
      "metadata": {
        "height": 30,
        "id": "7c8e9a04-55fb-4124-a9d0-3431274476d2",
        "outputId": "75826b1b-ce34-40de-8fc1-ecbad80b38b3",
        "colab": {
          "base_uri": "https://localhost:8080/"
        }
      },
      "outputs": [
        {
          "output_type": "stream",
          "name": "stdout",
          "text": [
            "You are a helpful AI assistant.\n",
            "Solve tasks using your coding and language skills.\n",
            "In the following cases, suggest python code (in a python coding block) or shell script (in a sh coding block) for the user to execute.\n",
            "    1. When you need to collect info, use the code to output the info you need, for example, browse or search the web, download/read a file, print the content of a webpage or a file, get the current date/time, check the operating system. After sufficient info is printed and the task is ready to be solved based on your language skill, you can solve the task by yourself.\n",
            "    2. When you need to perform some task with code, use the code to perform the task and output the result. Finish the task smartly.\n",
            "Solve the task step by step if you need to. If a plan is not provided, explain your plan first. Be clear which step uses code, and which step uses your language skill.\n",
            "When using code, you must indicate the script type in the code block. The user cannot provide any other feedback or perform any other action beyond executing the code you suggest. The user can't modify your code. So do not suggest incomplete code which requires users to modify. Don't use a code block if it's not intended to be executed by the user.\n",
            "If you want the user to save the code in a file before executing it, put # filename: <filename> inside the code block as the first line. Don't include multiple code blocks in one response. Do not ask users to copy and paste the result. Instead, use 'print' function for the output when relevant. Check the execution result returned by the user.\n",
            "If the result indicates there is an error, fix the error and output the code again. Suggest the full code instead of partial code or code changes. If the error can't be fixed or if the task is not solved even after the code is executed successfully, analyze the problem, revisit your assumption, collect additional info you need, and think of a different approach to try.\n",
            "When you find an answer, verify the answer carefully. Include verifiable evidence in your response if possible.\n",
            "Reply \"TERMINATE\" in the end when everything is done.\n",
            "    \n"
          ]
        }
      ],
      "source": [
        "print(code_writer_agent_system_message)"
      ]
    },
    {
      "cell_type": "markdown",
      "id": "f487b75a",
      "metadata": {
        "id": "f487b75a"
      },
      "source": [
        "## The task!\n",
        "\n",
        "Ask the two agents to collaborate on a stock analysis task."
      ]
    },
    {
      "cell_type": "code",
      "execution_count": 14,
      "id": "9cce0ba4-9fea-4d36-b4a0-a1e51fcd09a6",
      "metadata": {
        "height": 132,
        "id": "9cce0ba4-9fea-4d36-b4a0-a1e51fcd09a6"
      },
      "outputs": [],
      "source": [
        "import datetime\n",
        "\n",
        "today = datetime.datetime.now().date()\n",
        "message = f\"Today is {today}. \"\\\n",
        "\"Create a plot showing stock gain YTD for NVDA and TLSA. \"\\\n",
        "\"Make sure the code is in markdown code block and save the figure\"\\\n",
        "\" to a file ytd_stock_gains.png.\"\"\""
      ]
    },
    {
      "cell_type": "markdown",
      "id": "4d02df6c",
      "metadata": {
        "id": "4d02df6c"
      },
      "source": [
        "<p style=\"background-color:#ECECEC; padding:15px; \"> <b>Note:</b> In this lesson, you will use GPT 4 for better results. Please note that the lesson has a quota limit. If you want to explore the code in this lesson further, we recommend trying it locally with your own API key."
      ]
    },
    {
      "cell_type": "markdown",
      "id": "77fc5f1b",
      "metadata": {
        "id": "77fc5f1b"
      },
      "source": [
        "**Note**: You might see a different set of outputs than those shown in the video. The agents collaborate to generate the code needed for your task, and they might produce code with errors in the process. However, they will ultimately provide a correct code in the end."
      ]
    },
    {
      "cell_type": "code",
      "execution_count": 15,
      "id": "230bb9c0-9c80-498f-a05f-96cef11ddb4e",
      "metadata": {
        "height": 81,
        "id": "230bb9c0-9c80-498f-a05f-96cef11ddb4e",
        "outputId": "c12c6db7-57bf-4af1-edae-3911aa862d67",
        "colab": {
          "base_uri": "https://localhost:8080/"
        }
      },
      "outputs": [
        {
          "name": "stdout",
          "output_type": "stream",
          "text": [
            "code_executor_agent (to code_writer_agent):\n",
            "\n",
            "Today is 2024-06-20. Create a plot showing stock gain YTD for NVDA and TLSA. Make sure the code is in markdown code block and save the figure to a file ytd_stock_gains.png.\n",
            "\n",
            "--------------------------------------------------------------------------------\n",
            "code_writer_agent (to code_executor_agent):\n",
            "\n",
            "The first step to create a plot showing the year-to-date (YTD) stock gains for NVIDIA (NVDA) and Tesla (TSL (most likely intended as TSLA for Tesla, Inc.) is to fetch the stock price data. We can do this using the `yfinance` library, which allows fetching historical market data from Yahoo Finance. We will extract the stock prices from the beginning of the year to today (2024-06-20) for both stocks and then visualize these data using `matplotlib`.\n",
            "\n",
            "Here’s the complete Python script you need to execute:\n",
            "\n",
            "```python\n",
            "# filename: stock_plot.py\n",
            "import yfinance as yf\n",
            "import matplotlib.pyplot as plt\n",
            "import pandas as pd\n",
            "\n",
            "def fetch_stock_data(ticker, start_date, end_date):\n",
            "    stock = yf.Ticker(ticker)\n",
            "    hist = stock.history(start=start_date, end=end_date)\n",
            "    return hist['Close']\n",
            "\n",
            "start_date = \"2024-01-01\"\n",
            "end_date = \"2024-06-20\"\n",
            "\n",
            "nvda_data = fetch_stock_data('NVDA', start_date, end_date)\n",
            "tsla_data = fetch_stock_data('TSLA', start_date, end_date)\n",
            "\n",
            "# Calculate daily returns\n",
            "nvda_returns = nvda_data.pct_change().add(1).cumprod().sub(1)\n",
            "tsla_returns = tsla_data.pct_change().add(1).cumprod().sub(1)\n",
            "\n",
            "# Creating the plot\n",
            "plt.figure(figsize=(10, 5))\n",
            "plt.plot(nvda_returns, label='NVDA YTD Gain')\n",
            "plt.plot(tsla_returns, label='TSLA YTD Gain')\n",
            "plt.title('YTD Stock Gains for NVDA and TSLA')\n",
            "plt.xlabel('Date')\n",
            "plt.ylabel('Gain')\n",
            "plt.legend()\n",
            "plt.grid(True)\n",
            "\n",
            "# Save the plot to a file\n",
            "plt.savefig('ytd_stock_gains.png')\n",
            "plt.show()\n",
            "```\n",
            "\n",
            "Make sure to:\n",
            "\n",
            "1. Save this script in a file named `stock_plot.py`.\n",
            "2. Install the required Python packages, if not already installed, using the following commands:\n",
            "   ```sh\n",
            "   pip install yfinance matplotlib pandas\n",
            "   ```\n",
            "3. Run the script:\n",
            "   ```sh\n",
            "   python stock_plot.py\n",
            "   ```\n",
            "\n",
            "This script will download the stock data, calculate the YTD gains, create a plot, and save it as 'ytd_stock_gains.png'. Let me know if you encounter any issues with running the script.\n",
            "\n",
            "--------------------------------------------------------------------------------\n",
            "Provide feedback to code_writer_agent. Press enter to skip and use auto-reply, or type 'exit' to end the conversation: \n",
            "\n",
            ">>>>>>>> NO HUMAN INPUT RECEIVED.\n",
            "\n",
            ">>>>>>>> USING AUTO REPLY...\n",
            "\n",
            ">>>>>>>> EXECUTING 3 CODE BLOCKS (inferred languages are [python, sh, sh])...\n",
            "code_executor_agent (to code_writer_agent):\n",
            "\n",
            "exitcode: 0 (execution succeeded)\n",
            "Code output: Figure(1000x500)\n",
            "Requirement already satisfied: yfinance in /usr/local/lib/python3.10/dist-packages (0.2.40)\n",
            "Requirement already satisfied: matplotlib in /usr/local/lib/python3.10/dist-packages (3.7.1)\n",
            "Requirement already satisfied: pandas in /usr/local/lib/python3.10/dist-packages (2.0.3)\n",
            "Requirement already satisfied: numpy>=1.16.5 in /usr/local/lib/python3.10/dist-packages (from yfinance) (1.25.2)\n",
            "Requirement already satisfied: requests>=2.31 in /usr/local/lib/python3.10/dist-packages (from yfinance) (2.31.0)\n",
            "Requirement already satisfied: multitasking>=0.0.7 in /usr/local/lib/python3.10/dist-packages (from yfinance) (0.0.11)\n",
            "Requirement already satisfied: lxml>=4.9.1 in /usr/local/lib/python3.10/dist-packages (from yfinance) (4.9.4)\n",
            "Requirement already satisfied: platformdirs>=2.0.0 in /usr/local/lib/python3.10/dist-packages (from yfinance) (4.2.2)\n",
            "Requirement already satisfied: pytz>=2022.5 in /usr/local/lib/python3.10/dist-packages (from yfinance) (2023.4)\n",
            "Requirement already satisfied: frozendict>=2.3.4 in /usr/local/lib/python3.10/dist-packages (from yfinance) (2.4.4)\n",
            "Requirement already satisfied: peewee>=3.16.2 in /usr/local/lib/python3.10/dist-packages (from yfinance) (3.17.5)\n",
            "Requirement already satisfied: beautifulsoup4>=4.11.1 in /usr/local/lib/python3.10/dist-packages (from yfinance) (4.12.3)\n",
            "Requirement already satisfied: html5lib>=1.1 in /usr/local/lib/python3.10/dist-packages (from yfinance) (1.1)\n",
            "Requirement already satisfied: contourpy>=1.0.1 in /usr/local/lib/python3.10/dist-packages (from matplotlib) (1.2.1)\n",
            "Requirement already satisfied: cycler>=0.10 in /usr/local/lib/python3.10/dist-packages (from matplotlib) (0.12.1)\n",
            "Requirement already satisfied: fonttools>=4.22.0 in /usr/local/lib/python3.10/dist-packages (from matplotlib) (4.53.0)\n",
            "Requirement already satisfied: kiwisolver>=1.0.1 in /usr/local/lib/python3.10/dist-packages (from matplotlib) (1.4.5)\n",
            "Requirement already satisfied: packaging>=20.0 in /usr/local/lib/python3.10/dist-packages (from matplotlib) (24.1)\n",
            "Requirement already satisfied: pillow>=6.2.0 in /usr/local/lib/python3.10/dist-packages (from matplotlib) (9.4.0)\n",
            "Requirement already satisfied: pyparsing>=2.3.1 in /usr/local/lib/python3.10/dist-packages (from matplotlib) (3.1.2)\n",
            "Requirement already satisfied: python-dateutil>=2.7 in /usr/local/lib/python3.10/dist-packages (from matplotlib) (2.8.2)\n",
            "Requirement already satisfied: tzdata>=2022.1 in /usr/local/lib/python3.10/dist-packages (from pandas) (2024.1)\n",
            "Requirement already satisfied: soupsieve>1.2 in /usr/local/lib/python3.10/dist-packages (from beautifulsoup4>=4.11.1->yfinance) (2.5)\n",
            "Requirement already satisfied: six>=1.9 in /usr/local/lib/python3.10/dist-packages (from html5lib>=1.1->yfinance) (1.16.0)\n",
            "Requirement already satisfied: webencodings in /usr/local/lib/python3.10/dist-packages (from html5lib>=1.1->yfinance) (0.5.1)\n",
            "Requirement already satisfied: charset-normalizer<4,>=2 in /usr/local/lib/python3.10/dist-packages (from requests>=2.31->yfinance) (3.3.2)\n",
            "Requirement already satisfied: idna<4,>=2.5 in /usr/local/lib/python3.10/dist-packages (from requests>=2.31->yfinance) (3.7)\n",
            "Requirement already satisfied: urllib3<3,>=1.21.1 in /usr/local/lib/python3.10/dist-packages (from requests>=2.31->yfinance) (2.0.7)\n",
            "Requirement already satisfied: certifi>=2017.4.17 in /usr/local/lib/python3.10/dist-packages (from requests>=2.31->yfinance) (2024.6.2)\n",
            "Figure(1000x500)\n",
            "\n",
            "\n",
            "--------------------------------------------------------------------------------\n",
            "code_writer_agent (to code_executor_agent):\n",
            "\n",
            "It looks like the Python script was executed successfully, generating the figure `ytd_stock_gains.png`. If you have followed the instructions, this image file should now be available on your system, containing the YTD stock gain plot for NVIDIA (NVDA) and Tesla (TSLA).\n",
            "\n",
            "Make sure to check the output file `ytd_stock_gains.png` in your script's directory to view the plot. If everything is correct and visible as expected, our task is completed.\n",
            "\n",
            "TERMINATE\n",
            "\n",
            "--------------------------------------------------------------------------------\n",
            "Provide feedback to code_writer_agent. Press enter to skip and use auto-reply, or type 'exit' to end the conversation: ㄷ턋\n",
            "code_executor_agent (to code_writer_agent):\n",
            "\n",
            "ㄷ턋\n",
            "\n",
            "--------------------------------------------------------------------------------\n",
            "code_writer_agent (to code_executor_agent):\n",
            "\n",
            "It seems like there may have been a typo or communication error in your message. Could you please clarify or specify your request so I can assist you accordingly?\n",
            "\n",
            "TERMINATE\n",
            "\n",
            "--------------------------------------------------------------------------------\n",
            "Provide feedback to code_writer_agent. Press enter to skip and use auto-reply, or type 'exit' to end the conversation: exit\n"
          ]
        }
      ],
      "source": [
        "chat_result = code_executor_agent.initiate_chat(\n",
        "    code_writer_agent,\n",
        "    message=message,\n",
        ")"
      ]
    },
    {
      "cell_type": "markdown",
      "id": "9b0cbbdd",
      "metadata": {
        "id": "9b0cbbdd"
      },
      "source": [
        "## Let's see the plot!\n",
        "\n",
        "**Note**:\n",
        "* Your plot might differ from the one shown in the video because the LLM's freestyle code generation could choose a different plot type, such as a bar plot.\n",
        "* You can re-run the previous cell and check the generated code. If it produces a bar plot, remember you can directly specify your preference by asking for a specific plot type instead of a bar plot."
      ]
    },
    {
      "cell_type": "code",
      "execution_count": 16,
      "id": "26804313-566f-42fb-9243-4e0c147f770b",
      "metadata": {
        "height": 81,
        "id": "26804313-566f-42fb-9243-4e0c147f770b",
        "outputId": "bfaeb129-5116-413b-d196-707f9cd9cb9c",
        "colab": {
          "base_uri": "https://localhost:8080/",
          "height": 424
        }
      },
      "outputs": [
        {
          "output_type": "execute_result",
          "data": {
            "image/png": "[encoded data removed]",
            "text/plain": [
              "<IPython.core.display.Image object>"
            ]
          },
          "metadata": {},
          "execution_count": 16
        }
      ],
      "source": [
        "import os\n",
        "from IPython.display import Image\n",
        "\n",
        "Image(os.path.join(\"coding\", \"ytd_stock_gains.png\"))"
      ]
    },
    {
      "cell_type": "markdown",
      "id": "ccf49d7e",
      "metadata": {
        "id": "ccf49d7e"
      },
      "source": [
        "**Note**: The agent will automatically save the code in a .py file and the plot in a .png file. To access and check the files generated by the agents, go to the `File` menu and select `Open....` Then, open the folder named `coding` to find all the generated files."
      ]
    },
    {
      "cell_type": "markdown",
      "id": "5aded8dc",
      "metadata": {
        "id": "5aded8dc"
      },
      "source": [
        "## User-Defined Functions\n",
        "\n",
        "Instead of asking LLM to generate the code for downloading stock data\n",
        "and plotting charts each time, you can define functions for these two tasks and have LLM call these functions in the code."
      ]
    },
    {
      "cell_type": "code",
      "execution_count": 17,
      "id": "bca089a7-d85a-40ad-b33d-6a5318076c6e",
      "metadata": {
        "height": 387,
        "id": "bca089a7-d85a-40ad-b33d-6a5318076c6e"
      },
      "outputs": [],
      "source": [
        "def get_stock_prices(stock_symbols, start_date, end_date):\n",
        "    \"\"\"Get the stock prices for the given stock symbols between\n",
        "    the start and end dates.\n",
        "\n",
        "    Args:\n",
        "        stock_symbols (str or list): The stock symbols to get the\n",
        "        prices for.\n",
        "        start_date (str): The start date in the format\n",
        "        'YYYY-MM-DD'.\n",
        "        end_date (str): The end date in the format 'YYYY-MM-DD'.\n",
        "\n",
        "    Returns:\n",
        "        pandas.DataFrame: The stock prices for the given stock\n",
        "        symbols indexed by date, with one column per stock\n",
        "        symbol.\n",
        "    \"\"\"\n",
        "    import yfinance\n",
        "\n",
        "    stock_data = yfinance.download(\n",
        "        stock_symbols, start=start_date, end=end_date\n",
        "    )\n",
        "    return stock_data.get(\"Close\")"
      ]
    },
    {
      "cell_type": "code",
      "execution_count": 18,
      "id": "5dff50a6-39ae-46a4-9b9c-e98c1550472b",
      "metadata": {
        "height": 336,
        "id": "5dff50a6-39ae-46a4-9b9c-e98c1550472b"
      },
      "outputs": [],
      "source": [
        "def plot_stock_prices(stock_prices, filename):\n",
        "    \"\"\"Plot the stock prices for the given stock symbols.\n",
        "\n",
        "    Args:\n",
        "        stock_prices (pandas.DataFrame): The stock prices for the\n",
        "        given stock symbols.\n",
        "    \"\"\"\n",
        "    import matplotlib.pyplot as plt\n",
        "\n",
        "    plt.figure(figsize=(10, 5))\n",
        "    for column in stock_prices.columns:\n",
        "        plt.plot(\n",
        "            stock_prices.index, stock_prices[column], label=column\n",
        "                )\n",
        "    plt.title(\"Stock Prices\")\n",
        "    plt.xlabel(\"Date\")\n",
        "    plt.ylabel(\"Price\")\n",
        "    plt.grid(True)\n",
        "    plt.savefig(filename)"
      ]
    },
    {
      "cell_type": "markdown",
      "id": "63ff7175",
      "metadata": {
        "id": "63ff7175"
      },
      "source": [
        "### Create a new executor with the user-defined functions"
      ]
    },
    {
      "cell_type": "code",
      "execution_count": 19,
      "id": "452d315f-681d-4418-9cd0-653cc8d6a668",
      "metadata": {
        "height": 98,
        "id": "452d315f-681d-4418-9cd0-653cc8d6a668"
      },
      "outputs": [],
      "source": [
        "executor = LocalCommandLineCodeExecutor(\n",
        "    timeout=60,\n",
        "    work_dir=\"coding\",\n",
        "    functions=[get_stock_prices, plot_stock_prices],\n",
        ")"
      ]
    },
    {
      "cell_type": "code",
      "execution_count": 20,
      "id": "b95b30ad-1e6d-4d88-9a6c-2b0f11b625e4",
      "metadata": {
        "height": 66,
        "id": "b95b30ad-1e6d-4d88-9a6c-2b0f11b625e4",
        "outputId": "1c1c3aff-e7f3-425d-fd8b-fe7011a08f88",
        "colab": {
          "base_uri": "https://localhost:8080/"
        }
      },
      "outputs": [
        {
          "output_type": "stream",
          "name": "stdout",
          "text": [
            "You are a helpful AI assistant.\n",
            "Solve tasks using your coding and language skills.\n",
            "In the following cases, suggest python code (in a python coding block) or shell script (in a sh coding block) for the user to execute.\n",
            "    1. When you need to collect info, use the code to output the info you need, for example, browse or search the web, download/read a file, print the content of a webpage or a file, get the current date/time, check the operating system. After sufficient info is printed and the task is ready to be solved based on your language skill, you can solve the task by yourself.\n",
            "    2. When you need to perform some task with code, use the code to perform the task and output the result. Finish the task smartly.\n",
            "Solve the task step by step if you need to. If a plan is not provided, explain your plan first. Be clear which step uses code, and which step uses your language skill.\n",
            "When using code, you must indicate the script type in the code block. The user cannot provide any other feedback or perform any other action beyond executing the code you suggest. The user can't modify your code. So do not suggest incomplete code which requires users to modify. Don't use a code block if it's not intended to be executed by the user.\n",
            "If you want the user to save the code in a file before executing it, put # filename: <filename> inside the code block as the first line. Don't include multiple code blocks in one response. Do not ask users to copy and paste the result. Instead, use 'print' function for the output when relevant. Check the execution result returned by the user.\n",
            "If the result indicates there is an error, fix the error and output the code again. Suggest the full code instead of partial code or code changes. If the error can't be fixed or if the task is not solved even after the code is executed successfully, analyze the problem, revisit your assumption, collect additional info you need, and think of a different approach to try.\n",
            "When you find an answer, verify the answer carefully. Include verifiable evidence in your response if possible.\n",
            "Reply \"TERMINATE\" in the end when everything is done.\n",
            "    You have access to the following user defined functions. They can be accessed from the module called `functions` by their function names.\n",
            "\n",
            "For example, if there was a function called `foo` you could import it by writing `from functions import foo`\n",
            "\n",
            "def get_stock_prices(stock_symbols, start_date, end_date):\n",
            "    \"\"\"Get the stock prices for the given stock symbols between\n",
            "        the start and end dates.\n",
            "\n",
            "        Args:\n",
            "            stock_symbols (str or list): The stock symbols to get the\n",
            "            prices for.\n",
            "            start_date (str): The start date in the format \n",
            "            'YYYY-MM-DD'.\n",
            "            end_date (str): The end date in the format 'YYYY-MM-DD'.\n",
            "\n",
            "        Returns:\n",
            "            pandas.DataFrame: The stock prices for the given stock\n",
            "            symbols indexed by date, with one column per stock \n",
            "            symbol.\n",
            "    \"\"\"\n",
            "    ...\n",
            "\n",
            "def plot_stock_prices(stock_prices, filename):\n",
            "    \"\"\"Plot the stock prices for the given stock symbols.\n",
            "\n",
            "        Args:\n",
            "            stock_prices (pandas.DataFrame): The stock prices for the \n",
            "            given stock symbols.\n",
            "    \"\"\"\n",
            "    ...\n"
          ]
        }
      ],
      "source": [
        "code_writer_agent_system_message += executor.format_functions_for_prompt()\n",
        "print(code_writer_agent_system_message)"
      ]
    },
    {
      "cell_type": "markdown",
      "id": "64d3cc77",
      "metadata": {
        "id": "64d3cc77"
      },
      "source": [
        "### Let's update the agents with the new system message"
      ]
    },
    {
      "cell_type": "code",
      "execution_count": 21,
      "id": "615c02b0-0175-442e-bed2-52bb35b8945c",
      "metadata": {
        "height": 132,
        "id": "615c02b0-0175-442e-bed2-52bb35b8945c"
      },
      "outputs": [],
      "source": [
        "code_writer_agent = ConversableAgent(\n",
        "    name=\"code_writer_agent\",\n",
        "    system_message=code_writer_agent_system_message,\n",
        "    llm_config=llm_config,\n",
        "    code_execution_config=False,\n",
        "    human_input_mode=\"NEVER\",\n",
        ")"
      ]
    },
    {
      "cell_type": "code",
      "execution_count": 22,
      "id": "a9a725b0-9bb6-47e3-85df-27d9aadc9290",
      "metadata": {
        "height": 149,
        "id": "a9a725b0-9bb6-47e3-85df-27d9aadc9290"
      },
      "outputs": [],
      "source": [
        "code_executor_agent = ConversableAgent(\n",
        "    name=\"code_executor_agent\",\n",
        "    llm_config=False,\n",
        "    code_execution_config={\"executor\": executor},\n",
        "    human_input_mode=\"ALWAYS\",\n",
        "    default_auto_reply=\n",
        "    \"Please continue. If everything is done, reply 'TERMINATE'.\",\n",
        ")"
      ]
    },
    {
      "cell_type": "markdown",
      "id": "e8d7b57c",
      "metadata": {
        "id": "e8d7b57c"
      },
      "source": [
        "### Start the same task again!"
      ]
    },
    {
      "cell_type": "code",
      "execution_count": 26,
      "id": "8895bb51-bcdd-4f63-a49f-858fc25c474f",
      "metadata": {
        "height": 132,
        "id": "8895bb51-bcdd-4f63-a49f-858fc25c474f",
        "outputId": "f0df9594-5157-4f58-9b22-cc7fc8f7505d",
        "colab": {
          "base_uri": "https://localhost:8080/"
        }
      },
      "outputs": [
        {
          "name": "stdout",
          "output_type": "stream",
          "text": [
            "code_executor_agent (to code_writer_agent):\n",
            "\n",
            "Today is 2024-06-20.Download the stock prices YTD for NVDA and TSLA and createa plot. Make sure the code is in markdown code block and save the figure to a file stock_prices_YTD_plot.png.\n",
            "\n",
            "--------------------------------------------------------------------------------\n",
            "code_writer_agent (to code_executor_agent):\n",
            "\n",
            "To achieve your task of downloading stock prices for NVDA and TSLA for the year-to-date period and creating a plot saved to a file named 'stock_prices_YTD_plot.png', we will proceed with the following steps:\n",
            "\n",
            "1. **Define the start and end dates**: Since the task specifies \"YTD\" (year-to-date) and today's date is 2024-06-20, the start date will be 2024-01-01 and the end date will be 2024-06-20.\n",
            "\n",
            "2. **Fetch the data for NVDA and TSLa**: Using the available Python function `get_stock_prices`, we will fetch stock prices for the specified period.\n",
            "\n",
            "3. **Plot the data**: Using another function `plot_stock_img`, we will plot this data.\n",
            "\n",
            "4. **Save the plot with the specific filename**: The filename will be set to 'stock_prices_YTD_plot.png'.\n",
            "\n",
            "Here is the complete code to execute to accomplish this task:\n",
            "\n",
            "```python\n",
            "# filename: stock_price_download_and_plot.py\n",
            "from functions import get_stock_prices, plot_stock_prices\n",
            "import pandas as pd\n",
            "\n",
            "# Define the date range for Year-To-Date (YTD)\n",
            "start_date = '2024-01-01'\n",
            "end_date = '2024-06-20'\n",
            "\n",
            "# Define the stock symbols for NVIDIA and Tesla\n",
            "stock_symbols = ['NVDA', 'TSLA']\n",
            "\n",
            "# Fetch the stock prices\n",
            "stock_prices = get_stock_prices(stock_symbols, start_date, end_date)\n",
            "\n",
            "# Plot stock prices and save the plot\n",
            "plot_filename = 'stock_prices_YTD_plot.png'\n",
            "plot_stock_prices(stock_prices, plot_filename)\n",
            "\n",
            "print(f\"Stock prices from {start_date} to {end_client} for {', '.join(stock_symbols)} have been plotted and saved to {plot_filename}.\")\n",
            "```\n",
            "\n",
            "Please save the above script in a .py file and run it in your Python environment. This script will perform all required actions including fetching the data, plotting, and saving the plot to the specified file. Let me know once it's executed, or if there's any specific part of the script you need further information about.\n",
            "\n",
            "--------------------------------------------------------------------------------\n",
            "Provide feedback to code_writer_agent. Press enter to skip and use auto-reply, or type 'exit' to end the conversation: \n",
            "\n",
            ">>>>>>>> NO HUMAN INPUT RECEIVED.\n",
            "\n",
            ">>>>>>>> USING AUTO REPLY...\n",
            "\n",
            ">>>>>>>> EXECUTING CODE BLOCK (inferred language is python)...\n",
            "code_executor_agent (to code_writer_agent):\n",
            "\n",
            "exitcode: 1 (execution failed)\n",
            "Code output: \n",
            "[                       0%%                      ]\n",
            "[*********************100%%**********************]  2 of 2 completed\n",
            "Traceback (most recent call last):\n",
            "  File \"/content/coding/stock_price_download_and_plot.py\", line 19, in <module>\n",
            "    print(f\"Stock prices from {start_date} to {end_client} for {', '.join(stock_symbols)} have been plotted and saved to {plot_filename}.\")\n",
            "NameError: name 'end_client' is not defined\n",
            "\n",
            "\n",
            "--------------------------------------------------------------------------------\n",
            "code_writer_agent (to code_executor_agent):\n",
            "\n",
            "It appears there was a typo in the last print statement of the provided Python script. The variable name `end_client` should have been `end_date`. I apologize for the oversight. Here is the corrected version of the script:\n",
            "\n",
            "```python\n",
            "# filename: stock_price_download_and_plot.py\n",
            "from functions import get_stock_prices, plot_stock_prices\n",
            "import pandas as pd\n",
            "\n",
            "# Define the date range for Year-To-Date (YTD)\n",
            "start_date = '2024-01-01'\n",
            "end_date = '2024-06-20'\n",
            "\n",
            "# Define the stock symbols for NVIDIA and Tesla\n",
            "stock_symbols = ['NVDA', 'TSLA']\n",
            "\n",
            "# Fetch the stock prices\n",
            "stock_prices = get_stock_prices(stock_symbols, start_date, end_date)\n",
            "\n",
            "# Plot stock prices and save the plot\n",
            "plot_filename = 'stock_prices_YTD_plot.png'\n",
            "plot_stock accidents(stock_prices, plot_filename)\n",
            "\n",
            "print(f\"Stock prices from {start_date} to {end_date} for {', '.join(stock_symbols)} have been plotted and saved to {plot_filename}.\")\n",
            "```\n",
            "\n",
            "Please save this corrected code in your .py file and run it again. This fix should resolve the error you encountered. Let me know if there are any further issues.\n",
            "\n",
            "--------------------------------------------------------------------------------\n",
            "Provide feedback to code_writer_agent. Press enter to skip and use auto-reply, or type 'exit' to end the conversation: exit\n"
          ]
        }
      ],
      "source": [
        "chat_result = code_executor_agent.initiate_chat(\n",
        "    code_writer_agent,\n",
        "    message=f\"Today is {today}.\"\n",
        "    \"Download the stock prices YTD for NVDA and TSLA and create\"\n",
        "    \"a plot. Make sure the code is in markdown code block and \"\n",
        "    \"save the figure to a file stock_prices_YTD_plot.png.\",\n",
        ")"
      ]
    },
    {
      "cell_type": "markdown",
      "id": "3c4bb718",
      "metadata": {
        "id": "3c4bb718"
      },
      "source": [
        "### Plot the results"
      ]
    },
    {
      "cell_type": "code",
      "execution_count": 27,
      "id": "a930c007-dd56-4da6-b542-902312ed27dd",
      "metadata": {
        "height": 30,
        "id": "a930c007-dd56-4da6-b542-902312ed27dd",
        "outputId": "044fe90e-9f79-49a0-9860-3d4d87dc56a0",
        "colab": {
          "base_uri": "https://localhost:8080/",
          "height": 424
        }
      },
      "outputs": [
        {
          "output_type": "execute_result",
          "data": {
            "image/png": "[encoded data removed]",
            "text/plain": [
              "<IPython.core.display.Image object>"
            ]
          },
          "metadata": {},
          "execution_count": 27
        }
      ],
      "source": [
        "Image(os.path.join(\"coding\", \"stock_prices_YTD_plot.png\"))"
      ]
    },
    {
      "cell_type": "markdown",
      "id": "c65bac5e",
      "metadata": {
        "id": "c65bac5e"
      },
      "source": [
        "**Note**: The agent will automatically save the code in a .py file and the plot in a .png file. To access and check the files generated by the agents, go to the `File` menu and select `Open....` Then, open the folder named `coding` to find all the generated files."
      ]
    }
  ],
  "metadata": {
    "kernelspec": {
      "display_name": "Python 3",
      "name": "python3"
    },
    "language_info": {
      "codemirror_mode": {
        "name": "ipython",
        "version": 3
      },
      "file_extension": ".py",
      "mimetype": "text/x-python",
      "name": "python",
      "nbconvert_exporter": "python",
      "pygments_lexer": "ipython3",
      "version": "3.11.9"
    },
    "colab": {
      "provenance": [],
      "gpuType": "T4",
      "include_colab_link": true
    },
    "accelerator": "GPU"
  },
  "nbformat": 4,
  "nbformat_minor": 5
}