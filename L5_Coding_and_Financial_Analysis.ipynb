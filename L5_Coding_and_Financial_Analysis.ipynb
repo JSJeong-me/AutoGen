{
  "cells": [
    {
      "cell_type": "markdown",
      "metadata": {
        "id": "view-in-github",
        "colab_type": "text"
      },
      "source": [
        "<a href=\"https://colab.research.google.com/github/JSJeong-me/AutoGen/blob/main/L5_Coding_and_Financial_Analysis.ipynb\" target=\"_parent\"><img src=\"https://colab.research.google.com/assets/colab-badge.svg\" alt=\"Open In Colab\"/></a>"
      ]
    },
    {
      "cell_type": "markdown",
      "id": "eacbb70c",
      "metadata": {
        "id": "eacbb70c"
      },
      "source": [
        "# Lesson 5: Coding and Financial Analysis"
      ]
    },
    {
      "cell_type": "markdown",
      "id": "babbc472",
      "metadata": {
        "id": "babbc472"
      },
      "source": [
        "## Setup"
      ]
    },
    {
      "cell_type": "code",
      "source": [
        "!wget https://github.com/JSJeong-me/AutoGen/raw/main/requirements.txt"
      ],
      "metadata": {
        "id": "gdeGMaQCy5Gu"
      },
      "id": "gdeGMaQCy5Gu",
      "execution_count": null,
      "outputs": []
    },
    {
      "cell_type": "code",
      "source": [
        "!pip install -r requirements.txt"
      ],
      "metadata": {
        "id": "w7BwcQg7a0Ac"
      },
      "id": "w7BwcQg7a0Ac",
      "execution_count": null,
      "outputs": []
    },
    {
      "cell_type": "code",
      "source": [
        "from google.colab import userdata\n",
        "import openai\n",
        "import os\n",
        "\n",
        "os.environ[\"OPENAI_API_KEY\"] = userdata.get('OPENAI_API_KEY')\n",
        "openai.api_key  = os.environ[\"OPENAI_API_KEY\"]"
      ],
      "metadata": {
        "id": "tXXqCIwdSa-W"
      },
      "id": "tXXqCIwdSa-W",
      "execution_count": 1,
      "outputs": []
    },
    {
      "cell_type": "code",
      "source": [
        "# from utils import get_openai_api_key\n",
        "# OPENAI_API_KEY = get_openai_api_key()\n",
        "llm_config = {\"model\": \"gpt-3.5-turbo\"}"
      ],
      "metadata": {
        "id": "3AIb7JtsbK3-"
      },
      "id": "3AIb7JtsbK3-",
      "execution_count": 3,
      "outputs": []
    },
    {
      "cell_type": "code",
      "execution_count": 4,
      "id": "b5613ba9-d387-4b7d-9670-ec2b6e4353be",
      "metadata": {
        "height": 30,
        "id": "b5613ba9-d387-4b7d-9670-ec2b6e4353be"
      },
      "outputs": [],
      "source": [
        "llm_config = {\"model\": \"gpt-4-turbo\"}"
      ]
    },
    {
      "cell_type": "markdown",
      "id": "e4e8fd85",
      "metadata": {
        "id": "e4e8fd85"
      },
      "source": [
        "## Define a code executor"
      ]
    },
    {
      "cell_type": "code",
      "execution_count": 5,
      "id": "fb90a672-4318-47de-a061-384e68dd75c9",
      "metadata": {
        "height": 30,
        "id": "fb90a672-4318-47de-a061-384e68dd75c9"
      },
      "outputs": [],
      "source": [
        "from autogen.coding import LocalCommandLineCodeExecutor"
      ]
    },
    {
      "cell_type": "code",
      "execution_count": 6,
      "id": "b5cafee7-a0ac-4583-8201-5e19eb603138",
      "metadata": {
        "height": 81,
        "id": "b5cafee7-a0ac-4583-8201-5e19eb603138"
      },
      "outputs": [],
      "source": [
        "executor = LocalCommandLineCodeExecutor(\n",
        "    timeout=60,\n",
        "    work_dir=\"coding\",\n",
        ")"
      ]
    },
    {
      "cell_type": "markdown",
      "id": "3b62a1a0",
      "metadata": {
        "id": "3b62a1a0"
      },
      "source": [
        "## Create agents"
      ]
    },
    {
      "cell_type": "code",
      "execution_count": 7,
      "id": "e6d9b3d6-9915-4fea-a853-512dfb77c4a5",
      "metadata": {
        "height": 30,
        "id": "e6d9b3d6-9915-4fea-a853-512dfb77c4a5"
      },
      "outputs": [],
      "source": [
        "from autogen import ConversableAgent, AssistantAgent"
      ]
    },
    {
      "cell_type": "markdown",
      "id": "b741b947",
      "metadata": {
        "id": "b741b947"
      },
      "source": [
        "### 1. Agent with code executor configuration"
      ]
    },
    {
      "cell_type": "code",
      "execution_count": 8,
      "id": "57d286e5-b7b7-405a-b1d7-212c0cc84497",
      "metadata": {
        "height": 149,
        "id": "57d286e5-b7b7-405a-b1d7-212c0cc84497"
      },
      "outputs": [],
      "source": [
        "code_executor_agent = ConversableAgent(\n",
        "    name=\"code_executor_agent\",\n",
        "    llm_config=False,\n",
        "    code_execution_config={\"executor\": executor},\n",
        "    human_input_mode=\"ALWAYS\",\n",
        "    default_auto_reply=\n",
        "    \"Please continue. If everything is done, reply 'TERMINATE'.\",\n",
        ")"
      ]
    },
    {
      "cell_type": "markdown",
      "id": "c1eb1094",
      "metadata": {
        "id": "c1eb1094"
      },
      "source": [
        "### 2. Agent with code writing capability"
      ]
    },
    {
      "cell_type": "code",
      "execution_count": 9,
      "id": "99c38c33-d335-48cd-96eb-cafe9ac70142",
      "metadata": {
        "height": 115,
        "id": "99c38c33-d335-48cd-96eb-cafe9ac70142",
        "outputId": "e7e113bc-28b1-4664-baae-efbac5500fb4",
        "colab": {
          "base_uri": "https://localhost:8080/"
        }
      },
      "outputs": [
        {
          "output_type": "stream",
          "name": "stdout",
          "text": [
            "\u001b[33m[autogen.oai.client: 09-11 18:23:39] {129} WARNING - The API key specified is not a valid OpenAI format; it won't work with the OpenAI-hosted model.\u001b[0m\n"
          ]
        },
        {
          "output_type": "stream",
          "name": "stderr",
          "text": [
            "WARNING:autogen.oai.client:The API key specified is not a valid OpenAI format; it won't work with the OpenAI-hosted model.\n"
          ]
        }
      ],
      "source": [
        "code_writer_agent = AssistantAgent(\n",
        "    name=\"code_writer_agent\",\n",
        "    llm_config=llm_config,\n",
        "    code_execution_config=False,\n",
        "    human_input_mode=\"NEVER\",\n",
        ")"
      ]
    },
    {
      "cell_type": "code",
      "execution_count": 10,
      "id": "0fb1a62f-8dd2-4636-9103-b26ea27a29bd",
      "metadata": {
        "height": 30,
        "id": "0fb1a62f-8dd2-4636-9103-b26ea27a29bd"
      },
      "outputs": [],
      "source": [
        "code_writer_agent_system_message = code_writer_agent.system_message"
      ]
    },
    {
      "cell_type": "code",
      "execution_count": 11,
      "id": "7c8e9a04-55fb-4124-a9d0-3431274476d2",
      "metadata": {
        "height": 30,
        "id": "7c8e9a04-55fb-4124-a9d0-3431274476d2",
        "outputId": "869f2d4b-c405-48f4-b4d8-a993798edade",
        "colab": {
          "base_uri": "https://localhost:8080/"
        }
      },
      "outputs": [
        {
          "output_type": "stream",
          "name": "stdout",
          "text": [
            "You are a helpful AI assistant.\n",
            "Solve tasks using your coding and language skills.\n",
            "In the following cases, suggest python code (in a python coding block) or shell script (in a sh coding block) for the user to execute.\n",
            "    1. When you need to collect info, use the code to output the info you need, for example, browse or search the web, download/read a file, print the content of a webpage or a file, get the current date/time, check the operating system. After sufficient info is printed and the task is ready to be solved based on your language skill, you can solve the task by yourself.\n",
            "    2. When you need to perform some task with code, use the code to perform the task and output the result. Finish the task smartly.\n",
            "Solve the task step by step if you need to. If a plan is not provided, explain your plan first. Be clear which step uses code, and which step uses your language skill.\n",
            "When using code, you must indicate the script type in the code block. The user cannot provide any other feedback or perform any other action beyond executing the code you suggest. The user can't modify your code. So do not suggest incomplete code which requires users to modify. Don't use a code block if it's not intended to be executed by the user.\n",
            "If you want the user to save the code in a file before executing it, put # filename: <filename> inside the code block as the first line. Don't include multiple code blocks in one response. Do not ask users to copy and paste the result. Instead, use 'print' function for the output when relevant. Check the execution result returned by the user.\n",
            "If the result indicates there is an error, fix the error and output the code again. Suggest the full code instead of partial code or code changes. If the error can't be fixed or if the task is not solved even after the code is executed successfully, analyze the problem, revisit your assumption, collect additional info you need, and think of a different approach to try.\n",
            "When you find an answer, verify the answer carefully. Include verifiable evidence in your response if possible.\n",
            "Reply \"TERMINATE\" in the end when everything is done.\n",
            "    \n"
          ]
        }
      ],
      "source": [
        "print(code_writer_agent_system_message)"
      ]
    },
    {
      "cell_type": "markdown",
      "id": "f487b75a",
      "metadata": {
        "id": "f487b75a"
      },
      "source": [
        "## The task!\n",
        "\n",
        "Ask the two agents to collaborate on a stock analysis task."
      ]
    },
    {
      "cell_type": "code",
      "execution_count": 12,
      "id": "9cce0ba4-9fea-4d36-b4a0-a1e51fcd09a6",
      "metadata": {
        "height": 132,
        "id": "9cce0ba4-9fea-4d36-b4a0-a1e51fcd09a6"
      },
      "outputs": [],
      "source": [
        "import datetime\n",
        "\n",
        "today = datetime.datetime.now().date()\n",
        "message = f\"Today is {today}. \"\\\n",
        "\"Create a plot showing stock gain YTD for NVDA and TLSA. \"\\\n",
        "\"Make sure the code is in markdown code block and save the figure\"\\\n",
        "\" to a file ytd_stock_gains.png.\"\"\""
      ]
    },
    {
      "cell_type": "markdown",
      "id": "4d02df6c",
      "metadata": {
        "id": "4d02df6c"
      },
      "source": [
        "<p style=\"background-color:#ECECEC; padding:15px; \"> <b>Note:</b> In this lesson, you will use GPT 4 for better results. Please note that the lesson has a quota limit. If you want to explore the code in this lesson further, we recommend trying it locally with your own API key."
      ]
    },
    {
      "cell_type": "markdown",
      "id": "77fc5f1b",
      "metadata": {
        "id": "77fc5f1b"
      },
      "source": [
        "**Note**: You might see a different set of outputs than those shown in the video. The agents collaborate to generate the code needed for your task, and they might produce code with errors in the process. However, they will ultimately provide a correct code in the end."
      ]
    },
    {
      "cell_type": "code",
      "execution_count": 13,
      "id": "230bb9c0-9c80-498f-a05f-96cef11ddb4e",
      "metadata": {
        "height": 81,
        "id": "230bb9c0-9c80-498f-a05f-96cef11ddb4e",
        "outputId": "89205e4a-eeb5-47fb-8c33-c799ea21fce3",
        "colab": {
          "base_uri": "https://localhost:8080/"
        }
      },
      "outputs": [
        {
          "name": "stdout",
          "output_type": "stream",
          "text": [
            "code_executor_agent (to code_writer_agent):\n",
            "\n",
            "Today is 2025-09-11. Create a plot showing stock gain YTD for NVDA and TLSA. Make sure the code is in markdown code block and save the figure to a file ytd_stock_gains.png.\n",
            "\n",
            "--------------------------------------------------------------------------------\n",
            "code_writer_agent (to code_executor_agent):\n",
            "\n",
            "To create a plot showing the year-to-date (YTD) stock gains for NVIDIA (NVDA) and Tesla (TSLA), I will employ the following plan:\n",
            "\n",
            "1. Fetch stock price data for NVDA and TSLA from the start of the year 2025 to the current date (2025-09-11).\n",
            "2. Calculate YTD gain/loss percentages from the starting price (2025-01-01) to each subsequent date.\n",
            "3. Plot these percentages on a time series graph.\n",
            "4. Save the plot to a file named 'ytd_stock_gains.png'.\n",
            "\n",
            "Let's start with the first step: fetching the stock data using the `yfinance` Python library. This script will download the necessary data:\n",
            "\n",
            "```python\n",
            "# Install necessary package\n",
            "!pip install yfinance matplotlib\n",
            "\n",
            "# Import libraries needed for the task\n",
            "import yfinance as yf\n",
            "import matplotlib.pyplot as plt\n",
            "from datetime import datetime\n",
            "\n",
            "# Define the tickers and fetch the data\n",
            "tickers = ['NVDA', 'TSLA']\n",
            "start_date = '2025-01-01'\n",
            "end_date = '2025-09-11'\n",
            "\n",
            "# Download the stock data\n",
            "data = yf.download(tickers, start=start_date, end=end_date)['Adj Close']\n",
            "\n",
            "# Calculate the YTD gain percentage\n",
            "daily_pct_change = (data / data.iloc[0] * 100) - 100\n",
            "\n",
            "# Plotting the YTD gains\n",
            "plt.figure(figsize=(10, 6))\n",
            "for ticker in tickers:\n",
            "    plt.plot(daily_pct_change.index, daily_pct_change[ticker], label=f'{ticker} YTD % Gain')\n",
            "\n",
            "plt.title('YTD Stock Gains for NVDA and TSLA')\n",
            "plt.xlabel('Date')\n",
            "plt.ylabel('Percentage Gain (%)')\n",
            "plt.legend()\n",
            "plt.grid(True)\n",
            "\n",
            "# Save the plot to a file\n",
            "plt.savefig('ytd_stock_gains.png')\n",
            "plt.show()\n",
            "\n",
            "# Display completion message - knowing that program executed to this point means file was saved successfully\n",
            "print(\"Plot created and saved as 'ytd_stock_gains.png'\")\n",
            "```\n",
            "\n",
            "Execute the above code in a Python environment to get the desired plot and save it as 'ytd_stock_gains.png'. Make sure your environment is able to access the internet to fetch the data from Yahoo Finance.\n",
            "\n",
            "--------------------------------------------------------------------------------\n",
            "Provide feedback to code_writer_agent. Press enter to skip and use auto-reply, or type 'exit' to end the conversation: \n",
            "\n",
            ">>>>>>>> NO HUMAN INPUT RECEIVED.\n",
            "\n",
            ">>>>>>>> USING AUTO REPLY...\n",
            "\n",
            ">>>>>>>> EXECUTING CODE BLOCK (inferred language is python)...\n",
            "code_executor_agent (to code_writer_agent):\n",
            "\n",
            "exitcode: 1 (execution failed)\n",
            "Code output:   File \"/content/coding/tmp_code_5d9a9f34ce2c518958c09287e4f2c38d.py\", line 2\n",
            "    !pip install -qqq yfinance matplotlib\n",
            "    ^\n",
            "SyntaxError: invalid syntax\n",
            "\n",
            "\n",
            "--------------------------------------------------------------------------------\n",
            "code_writer_agent (to code_executor_agent):\n",
            "\n",
            "The issue in the script is caused by the incorrect placement of the pip installation command for `yfinance` and `matplotlib`. In stand-alone Python scripts, you can't directly use shell commands (like `!pip install`). Let's adjust the code to make it suitable for execution:\n",
            "\n",
            "I will provide the appropriate instructions for installing necessary packages as comments, which you should run separately in your shell prior to running the Python script.\n",
            "\n",
            "Here's the revised Python script to compute and plot the YTD gains for NVDA and TSLA stocks:\n",
            "\n",
            "```python\n",
            "# filename: ytd_stock_gains.py\n",
            "\n",
            "# Install the required packages from your terminal before running this script:\n",
            "# pip install yfinance matplotlib\n",
            "\n",
            "# Import libraries needed for the task\n",
            "import yfinance as yf\n",
            "import matplotlib.pyplot as plt\n",
            "from datetime import datetime\n",
            "\n",
            "# Define the tickers and fetch the data\n",
            "tickers = ['NVDA', 'TSLA']\n",
            "start_date = '2025-01-01'\n",
            "end_date = '2025-09-11'\n",
            "\n",
            "# Download the stock data\n",
            "data = yf.download(tickers, start=start_date, end=end_date)['Adj Close']\n",
            "\n",
            "# Calculate the YTD gain percentage\n",
            "daily_pct_change = (data / data.iloc[0] * 100) - 100\n",
            "\n",
            "# Plotting the YTD gains\n",
            "plt.figure(figsize=(10, 6))\n",
            "for ticker in tickers:\n",
            "    plt.plot(daily_pct_change.index, daily_pct_change[ticker], label=f'{ticker} YTD % Gain')\n",
            "\n",
            "plt.title('YTD Stock Gains for NVDA and TSLA')\n",
            "plt.xlabel('Date')\n",
            "plt.ylabel('Percentage Gain (%)')\n",
            "plt.legend()\n",
            "plt.grid(True)\n",
            "\n",
            "# Save the plot to a file\n",
            "plt.savefig('ytd_stock_gains.png')\n",
            "plt.show()\n",
            "\n",
            "# Display completion message - knowing that program executed to this point means file was saved successfully\n",
            "print(\"Plot created and saved as 'ytd_stock_gains.png'\")\n",
            "```\n",
            "\n",
            "### Instructions to Execute the Script:\n",
            "1. **Install the Packages:**\n",
            "   - Run `pip install yfinance matplotlib` in your terminal to install required Python libraries.\n",
            "\n",
            "2. **Run the Script:**\n",
            "   - Save the above script to a file named `ytd_stock_gains.py`.\n",
            "   - Execute the script in your Python environment by running `python ytd_stock_gains.py` from your terminal.\n",
            "\n",
            "This approach should resolve the problem and successfully generate the plot.\n",
            "\n",
            "--------------------------------------------------------------------------------\n",
            "Provide feedback to code_writer_agent. Press enter to skip and use auto-reply, or type 'exit' to end the conversation: \n",
            "\n",
            ">>>>>>>> NO HUMAN INPUT RECEIVED.\n",
            "\n",
            ">>>>>>>> USING AUTO REPLY...\n",
            "\n",
            ">>>>>>>> EXECUTING CODE BLOCK (inferred language is python)...\n",
            "code_executor_agent (to code_writer_agent):\n",
            "\n",
            "exitcode: 1 (execution failed)\n",
            "Code output: /content/coding/ytd_stock_gains.py:17: FutureWarning: YF.download() has changed argument auto_adjust default to True\n",
            "  data = yf.download(tickers, start=start_date, end=end_date)['Adj Close']\n",
            "\n",
            "[                       0%                       ]\n",
            "[*********************100%***********************]  2 of 2 completed\n",
            "Traceback (most recent call last):\n",
            "  File \"/usr/local/lib/python3.12/dist-packages/pandas/core/indexes/base.py\", line 3805, in get_loc\n",
            "    return self._engine.get_loc(casted_key)\n",
            "           ^^^^^^^^^^^^^^^^^^^^^^^^^^^^^^^^\n",
            "  File \"index.pyx\", line 167, in pandas._libs.index.IndexEngine.get_loc\n",
            "  File \"index.pyx\", line 196, in pandas._libs.index.IndexEngine.get_loc\n",
            "  File \"pandas/_libs/hashtable_class_helper.pxi\", line 7081, in pandas._libs.hashtable.PyObjectHashTable.get_item\n",
            "  File \"pandas/_libs/hashtable_class_helper.pxi\", line 7089, in pandas._libs.hashtable.PyObjectHashTable.get_item\n",
            "KeyError: 'Adj Close'\n",
            "\n",
            "The above exception was the direct cause of the following exception:\n",
            "\n",
            "Traceback (most recent call last):\n",
            "  File \"/content/coding/ytd_stock_gains.py\", line 17, in <module>\n",
            "    data = yf.download(tickers, start=start_date, end=end_date)['Adj Close']\n",
            "           ~~~~~~~~~~~~~~~~~~~~~~~~~~~~~~~~~~~~~~~~~~~~~~~~~~~~^^^^^^^^^^^^^\n",
            "  File \"/usr/local/lib/python3.12/dist-packages/pandas/core/frame.py\", line 4101, in __getitem__\n",
            "    return self._getitem_multilevel(key)\n",
            "           ^^^^^^^^^^^^^^^^^^^^^^^^^^^^^\n",
            "  File \"/usr/local/lib/python3.12/dist-packages/pandas/core/frame.py\", line 4159, in _getitem_multilevel\n",
            "    loc = self.columns.get_loc(key)\n",
            "          ^^^^^^^^^^^^^^^^^^^^^^^^^\n",
            "  File \"/usr/local/lib/python3.12/dist-packages/pandas/core/indexes/multi.py\", line 3040, in get_loc\n",
            "    loc = self._get_level_indexer(key, level=0)\n",
            "          ^^^^^^^^^^^^^^^^^^^^^^^^^^^^^^^^^^^^^\n",
            "  File \"/usr/local/lib/python3.12/dist-packages/pandas/core/indexes/multi.py\", line 3391, in _get_level_indexer\n",
            "    idx = self._get_loc_single_level_index(level_index, key)\n",
            "          ^^^^^^^^^^^^^^^^^^^^^^^^^^^^^^^^^^^^^^^^^^^^^^^^^^\n",
            "  File \"/usr/local/lib/python3.12/dist-packages/pandas/core/indexes/multi.py\", line 2980, in _get_loc_single_level_index\n",
            "    return level_index.get_loc(key)\n",
            "           ^^^^^^^^^^^^^^^^^^^^^^^^\n",
            "  File \"/usr/local/lib/python3.12/dist-packages/pandas/core/indexes/base.py\", line 3812, in get_loc\n",
            "    raise KeyError(key) from err\n",
            "KeyError: 'Adj Close'\n",
            "\n",
            "\n",
            "--------------------------------------------------------------------------------\n",
            "code_writer_agent (to code_executor_agent):\n",
            "\n",
            "The error message indicates a problem accessing the 'Adj Close' column from the downloaded stock price data. This might be due to a change in the default structure of data returned by `yfinance`. We can handle this by modifying how we access the adjusted close prices.\n",
            "\n",
            "Instead of directly indexing for 'Adj Close', let's first inspect the structure of the returned data frame to ensure we are accessing the correct data structure. I will adjust the script to capture and print the first few lines of the dataframe structure before computing YTD gains. After inspecting the structure, I will provide the corrected script to handle data correctly.\n",
            "\n",
            "Here's the modified script:\n",
            "\n",
            "```python\n",
            "# filename: check_yfinance_data_structure.py\n",
            "\n",
            "# Import libraries needed for the task\n",
            "import yfinance as yf\n",
            "\n",
            "# Define the tickers and fetch the data\n",
            "tickers = ['NVDA', 'TSLA']\n",
            "start_date = '2025-01-01'\n",
            "end_date = '2025-09-11'\n",
            "\n",
            "# Download the stock data\n",
            "data = yf.download(tickers, start=start_date, end=end_date)\n",
            "\n",
            "# Print the structure of the data to understand how to access 'Adj Close' data\n",
            "print(data.head())\n",
            "```\n",
            "\n",
            "### Instructions to Execute the Script:\n",
            "1. **Install the Packages**, if not already installed:\n",
            "   - Run `pip install yfinance` in your terminal to install required Python libraries.\n",
            "\n",
            "2. **Run the Script**:\n",
            "   - Save the above script to a check file named `check_yfinance_data_structure.py`.\n",
            "   - Execute the script in your Python environment by running `python check_yfinance_data_structure.py` from your terminal.\n",
            "\n",
            "This will show us the structure of the dataframe, and based on that, I can guide how to correctly access the 'Adj Close' data or adjust if that information is stored differently. Once we know the structure, I'll adjust the code accordingly to plot the YTD gains.\n",
            "\n",
            "--------------------------------------------------------------------------------\n",
            "Provide feedback to code_writer_agent. Press enter to skip and use auto-reply, or type 'exit' to end the conversation: \n",
            "\n",
            ">>>>>>>> NO HUMAN INPUT RECEIVED.\n",
            "\n",
            ">>>>>>>> USING AUTO REPLY...\n",
            "\n",
            ">>>>>>>> EXECUTING CODE BLOCK (inferred language is python)...\n",
            "code_executor_agent (to code_writer_agent):\n",
            "\n",
            "exitcode: 0 (execution succeeded)\n",
            "Code output: /content/coding/check_yfinance_data_structure.py:12: FutureWarning: YF.download() has changed argument auto_adjust default to True\n",
            "  data = yf.download(tickers, start=start_date, end=end_date)\n",
            "\n",
            "[                       0%                       ]\n",
            "[*********************100%***********************]  2 of 2 completed\n",
            "Price            Close              ...     Volume           \n",
            "Ticker            NVDA        TSLA  ...       NVDA       TSLA\n",
            "Date                                ...                      \n",
            "2025-01-02  138.287674  379.279999  ...  198247200  109710700\n",
            "2025-01-03  144.446686  410.440002  ...  229322500   95423300\n",
            "2025-01-06  149.405869  411.049988  ...  265377400   85516500\n",
            "2025-01-07  140.117371  394.359985  ...  351782200   75699500\n",
            "2025-01-08  140.087387  394.940002  ...  227349900   73038800\n",
            "\n",
            "[5 rows x 10 columns]\n",
            "\n",
            "\n",
            "--------------------------------------------------------------------------------\n",
            "code_writer_agent (to code_executor_agent):\n",
            "\n",
            "Thank you for providing the output structure of the data. It shows that the data for 'Close' prices (which would be equivalent to 'Adj Close' when the `auto_adjust` parameter is set to `True` by default) is now indexed with two levels: one indicating the type of data ('Close', 'Volume') and the other specifying the ticker symbol ('NVDA', 'TSLA').\n",
            "\n",
            "I will adjust the script to correctly access the 'Close' price data and then proceed with calculating the Year-to-Date (YTD) gains and plotting them. I will also ensure that the plot and YTD gains are saved correctly.\n",
            "\n",
            "Here's the revised script:\n",
            "\n",
            "```python\n",
            "# filename: plot_ytd_stock_gains.py\n",
            "\n",
            "# Import required libraries\n",
            "import yfinance as yf\n",
            "import matplotlib.pyplot as plt\n",
            "from datetime import datetime\n",
            "\n",
            "# Define the tickers and set the date range for 2025 YTD\n",
            "tickers = ['NVDA', 'TSLA']\n",
            "start_date = '2025-01-01'\n",
            "end_date = '2025-09-11'\n",
            "\n",
            "# Download the stock data\n",
            "data = yf.download(tickers, start=start_date, end=end_date)\n",
            "\n",
            "# Access only the 'Close' prices\n",
            "close_prices = data['Close']\n",
            "\n",
            "# Calculate the YTD percentage change\n",
            "ytd_pct_change = (close_prices / close_prices.iloc[0] * 100) - 100\n",
            "\n",
            "# Plotting the YTD percentage change for each stock\n",
            "plt.figure(figsize=(10, 6))\n",
            "for ticker in tickers:\n",
            "    plt.plot(ytd_pct_change.index, ytd_pct_change[ticker], label=f'{ticker} YTD % Gain')\n",
            "\n",
            "plt.title('YTD Stock Gains for NVDA and TSLA')\n",
            "plt.xlabel('Date')\n",
            "plt.ylabel('Percentage Gain (%)')\n",
            "plt.legend()\n",
            "plt.grid(True)\n",
            "\n",
            "# Save the plot to a file\n",
            "plt.savefig('ytd_stock_gains.png')\n",
            "plt.show()\n",
            "\n",
            "# Confirmation message for file creation\n",
            "print(\"Plot created and saved as 'ytd_stock_gains.png'\")\n",
            "```\n",
            "\n",
            "### Instructions to Execute the Script:\n",
            "1. **Install the Packages**, if not already installed:\n",
            "   - Run `pip install yfinance matplotlib` in your terminal to install required Python libraries.\n",
            "\n",
            "2. **Run the Script**:\n",
            "   - Save the revised script above in a file named `plot_ytd_stock_gains.py`.\n",
            "   - Execute the script in your Python environment by running `python plot_ytd_stock_gains.py` from your terminal.\n",
            "\n",
            "This script should correctly calculate the YTD percentage changes, plot them for NVDA and TSLA, and save the plot to `ytd_stock_gains.png`. Proceed with running the script according to the provided instructions.\n",
            "\n",
            "--------------------------------------------------------------------------------\n",
            "Provide feedback to code_writer_agent. Press enter to skip and use auto-reply, or type 'exit' to end the conversation: exit\n"
          ]
        }
      ],
      "source": [
        "chat_result = code_executor_agent.initiate_chat(\n",
        "    code_writer_agent,\n",
        "    message=message,\n",
        ")"
      ]
    },
    {
      "cell_type": "markdown",
      "id": "9b0cbbdd",
      "metadata": {
        "id": "9b0cbbdd"
      },
      "source": [
        "## Let's see the plot!\n",
        "\n",
        "**Note**:\n",
        "* Your plot might differ from the one shown in the video because the LLM's freestyle code generation could choose a different plot type, such as a bar plot.\n",
        "* You can re-run the previous cell and check the generated code. If it produces a bar plot, remember you can directly specify your preference by asking for a specific plot type instead of a bar plot."
      ]
    },
    {
      "cell_type": "code",
      "execution_count": null,
      "id": "26804313-566f-42fb-9243-4e0c147f770b",
      "metadata": {
        "height": 81,
        "id": "26804313-566f-42fb-9243-4e0c147f770b"
      },
      "outputs": [],
      "source": [
        "import os\n",
        "from IPython.display import Image\n",
        "\n",
        "Image(os.path.join(\"coding\", \"stock_prices_YTD_plot.png\"))"
      ]
    },
    {
      "cell_type": "markdown",
      "id": "ccf49d7e",
      "metadata": {
        "id": "ccf49d7e"
      },
      "source": [
        "**Note**: The agent will automatically save the code in a .py file and the plot in a .png file. To access and check the files generated by the agents, go to the `File` menu and select `Open....` Then, open the folder named `coding` to find all the generated files."
      ]
    },
    {
      "cell_type": "markdown",
      "id": "5aded8dc",
      "metadata": {
        "id": "5aded8dc"
      },
      "source": [
        "## User-Defined Functions\n",
        "\n",
        "Instead of asking LLM to generate the code for downloading stock data\n",
        "and plotting charts each time, you can define functions for these two tasks and have LLM call these functions in the code."
      ]
    },
    {
      "cell_type": "code",
      "execution_count": 16,
      "id": "bca089a7-d85a-40ad-b33d-6a5318076c6e",
      "metadata": {
        "height": 387,
        "id": "bca089a7-d85a-40ad-b33d-6a5318076c6e"
      },
      "outputs": [],
      "source": [
        "def get_stock_prices(stock_symbols, start_date, end_date):\n",
        "    \"\"\"Get the stock prices for the given stock symbols between\n",
        "    the start and end dates.\n",
        "\n",
        "    Args:\n",
        "        stock_symbols (str or list): The stock symbols to get the\n",
        "        prices for.\n",
        "        start_date (str): The start date in the format\n",
        "        'YYYY-MM-DD'.\n",
        "        end_date (str): The end date in the format 'YYYY-MM-DD'.\n",
        "\n",
        "    Returns:\n",
        "        pandas.DataFrame: The stock prices for the given stock\n",
        "        symbols indexed by date, with one column per stock\n",
        "        symbol.\n",
        "    \"\"\"\n",
        "    import yfinance\n",
        "\n",
        "    stock_data = yfinance.download(\n",
        "        stock_symbols, start=start_date, end=end_date\n",
        "    )\n",
        "    return stock_data.get(\"Close\")"
      ]
    },
    {
      "cell_type": "code",
      "execution_count": 17,
      "id": "5dff50a6-39ae-46a4-9b9c-e98c1550472b",
      "metadata": {
        "height": 336,
        "id": "5dff50a6-39ae-46a4-9b9c-e98c1550472b"
      },
      "outputs": [],
      "source": [
        "def plot_stock_prices(stock_prices, filename):\n",
        "    \"\"\"Plot the stock prices for the given stock symbols.\n",
        "\n",
        "    Args:\n",
        "        stock_prices (pandas.DataFrame): The stock prices for the\n",
        "        given stock symbols.\n",
        "    \"\"\"\n",
        "    import matplotlib.pyplot as plt\n",
        "\n",
        "    plt.figure(figsize=(10, 5))\n",
        "    for column in stock_prices.columns:\n",
        "        plt.plot(\n",
        "            stock_prices.index, stock_prices[column], label=column\n",
        "                )\n",
        "    plt.title(\"Stock Prices\")\n",
        "    plt.xlabel(\"Date\")\n",
        "    plt.ylabel(\"Price\")\n",
        "    plt.grid(True)\n",
        "    plt.savefig(filename)"
      ]
    },
    {
      "cell_type": "markdown",
      "id": "63ff7175",
      "metadata": {
        "id": "63ff7175"
      },
      "source": [
        "### Create a new executor with the user-defined functions"
      ]
    },
    {
      "cell_type": "code",
      "execution_count": 18,
      "id": "452d315f-681d-4418-9cd0-653cc8d6a668",
      "metadata": {
        "height": 98,
        "id": "452d315f-681d-4418-9cd0-653cc8d6a668"
      },
      "outputs": [],
      "source": [
        "executor = LocalCommandLineCodeExecutor(\n",
        "    timeout=60,\n",
        "    work_dir=\"coding\",\n",
        "    functions=[get_stock_prices, plot_stock_prices],\n",
        ")"
      ]
    },
    {
      "cell_type": "code",
      "execution_count": 19,
      "id": "b95b30ad-1e6d-4d88-9a6c-2b0f11b625e4",
      "metadata": {
        "height": 66,
        "id": "b95b30ad-1e6d-4d88-9a6c-2b0f11b625e4",
        "outputId": "e6adbf45-fbc3-44dc-e45c-116cc41ebe47",
        "colab": {
          "base_uri": "https://localhost:8080/"
        }
      },
      "outputs": [
        {
          "output_type": "stream",
          "name": "stdout",
          "text": [
            "You are a helpful AI assistant.\n",
            "Solve tasks using your coding and language skills.\n",
            "In the following cases, suggest python code (in a python coding block) or shell script (in a sh coding block) for the user to execute.\n",
            "    1. When you need to collect info, use the code to output the info you need, for example, browse or search the web, download/read a file, print the content of a webpage or a file, get the current date/time, check the operating system. After sufficient info is printed and the task is ready to be solved based on your language skill, you can solve the task by yourself.\n",
            "    2. When you need to perform some task with code, use the code to perform the task and output the result. Finish the task smartly.\n",
            "Solve the task step by step if you need to. If a plan is not provided, explain your plan first. Be clear which step uses code, and which step uses your language skill.\n",
            "When using code, you must indicate the script type in the code block. The user cannot provide any other feedback or perform any other action beyond executing the code you suggest. The user can't modify your code. So do not suggest incomplete code which requires users to modify. Don't use a code block if it's not intended to be executed by the user.\n",
            "If you want the user to save the code in a file before executing it, put # filename: <filename> inside the code block as the first line. Don't include multiple code blocks in one response. Do not ask users to copy and paste the result. Instead, use 'print' function for the output when relevant. Check the execution result returned by the user.\n",
            "If the result indicates there is an error, fix the error and output the code again. Suggest the full code instead of partial code or code changes. If the error can't be fixed or if the task is not solved even after the code is executed successfully, analyze the problem, revisit your assumption, collect additional info you need, and think of a different approach to try.\n",
            "When you find an answer, verify the answer carefully. Include verifiable evidence in your response if possible.\n",
            "Reply \"TERMINATE\" in the end when everything is done.\n",
            "    You have access to the following user defined functions. They can be accessed from the module called `functions` by their function names.\n",
            "\n",
            "For example, if there was a function called `foo` you could import it by writing `from functions import foo`\n",
            "\n",
            "def get_stock_prices(stock_symbols, start_date, end_date):\n",
            "    \"\"\"Get the stock prices for the given stock symbols between\n",
            "        the start and end dates.\n",
            "\n",
            "        Args:\n",
            "            stock_symbols (str or list): The stock symbols to get the\n",
            "            prices for.\n",
            "            start_date (str): The start date in the format\n",
            "            'YYYY-MM-DD'.\n",
            "            end_date (str): The end date in the format 'YYYY-MM-DD'.\n",
            "\n",
            "        Returns:\n",
            "            pandas.DataFrame: The stock prices for the given stock\n",
            "            symbols indexed by date, with one column per stock\n",
            "            symbol.\n",
            "    \"\"\"\n",
            "    ...\n",
            "\n",
            "def plot_stock_prices(stock_prices, filename):\n",
            "    \"\"\"Plot the stock prices for the given stock symbols.\n",
            "\n",
            "        Args:\n",
            "            stock_prices (pandas.DataFrame): The stock prices for the\n",
            "            given stock symbols.\n",
            "    \"\"\"\n",
            "    ...\n"
          ]
        }
      ],
      "source": [
        "code_writer_agent_system_message += executor.format_functions_for_prompt()\n",
        "print(code_writer_agent_system_message)"
      ]
    },
    {
      "cell_type": "markdown",
      "id": "64d3cc77",
      "metadata": {
        "id": "64d3cc77"
      },
      "source": [
        "### Let's update the agents with the new system message"
      ]
    },
    {
      "cell_type": "code",
      "execution_count": 20,
      "id": "615c02b0-0175-442e-bed2-52bb35b8945c",
      "metadata": {
        "height": 132,
        "id": "615c02b0-0175-442e-bed2-52bb35b8945c",
        "outputId": "ba8b0c2d-4ba9-4609-9865-3c03ce731795",
        "colab": {
          "base_uri": "https://localhost:8080/"
        }
      },
      "outputs": [
        {
          "output_type": "stream",
          "name": "stdout",
          "text": [
            "\u001b[33m[autogen.oai.client: 09-11 18:27:42] {129} WARNING - The API key specified is not a valid OpenAI format; it won't work with the OpenAI-hosted model.\u001b[0m\n"
          ]
        },
        {
          "output_type": "stream",
          "name": "stderr",
          "text": [
            "WARNING:autogen.oai.client:The API key specified is not a valid OpenAI format; it won't work with the OpenAI-hosted model.\n"
          ]
        }
      ],
      "source": [
        "code_writer_agent = ConversableAgent(\n",
        "    name=\"code_writer_agent\",\n",
        "    system_message=code_writer_agent_system_message,\n",
        "    llm_config=llm_config,\n",
        "    code_execution_config=False,\n",
        "    human_input_mode=\"NEVER\",\n",
        ")"
      ]
    },
    {
      "cell_type": "code",
      "execution_count": 21,
      "id": "a9a725b0-9bb6-47e3-85df-27d9aadc9290",
      "metadata": {
        "height": 149,
        "id": "a9a725b0-9bb6-47e3-85df-27d9aadc9290"
      },
      "outputs": [],
      "source": [
        "code_executor_agent = ConversableAgent(\n",
        "    name=\"code_executor_agent\",\n",
        "    llm_config=False,\n",
        "    code_execution_config={\"executor\": executor},\n",
        "    human_input_mode=\"ALWAYS\",\n",
        "    default_auto_reply=\n",
        "    \"Please continue. If everything is done, reply 'TERMINATE'.\",\n",
        ")"
      ]
    },
    {
      "cell_type": "markdown",
      "id": "e8d7b57c",
      "metadata": {
        "id": "e8d7b57c"
      },
      "source": [
        "### Start the same task again!"
      ]
    },
    {
      "cell_type": "code",
      "execution_count": 22,
      "id": "8895bb51-bcdd-4f63-a49f-858fc25c474f",
      "metadata": {
        "height": 132,
        "id": "8895bb51-bcdd-4f63-a49f-858fc25c474f",
        "outputId": "66246044-291b-47b6-9a60-f243bd132abb",
        "colab": {
          "base_uri": "https://localhost:8080/"
        }
      },
      "outputs": [
        {
          "name": "stdout",
          "output_type": "stream",
          "text": [
            "code_executor_agent (to code_writer_agent):\n",
            "\n",
            "Today is 2025-09-11.Download the stock prices YTD for NVDA and TSLA and createa plot. Make sure the code is in markdown code block and save the figure to a file stock_prices_YTD_plot.png.\n",
            "\n",
            "--------------------------------------------------------------------------------\n",
            "code_writer_agent (to code_executor_agent):\n",
            "\n",
            "To accomplish this task, we need to perform several steps:\n",
            "1. Use the `get_stock_prices` function to fetch the stock prices for NVDA and TSLA starting from the beginning of the year (2025-01-01) to today (2025-09-11).\n",
            "2. Use the `plot_stock_prices` function to plot these prices and save the plot to a PNG file named \"stock_prices_YTD_plot.png\".\n",
            "\n",
            "Here's a script that you can run to achieve this. Copy the script to a file and execute it in your Python environment.\n",
            "\n",
            "```python\n",
            "# filename: stock_prices_plot.py\n",
            "from functions import get_stock_prices, plot_stock_prices\n",
            "\n",
            "# Define the stock symbols and the date range\n",
            "stock_symbols = ['NVDA', 'TSLA']\n",
            "start_date = '2025-01-01'\n",
            "end_date = '2025-09-11'\n",
            "\n",
            "# Fetch stock prices for the given date range\n",
            "stock_prices = get_stock_prices(stock_symbols, start_date, end_date)\n",
            "\n",
            "# Plot the stock prices and save to file\n",
            "plot_stock_prices(stock_prices, 'stock_prices_YTD_plot.png')\n",
            "```\n",
            "\n",
            "After running the script, the plot will be saved as \"stock_prices_YTD_plot.png\" in your working directory. Please ensure you run the script in an environment where the `functions` module is accessible.\n",
            "\n",
            "--------------------------------------------------------------------------------\n",
            "Provide feedback to code_writer_agent. Press enter to skip and use auto-reply, or type 'exit' to end the conversation: exit\n"
          ]
        }
      ],
      "source": [
        "chat_result = code_executor_agent.initiate_chat(\n",
        "    code_writer_agent,\n",
        "    message=f\"Today is {today}.\"\n",
        "    \"Download the stock prices YTD for NVDA and TSLA and create\"\n",
        "    \"a plot. Make sure the code is in markdown code block and \"\n",
        "    \"save the figure to a file stock_prices_YTD_plot.png.\",\n",
        ")"
      ]
    },
    {
      "cell_type": "markdown",
      "id": "3c4bb718",
      "metadata": {
        "id": "3c4bb718"
      },
      "source": [
        "### Plot the results"
      ]
    },
    {
      "cell_type": "code",
      "execution_count": null,
      "id": "a930c007-dd56-4da6-b542-902312ed27dd",
      "metadata": {
        "height": 30,
        "id": "a930c007-dd56-4da6-b542-902312ed27dd"
      },
      "outputs": [],
      "source": [
        "Image(os.path.join(\"coding\", \"stock_prices_YTD_plot.png\"))"
      ]
    },
    {
      "cell_type": "markdown",
      "id": "c65bac5e",
      "metadata": {
        "id": "c65bac5e"
      },
      "source": [
        "**Note**: The agent will automatically save the code in a .py file and the plot in a .png file. To access and check the files generated by the agents, go to the `File` menu and select `Open....` Then, open the folder named `coding` to find all the generated files."
      ]
    }
  ],
  "metadata": {
    "kernelspec": {
      "display_name": "Python 3",
      "name": "python3"
    },
    "language_info": {
      "codemirror_mode": {
        "name": "ipython",
        "version": 3
      },
      "file_extension": ".py",
      "mimetype": "text/x-python",
      "name": "python",
      "nbconvert_exporter": "python",
      "pygments_lexer": "ipython3",
      "version": "3.11.9"
    },
    "colab": {
      "provenance": [],
      "gpuType": "T4",
      "include_colab_link": true
    },
    "accelerator": "GPU"
  },
  "nbformat": 4,
  "nbformat_minor": 5
}