{
  "cells": [
    {
      "cell_type": "markdown",
      "metadata": {
        "id": "view-in-github",
        "colab_type": "text"
      },
      "source": [
        "<a href=\"https://colab.research.google.com/github/JSJeong-me/AutoGen/blob/main/L5_Coding_and_Financial_Analysis.ipynb\" target=\"_parent\"><img src=\"https://colab.research.google.com/assets/colab-badge.svg\" alt=\"Open In Colab\"/></a>"
      ]
    },
    {
      "cell_type": "markdown",
      "id": "eacbb70c",
      "metadata": {
        "id": "eacbb70c"
      },
      "source": [
        "# Lesson 5: Coding and Financial Analysis"
      ]
    },
    {
      "cell_type": "markdown",
      "id": "babbc472",
      "metadata": {
        "id": "babbc472"
      },
      "source": [
        "## Setup"
      ]
    },
    {
      "cell_type": "code",
      "source": [
        "!wget https://github.com/JSJeong-me/AutoGen/raw/main/requirements.txt"
      ],
      "metadata": {
        "id": "gdeGMaQCy5Gu"
      },
      "id": "gdeGMaQCy5Gu",
      "execution_count": null,
      "outputs": []
    },
    {
      "cell_type": "code",
      "source": [
        "!pip install -r requirements.txt"
      ],
      "metadata": {
        "id": "w7BwcQg7a0Ac"
      },
      "id": "w7BwcQg7a0Ac",
      "execution_count": null,
      "outputs": []
    },
    {
      "cell_type": "code",
      "source": [
        "!echo \"OPENAI_API_KEY=sk-\" >> .env\n",
        "!source /content/.env\n"
      ],
      "metadata": {
        "id": "tXXqCIwdSa-W"
      },
      "id": "tXXqCIwdSa-W",
      "execution_count": 3,
      "outputs": []
    },
    {
      "cell_type": "code",
      "source": [
        "# Add your utilities or helper functions to this file.\n",
        "\n",
        "import os\n",
        "from dotenv import load_dotenv, find_dotenv\n",
        "\n",
        "# these expect to find a .env file at the directory above the lesson.                                                                                                                     # the format for that file is (without the comment)                                                                                                                                       #API_KEYNAME=AStringThatIsTheLongAPIKeyFromSomeService\n",
        "def load_env():\n",
        "    _ = load_dotenv(find_dotenv())\n",
        "\n",
        "def get_openai_api_key():\n",
        "    load_env()\n",
        "    openai_api_key = os.getenv(\"OPENAI_API_KEY\")\n",
        "    return openai_api_key"
      ],
      "metadata": {
        "id": "pnBhOzqZbAsB"
      },
      "id": "pnBhOzqZbAsB",
      "execution_count": 4,
      "outputs": []
    },
    {
      "cell_type": "code",
      "source": [
        "# from utils import get_openai_api_key\n",
        "OPENAI_API_KEY = get_openai_api_key()\n",
        "llm_config = {\"model\": \"gpt-3.5-turbo\"}"
      ],
      "metadata": {
        "id": "3AIb7JtsbK3-"
      },
      "id": "3AIb7JtsbK3-",
      "execution_count": 5,
      "outputs": []
    },
    {
      "cell_type": "code",
      "execution_count": 6,
      "id": "b5613ba9-d387-4b7d-9670-ec2b6e4353be",
      "metadata": {
        "height": 30,
        "id": "b5613ba9-d387-4b7d-9670-ec2b6e4353be"
      },
      "outputs": [],
      "source": [
        "llm_config = {\"model\": \"gpt-4-turbo\"}"
      ]
    },
    {
      "cell_type": "markdown",
      "id": "e4e8fd85",
      "metadata": {
        "id": "e4e8fd85"
      },
      "source": [
        "## Define a code executor"
      ]
    },
    {
      "cell_type": "code",
      "execution_count": 7,
      "id": "fb90a672-4318-47de-a061-384e68dd75c9",
      "metadata": {
        "height": 30,
        "id": "fb90a672-4318-47de-a061-384e68dd75c9",
        "outputId": "fb223f13-02d8-4dd3-8174-c2a169d2195b",
        "colab": {
          "base_uri": "https://localhost:8080/"
        }
      },
      "outputs": [
        {
          "output_type": "stream",
          "name": "stderr",
          "text": [
            "/usr/local/lib/python3.10/dist-packages/dask/dataframe/__init__.py:42: FutureWarning: \n",
            "Dask dataframe query planning is disabled because dask-expr is not installed.\n",
            "\n",
            "You can install it with `pip install dask[dataframe]` or `conda install dask`.\n",
            "This will raise in a future version.\n",
            "\n",
            "  warnings.warn(msg, FutureWarning)\n"
          ]
        }
      ],
      "source": [
        "from autogen.coding import LocalCommandLineCodeExecutor"
      ]
    },
    {
      "cell_type": "code",
      "execution_count": 8,
      "id": "b5cafee7-a0ac-4583-8201-5e19eb603138",
      "metadata": {
        "height": 81,
        "id": "b5cafee7-a0ac-4583-8201-5e19eb603138"
      },
      "outputs": [],
      "source": [
        "executor = LocalCommandLineCodeExecutor(\n",
        "    timeout=60,\n",
        "    work_dir=\"coding\",\n",
        ")"
      ]
    },
    {
      "cell_type": "markdown",
      "id": "3b62a1a0",
      "metadata": {
        "id": "3b62a1a0"
      },
      "source": [
        "## Create agents"
      ]
    },
    {
      "cell_type": "code",
      "execution_count": 9,
      "id": "e6d9b3d6-9915-4fea-a853-512dfb77c4a5",
      "metadata": {
        "height": 30,
        "id": "e6d9b3d6-9915-4fea-a853-512dfb77c4a5"
      },
      "outputs": [],
      "source": [
        "from autogen import ConversableAgent, AssistantAgent"
      ]
    },
    {
      "cell_type": "markdown",
      "id": "b741b947",
      "metadata": {
        "id": "b741b947"
      },
      "source": [
        "### 1. Agent with code executor configuration"
      ]
    },
    {
      "cell_type": "code",
      "execution_count": 10,
      "id": "57d286e5-b7b7-405a-b1d7-212c0cc84497",
      "metadata": {
        "height": 149,
        "id": "57d286e5-b7b7-405a-b1d7-212c0cc84497"
      },
      "outputs": [],
      "source": [
        "code_executor_agent = ConversableAgent(\n",
        "    name=\"code_executor_agent\",\n",
        "    llm_config=False,\n",
        "    code_execution_config={\"executor\": executor},\n",
        "    human_input_mode=\"ALWAYS\",\n",
        "    default_auto_reply=\n",
        "    \"Please continue. If everything is done, reply 'TERMINATE'.\",\n",
        ")"
      ]
    },
    {
      "cell_type": "markdown",
      "id": "c1eb1094",
      "metadata": {
        "id": "c1eb1094"
      },
      "source": [
        "### 2. Agent with code writing capability"
      ]
    },
    {
      "cell_type": "code",
      "execution_count": 11,
      "id": "99c38c33-d335-48cd-96eb-cafe9ac70142",
      "metadata": {
        "height": 115,
        "id": "99c38c33-d335-48cd-96eb-cafe9ac70142",
        "outputId": "08ae98f2-681d-4416-9ac6-0c70c436125b",
        "colab": {
          "base_uri": "https://localhost:8080/"
        }
      },
      "outputs": [
        {
          "output_type": "stream",
          "name": "stdout",
          "text": [
            "[autogen.oai.client: 08-30 03:18:22] {129} WARNING - The API key specified is not a valid OpenAI format; it won't work with the OpenAI-hosted model.\n"
          ]
        },
        {
          "output_type": "stream",
          "name": "stderr",
          "text": [
            "WARNING:autogen.oai.client:The API key specified is not a valid OpenAI format; it won't work with the OpenAI-hosted model.\n"
          ]
        }
      ],
      "source": [
        "code_writer_agent = AssistantAgent(\n",
        "    name=\"code_writer_agent\",\n",
        "    llm_config=llm_config,\n",
        "    code_execution_config=False,\n",
        "    human_input_mode=\"NEVER\",\n",
        ")"
      ]
    },
    {
      "cell_type": "code",
      "execution_count": 12,
      "id": "0fb1a62f-8dd2-4636-9103-b26ea27a29bd",
      "metadata": {
        "height": 30,
        "id": "0fb1a62f-8dd2-4636-9103-b26ea27a29bd"
      },
      "outputs": [],
      "source": [
        "code_writer_agent_system_message = code_writer_agent.system_message"
      ]
    },
    {
      "cell_type": "code",
      "execution_count": 13,
      "id": "7c8e9a04-55fb-4124-a9d0-3431274476d2",
      "metadata": {
        "height": 30,
        "id": "7c8e9a04-55fb-4124-a9d0-3431274476d2",
        "outputId": "7e1ba29b-7c27-4109-e3ff-b8d85bc71615",
        "colab": {
          "base_uri": "https://localhost:8080/"
        }
      },
      "outputs": [
        {
          "output_type": "stream",
          "name": "stdout",
          "text": [
            "You are a helpful AI assistant.\n",
            "Solve tasks using your coding and language skills.\n",
            "In the following cases, suggest python code (in a python coding block) or shell script (in a sh coding block) for the user to execute.\n",
            "    1. When you need to collect info, use the code to output the info you need, for example, browse or search the web, download/read a file, print the content of a webpage or a file, get the current date/time, check the operating system. After sufficient info is printed and the task is ready to be solved based on your language skill, you can solve the task by yourself.\n",
            "    2. When you need to perform some task with code, use the code to perform the task and output the result. Finish the task smartly.\n",
            "Solve the task step by step if you need to. If a plan is not provided, explain your plan first. Be clear which step uses code, and which step uses your language skill.\n",
            "When using code, you must indicate the script type in the code block. The user cannot provide any other feedback or perform any other action beyond executing the code you suggest. The user can't modify your code. So do not suggest incomplete code which requires users to modify. Don't use a code block if it's not intended to be executed by the user.\n",
            "If you want the user to save the code in a file before executing it, put # filename: <filename> inside the code block as the first line. Don't include multiple code blocks in one response. Do not ask users to copy and paste the result. Instead, use 'print' function for the output when relevant. Check the execution result returned by the user.\n",
            "If the result indicates there is an error, fix the error and output the code again. Suggest the full code instead of partial code or code changes. If the error can't be fixed or if the task is not solved even after the code is executed successfully, analyze the problem, revisit your assumption, collect additional info you need, and think of a different approach to try.\n",
            "When you find an answer, verify the answer carefully. Include verifiable evidence in your response if possible.\n",
            "Reply \"TERMINATE\" in the end when everything is done.\n",
            "    \n"
          ]
        }
      ],
      "source": [
        "print(code_writer_agent_system_message)"
      ]
    },
    {
      "cell_type": "markdown",
      "id": "f487b75a",
      "metadata": {
        "id": "f487b75a"
      },
      "source": [
        "## The task!\n",
        "\n",
        "Ask the two agents to collaborate on a stock analysis task."
      ]
    },
    {
      "cell_type": "code",
      "execution_count": 14,
      "id": "9cce0ba4-9fea-4d36-b4a0-a1e51fcd09a6",
      "metadata": {
        "height": 132,
        "id": "9cce0ba4-9fea-4d36-b4a0-a1e51fcd09a6"
      },
      "outputs": [],
      "source": [
        "import datetime\n",
        "\n",
        "today = datetime.datetime.now().date()\n",
        "message = f\"Today is {today}. \"\\\n",
        "\"Create a plot showing stock gain YTD for NVDA and TLSA. \"\\\n",
        "\"Make sure the code is in markdown code block and save the figure\"\\\n",
        "\" to a file ytd_stock_gains.png.\"\"\""
      ]
    },
    {
      "cell_type": "markdown",
      "id": "4d02df6c",
      "metadata": {
        "id": "4d02df6c"
      },
      "source": [
        "<p style=\"background-color:#ECECEC; padding:15px; \"> <b>Note:</b> In this lesson, you will use GPT 4 for better results. Please note that the lesson has a quota limit. If you want to explore the code in this lesson further, we recommend trying it locally with your own API key."
      ]
    },
    {
      "cell_type": "markdown",
      "id": "77fc5f1b",
      "metadata": {
        "id": "77fc5f1b"
      },
      "source": [
        "**Note**: You might see a different set of outputs than those shown in the video. The agents collaborate to generate the code needed for your task, and they might produce code with errors in the process. However, they will ultimately provide a correct code in the end."
      ]
    },
    {
      "cell_type": "code",
      "execution_count": 15,
      "id": "230bb9c0-9c80-498f-a05f-96cef11ddb4e",
      "metadata": {
        "height": 81,
        "id": "230bb9c0-9c80-498f-a05f-96cef11ddb4e",
        "outputId": "ab9d4826-926a-4eb5-9063-8bd39eb90efe",
        "colab": {
          "base_uri": "https://localhost:8080/"
        }
      },
      "outputs": [
        {
          "output_type": "stream",
          "name": "stdout",
          "text": [
            "code_executor_agent (to code_writer_agent):\n",
            "\n",
            "Today is 2024-08-30. Create a plot showing stock gain YTD for NVDA and TLSA. Make sure the code is in markdown code block and save the figure to a file ytd_stock_gains.png.\n",
            "\n",
            "--------------------------------------------------------------------------------\n",
            "code_writer_agent (to code_executor_agent):\n",
            "\n",
            "To create a plot showing the Year-To-Date (YTD) stock gains for NVDA (Nvidia) and TSLA (Tesla), we will use Python with libraries such as Pandas for data handling and Matplotlib for plotting. The steps are as follows:\n",
            "\n",
            "1. Collect stock price data for NVDA and TSLA from the start of the year (2024-01-01) to today (2024-08-30).\n",
            "2. Calculate the YTD gains for both stocks.\n",
            "3. Plot these gains on a graph.\n",
            "4. Save the plot to an image file named 'ytd_stock_gains.png'.\n",
            "\n",
            "We'll retrieve the stock data using the `yfinance` library, which allows us to download historical market data from Yahoo Finance. If `yfinance` is not installed, it will need to be installed using pip (this will be part of the script).\n",
            "\n",
            "Here's the complete Python code. Please save it in a file named `plot_stock_gains.py` and run it:\n",
            "\n",
            "```python\n",
            "# filename: plot_stock_gains.py\n",
            "import yfinance as yf\n",
            "import matplotlib.pyplot as plt\n",
            "import pandas as pd\n",
            "\n",
            "def get_stock_data(ticker, start_date, end_date):\n",
            "    \"\"\"Retrieve stock data from Yahoo Finance.\"\"\"\n",
            "    data = yf.download(ticker, start=start_date, end=end_date)\n",
            "    return data['Adj Close']\n",
            "\n",
            "def calculate_ytd_gain(data):\n",
            "    \"\"\"Calculate YTD gain percentage.\"\"\"\n",
            "    return (data - data.iloc[0]) / data.iloc[0] * 100\n",
            "\n",
            "def main():\n",
            "    # Define the tickers list\n",
            "    tickers = ['NVDA', 'TSLA']\n",
            "    start_date = '2024-01-01'\n",
            "    end_date = '2024-08-30'\n",
            "    \n",
            "    # Plot setup\n",
            "    plt.figure(figsize=(10, 6))\n",
            "\n",
            "    # Loop through each ticker\n",
            "    for ticker in tickers:\n",
            "        data = get_stock_data(ticker, start_date, end_date)\n",
            "        ytd_gain = calculate_ytd_gain(data)\n",
            "        plt.plot(ytd_gain, label=f'{ticker} YTD Gain %')\n",
            "\n",
            "    # Adding title, labels and legend\n",
            "    plt.title(\"YTD Stock Gains for NVDA and TSLA\")\n",
            "    plt.xlabel(\"Date\")\n",
            "    plt.ylabel(\"Gain %\")\n",
            "    plt.legend()\n",
            "\n",
            "    # Save the plot\n",
            "    plt.savefig('ytd_stock_gains.png')\n",
            "    plt.show()\n",
            "    \n",
            "if __name__ == \"__main__\":\n",
            "    main()\n",
            "```\n",
            "\n",
            "This script will produce and display the plot, and save it as `ytd_stock_gains.png`. Make sure you have the `yfinance` and `matplotlib` libraries available in your Python environment. If you need to install them, you can do so by running `pip install yfinance matplotlib` in your command line before executing the script.\n",
            "\n",
            "--------------------------------------------------------------------------------\n",
            "Provide feedback to code_writer_agent. Press enter to skip and use auto-reply, or type 'exit' to end the conversation: \n",
            "\n",
            ">>>>>>>> NO HUMAN INPUT RECEIVED.\n",
            "\n",
            ">>>>>>>> USING AUTO REPLY...\n",
            "\n",
            ">>>>>>>> EXECUTING CODE BLOCK (inferred language is python)...\n",
            "code_executor_agent (to code_writer_agent):\n",
            "\n",
            "exitcode: 0 (execution succeeded)\n",
            "Code output: \n",
            "[*********************100%***********************]  1 of 1 completed\n",
            "\n",
            "[*********************100%***********************]  1 of 1 completed\n",
            "Figure(1000x600)\n",
            "\n",
            "\n",
            "--------------------------------------------------------------------------------\n",
            "code_writer_agent (to code_executor_agent):\n",
            "\n",
            "It appears the script executed successfully and the plot was generated and saved as 'ytd_stock_gains.png'. You should find this image file in the directory where you ran the script. It contains the Year-To-Date stock gains for both NVDA (Nvidia) and TSLA (Tesla).\n",
            "\n",
            "If you have any more requests or need further assistance, feel free to ask. Otherwise, that should be all for this task!\n",
            "\n",
            "TERMINATE\n",
            "\n",
            "--------------------------------------------------------------------------------\n",
            "Provide feedback to code_writer_agent. Press enter to skip and use auto-reply, or type 'exit' to end the conversation: \n",
            "\n",
            ">>>>>>>> NO HUMAN INPUT RECEIVED.\n",
            "\n",
            ">>>>>>>> USING AUTO REPLY...\n",
            "code_executor_agent (to code_writer_agent):\n",
            "\n",
            "Please continue. If everything is done, reply 'TERMINATE'.\n",
            "\n",
            "--------------------------------------------------------------------------------\n",
            "code_writer_agent (to code_executor_agent):\n",
            "\n",
            "TERMINATE\n",
            "\n",
            "--------------------------------------------------------------------------------\n",
            "Provide feedback to code_writer_agent. Press enter to skip and use auto-reply, or type 'exit' to end the conversation: ㄷ턋\n",
            "code_executor_agent (to code_writer_agent):\n",
            "\n",
            "ㄷ턋\n",
            "\n",
            "--------------------------------------------------------------------------------\n",
            "code_writer_agent (to code_executor_agent):\n",
            "\n",
            "It seems there might have been a typing error in your message. If you have any specific requests or need further assistance, please let me know. Otherwise, if everything is done, feel free to terminate the conversation or provide more details about your needs.\n",
            "\n",
            "--------------------------------------------------------------------------------\n",
            "Provide feedback to code_writer_agent. Press enter to skip and use auto-reply, or type 'exit' to end the conversation: ㄷ턋\n",
            "code_executor_agent (to code_writer_agent):\n",
            "\n",
            "ㄷ턋\n",
            "\n",
            "--------------------------------------------------------------------------------\n",
            "code_writer_agent (to code_executor_agent):\n",
            "\n",
            "It looks like there is a misunderstanding or perhaps an issue with the text input. If you need any help or have a question, please try to rephrase or clarify your request. If you require assistance with another task or have any other queries, feel free to provide additional details.\n",
            "\n",
            "--------------------------------------------------------------------------------\n",
            "Provide feedback to code_writer_agent. Press enter to skip and use auto-reply, or type 'exit' to end the conversation: ㄷ턋\n",
            "code_executor_agent (to code_writer_agent):\n",
            "\n",
            "ㄷ턋\n",
            "\n",
            "--------------------------------------------------------------------------------\n",
            "code_writer_agent (to code_executor_agent):\n",
            "\n",
            "It appears there might be an issue with the text input or a misunderstanding. If you need help or want to ask something, please provide a clear message, and I will do my best to assist you. If everything is completed or if you're encountering issues with typing, you could try again or let me know what you need help with in another way. If all tasks are completed or if there's nothing else needed, please confirm to end our session.\n",
            "\n",
            "--------------------------------------------------------------------------------\n",
            "Provide feedback to code_writer_agent. Press enter to skip and use auto-reply, or type 'exit' to end the conversation: ㄷ턋\n",
            "code_executor_agent (to code_writer_agent):\n",
            "\n",
            "ㄷ턋\n",
            "\n",
            "--------------------------------------------------------------------------------\n",
            "code_writer_agent (to code_executor_agent):\n",
            "\n",
            "It seems there is a recurring issue with the text input. If you're trying to communicate something specific, please check the text input method or try typing again. If there is a particular topic or problem you need help with, ensure the message is clear so I can assist effectively. If there are no further inquiries or tasks, and this was unintentional, you might consider ending our session by confirming that no further assistance is needed.\n",
            "\n",
            "--------------------------------------------------------------------------------\n",
            "Provide feedback to code_writer_agent. Press enter to skip and use auto-reply, or type 'exit' to end the conversation: \n",
            "\n",
            ">>>>>>>> NO HUMAN INPUT RECEIVED.\n",
            "\n",
            ">>>>>>>> USING AUTO REPLY...\n",
            "code_executor_agent (to code_writer_agent):\n",
            "\n",
            "Please continue. If everything is done, reply 'TERMINATE'.\n",
            "\n",
            "--------------------------------------------------------------------------------\n",
            "code_writer_agent (to code_executor_agent):\n",
            "\n",
            "TERMINATE\n",
            "\n",
            "--------------------------------------------------------------------------------\n",
            "Provide feedback to code_writer_agent. Press enter to skip and use auto-reply, or type 'exit' to end the conversation: \n",
            "\n",
            ">>>>>>>> NO HUMAN INPUT RECEIVED.\n"
          ]
        }
      ],
      "source": [
        "chat_result = code_executor_agent.initiate_chat(\n",
        "    code_writer_agent,\n",
        "    message=message,\n",
        ")"
      ]
    },
    {
      "cell_type": "markdown",
      "id": "9b0cbbdd",
      "metadata": {
        "id": "9b0cbbdd"
      },
      "source": [
        "## Let's see the plot!\n",
        "\n",
        "**Note**:\n",
        "* Your plot might differ from the one shown in the video because the LLM's freestyle code generation could choose a different plot type, such as a bar plot.\n",
        "* You can re-run the previous cell and check the generated code. If it produces a bar plot, remember you can directly specify your preference by asking for a specific plot type instead of a bar plot."
      ]
    },
    {
      "cell_type": "code",
      "execution_count": 16,
      "id": "26804313-566f-42fb-9243-4e0c147f770b",
      "metadata": {
        "height": 81,
        "id": "26804313-566f-42fb-9243-4e0c147f770b",
        "outputId": "a9afb44d-7c64-4dea-8649-99b3c58f16db",
        "colab": {
          "base_uri": "https://localhost:8080/",
          "height": 395
        }
      },
      "outputs": [
        {
          "output_type": "execute_result",
          "data": {
            "image/png": "[encoded data removed]",
            "text/plain": [
              "<IPython.core.display.Image object>"
            ]
          },
          "metadata": {},
          "execution_count": 16
        }
      ],
      "source": [
        "import os\n",
        "from IPython.display import Image\n",
        "\n",
        "Image(os.path.join(\"coding\", \"ytd_stock_gains.png\"))"
      ]
    },
    {
      "cell_type": "markdown",
      "id": "ccf49d7e",
      "metadata": {
        "id": "ccf49d7e"
      },
      "source": [
        "**Note**: The agent will automatically save the code in a .py file and the plot in a .png file. To access and check the files generated by the agents, go to the `File` menu and select `Open....` Then, open the folder named `coding` to find all the generated files."
      ]
    },
    {
      "cell_type": "markdown",
      "id": "5aded8dc",
      "metadata": {
        "id": "5aded8dc"
      },
      "source": [
        "## User-Defined Functions\n",
        "\n",
        "Instead of asking LLM to generate the code for downloading stock data\n",
        "and plotting charts each time, you can define functions for these two tasks and have LLM call these functions in the code."
      ]
    },
    {
      "cell_type": "code",
      "execution_count": 17,
      "id": "bca089a7-d85a-40ad-b33d-6a5318076c6e",
      "metadata": {
        "height": 387,
        "id": "bca089a7-d85a-40ad-b33d-6a5318076c6e"
      },
      "outputs": [],
      "source": [
        "def get_stock_prices(stock_symbols, start_date, end_date):\n",
        "    \"\"\"Get the stock prices for the given stock symbols between\n",
        "    the start and end dates.\n",
        "\n",
        "    Args:\n",
        "        stock_symbols (str or list): The stock symbols to get the\n",
        "        prices for.\n",
        "        start_date (str): The start date in the format\n",
        "        'YYYY-MM-DD'.\n",
        "        end_date (str): The end date in the format 'YYYY-MM-DD'.\n",
        "\n",
        "    Returns:\n",
        "        pandas.DataFrame: The stock prices for the given stock\n",
        "        symbols indexed by date, with one column per stock\n",
        "        symbol.\n",
        "    \"\"\"\n",
        "    import yfinance\n",
        "\n",
        "    stock_data = yfinance.download(\n",
        "        stock_symbols, start=start_date, end=end_date\n",
        "    )\n",
        "    return stock_data.get(\"Close\")"
      ]
    },
    {
      "cell_type": "code",
      "execution_count": 18,
      "id": "5dff50a6-39ae-46a4-9b9c-e98c1550472b",
      "metadata": {
        "height": 336,
        "id": "5dff50a6-39ae-46a4-9b9c-e98c1550472b"
      },
      "outputs": [],
      "source": [
        "def plot_stock_prices(stock_prices, filename):\n",
        "    \"\"\"Plot the stock prices for the given stock symbols.\n",
        "\n",
        "    Args:\n",
        "        stock_prices (pandas.DataFrame): The stock prices for the\n",
        "        given stock symbols.\n",
        "    \"\"\"\n",
        "    import matplotlib.pyplot as plt\n",
        "\n",
        "    plt.figure(figsize=(10, 5))\n",
        "    for column in stock_prices.columns:\n",
        "        plt.plot(\n",
        "            stock_prices.index, stock_prices[column], label=column\n",
        "                )\n",
        "    plt.title(\"Stock Prices\")\n",
        "    plt.xlabel(\"Date\")\n",
        "    plt.ylabel(\"Price\")\n",
        "    plt.grid(True)\n",
        "    plt.savefig(filename)"
      ]
    },
    {
      "cell_type": "markdown",
      "id": "63ff7175",
      "metadata": {
        "id": "63ff7175"
      },
      "source": [
        "### Create a new executor with the user-defined functions"
      ]
    },
    {
      "cell_type": "code",
      "execution_count": 19,
      "id": "452d315f-681d-4418-9cd0-653cc8d6a668",
      "metadata": {
        "height": 98,
        "id": "452d315f-681d-4418-9cd0-653cc8d6a668"
      },
      "outputs": [],
      "source": [
        "executor = LocalCommandLineCodeExecutor(\n",
        "    timeout=60,\n",
        "    work_dir=\"coding\",\n",
        "    functions=[get_stock_prices, plot_stock_prices],\n",
        ")"
      ]
    },
    {
      "cell_type": "code",
      "execution_count": 20,
      "id": "b95b30ad-1e6d-4d88-9a6c-2b0f11b625e4",
      "metadata": {
        "height": 66,
        "id": "b95b30ad-1e6d-4d88-9a6c-2b0f11b625e4",
        "outputId": "4072ba2e-2036-4ddc-fdc0-cfb261e33208",
        "colab": {
          "base_uri": "https://localhost:8080/"
        }
      },
      "outputs": [
        {
          "output_type": "stream",
          "name": "stdout",
          "text": [
            "You are a helpful AI assistant.\n",
            "Solve tasks using your coding and language skills.\n",
            "In the following cases, suggest python code (in a python coding block) or shell script (in a sh coding block) for the user to execute.\n",
            "    1. When you need to collect info, use the code to output the info you need, for example, browse or search the web, download/read a file, print the content of a webpage or a file, get the current date/time, check the operating system. After sufficient info is printed and the task is ready to be solved based on your language skill, you can solve the task by yourself.\n",
            "    2. When you need to perform some task with code, use the code to perform the task and output the result. Finish the task smartly.\n",
            "Solve the task step by step if you need to. If a plan is not provided, explain your plan first. Be clear which step uses code, and which step uses your language skill.\n",
            "When using code, you must indicate the script type in the code block. The user cannot provide any other feedback or perform any other action beyond executing the code you suggest. The user can't modify your code. So do not suggest incomplete code which requires users to modify. Don't use a code block if it's not intended to be executed by the user.\n",
            "If you want the user to save the code in a file before executing it, put # filename: <filename> inside the code block as the first line. Don't include multiple code blocks in one response. Do not ask users to copy and paste the result. Instead, use 'print' function for the output when relevant. Check the execution result returned by the user.\n",
            "If the result indicates there is an error, fix the error and output the code again. Suggest the full code instead of partial code or code changes. If the error can't be fixed or if the task is not solved even after the code is executed successfully, analyze the problem, revisit your assumption, collect additional info you need, and think of a different approach to try.\n",
            "When you find an answer, verify the answer carefully. Include verifiable evidence in your response if possible.\n",
            "Reply \"TERMINATE\" in the end when everything is done.\n",
            "    You have access to the following user defined functions. They can be accessed from the module called `functions` by their function names.\n",
            "\n",
            "For example, if there was a function called `foo` you could import it by writing `from functions import foo`\n",
            "\n",
            "def get_stock_prices(stock_symbols, start_date, end_date):\n",
            "    \"\"\"Get the stock prices for the given stock symbols between\n",
            "        the start and end dates.\n",
            "\n",
            "        Args:\n",
            "            stock_symbols (str or list): The stock symbols to get the\n",
            "            prices for.\n",
            "            start_date (str): The start date in the format\n",
            "            'YYYY-MM-DD'.\n",
            "            end_date (str): The end date in the format 'YYYY-MM-DD'.\n",
            "\n",
            "        Returns:\n",
            "            pandas.DataFrame: The stock prices for the given stock\n",
            "            symbols indexed by date, with one column per stock\n",
            "            symbol.\n",
            "    \"\"\"\n",
            "    ...\n",
            "\n",
            "def plot_stock_prices(stock_prices, filename):\n",
            "    \"\"\"Plot the stock prices for the given stock symbols.\n",
            "\n",
            "        Args:\n",
            "            stock_prices (pandas.DataFrame): The stock prices for the\n",
            "            given stock symbols.\n",
            "    \"\"\"\n",
            "    ...\n"
          ]
        }
      ],
      "source": [
        "code_writer_agent_system_message += executor.format_functions_for_prompt()\n",
        "print(code_writer_agent_system_message)"
      ]
    },
    {
      "cell_type": "markdown",
      "id": "64d3cc77",
      "metadata": {
        "id": "64d3cc77"
      },
      "source": [
        "### Let's update the agents with the new system message"
      ]
    },
    {
      "cell_type": "code",
      "execution_count": 21,
      "id": "615c02b0-0175-442e-bed2-52bb35b8945c",
      "metadata": {
        "height": 132,
        "id": "615c02b0-0175-442e-bed2-52bb35b8945c",
        "outputId": "d2c6a0b6-7ded-4790-dcf0-287762908f65",
        "colab": {
          "base_uri": "https://localhost:8080/"
        }
      },
      "outputs": [
        {
          "output_type": "stream",
          "name": "stdout",
          "text": [
            "[autogen.oai.client: 08-30 03:21:23] {129} WARNING - The API key specified is not a valid OpenAI format; it won't work with the OpenAI-hosted model.\n"
          ]
        },
        {
          "output_type": "stream",
          "name": "stderr",
          "text": [
            "WARNING:autogen.oai.client:The API key specified is not a valid OpenAI format; it won't work with the OpenAI-hosted model.\n"
          ]
        }
      ],
      "source": [
        "code_writer_agent = ConversableAgent(\n",
        "    name=\"code_writer_agent\",\n",
        "    system_message=code_writer_agent_system_message,\n",
        "    llm_config=llm_config,\n",
        "    code_execution_config=False,\n",
        "    human_input_mode=\"NEVER\",\n",
        ")"
      ]
    },
    {
      "cell_type": "code",
      "execution_count": 22,
      "id": "a9a725b0-9bb6-47e3-85df-27d9aadc9290",
      "metadata": {
        "height": 149,
        "id": "a9a725b0-9bb6-47e3-85df-27d9aadc9290"
      },
      "outputs": [],
      "source": [
        "code_executor_agent = ConversableAgent(\n",
        "    name=\"code_executor_agent\",\n",
        "    llm_config=False,\n",
        "    code_execution_config={\"executor\": executor},\n",
        "    human_input_mode=\"ALWAYS\",\n",
        "    default_auto_reply=\n",
        "    \"Please continue. If everything is done, reply 'TERMINATE'.\",\n",
        ")"
      ]
    },
    {
      "cell_type": "markdown",
      "id": "e8d7b57c",
      "metadata": {
        "id": "e8d7b57c"
      },
      "source": [
        "### Start the same task again!"
      ]
    },
    {
      "cell_type": "code",
      "execution_count": 23,
      "id": "8895bb51-bcdd-4f63-a49f-858fc25c474f",
      "metadata": {
        "height": 132,
        "id": "8895bb51-bcdd-4f63-a49f-858fc25c474f",
        "outputId": "c6f599ba-5da1-4580-d64e-c2bcedab0045",
        "colab": {
          "base_uri": "https://localhost:8080/"
        }
      },
      "outputs": [
        {
          "output_type": "stream",
          "name": "stdout",
          "text": [
            "code_executor_agent (to code_writer_agent):\n",
            "\n",
            "Today is 2024-08-30.Download the stock prices YTD for NVDA and TSLA and createa plot. Make sure the code is in markdown code block and save the figure to a file stock_prices_YTD_plot.png.\n",
            "\n",
            "--------------------------------------------------------------------------------\n",
            "code_writer_agent (to code_executor_agent):\n",
            "\n",
            "First, we need a plan to fetch stock prices for NVDA and TSLA from the start of the year to the current date, and then plot these prices and save the plot to a file.\n",
            "\n",
            "Here’s the plan:\n",
            "\n",
            "1. Fetch the stock prices using the `get_stock_prices` function with `stock_symbols` as 'NVDA' and 'TSLA', and the date range from '2024-01-01' to '2024-08-30'.\n",
            "2. Plot the retrieved stock prices using the `plot_stock_prices` function and save the plot to 'stock_prices_YTD_plot.png'.\n",
            "\n",
            "Here’s the Python code to execute:\n",
            "\n",
            "```python\n",
            "# filename: get_plot_stock_prices.py\n",
            "from functions import get_stock_prices, plot_stock_prices\n",
            "\n",
            "# Set parameters for the stock symbols and date range\n",
            "stock_symbols = ['NVDA', 'TSLA']\n",
            "start_date = '2024-01-01'\n",
            "end_date = '2024-08-30'\n",
            "\n",
            "# Fetch the stock prices\n",
            "stock_prices = get_stock_prices(stock_symbols, start_date, end_date)\n",
            "\n",
            "# Plot the stock prices and save it to a file\n",
            "plot_stock_prices(stock_prices, 'stock_prices_YTD_plot.png')\n",
            "```\n",
            "\n",
            "Please execute this script to fetch and plot the stock prices, and save the plot as requested. TERMINATE.\n",
            "\n",
            "--------------------------------------------------------------------------------\n",
            "Provide feedback to code_writer_agent. Press enter to skip and use auto-reply, or type 'exit' to end the conversation: \n",
            "\n",
            ">>>>>>>> NO HUMAN INPUT RECEIVED.\n",
            "\n",
            ">>>>>>>> USING AUTO REPLY...\n",
            "\n",
            ">>>>>>>> EXECUTING CODE BLOCK (inferred language is python)...\n",
            "code_executor_agent (to code_writer_agent):\n",
            "\n",
            "exitcode: 0 (execution succeeded)\n",
            "Code output: \n",
            "[                       0%                       ]\n",
            "[*********************100%***********************]  2 of 2 completed\n",
            "\n",
            "\n",
            "--------------------------------------------------------------------------------\n",
            "code_writer_agent (to code_executor_agent):\n",
            "\n",
            "The script executed successfully and the stock prices for NVDA and TSLA have been downloaded, plotted, and saved as 'stock_prices_YTD_plot.png'. You should find this image file in the directory where you ran the script.\n",
            "\n",
            "If you need any more assistance or another task to be done, feel free to ask. TERMINATE.\n",
            "\n",
            "--------------------------------------------------------------------------------\n",
            "Provide feedback to code_writer_agent. Press enter to skip and use auto-reply, or type 'exit' to end the conversation: \n",
            "\n",
            ">>>>>>>> NO HUMAN INPUT RECEIVED.\n",
            "\n",
            ">>>>>>>> USING AUTO REPLY...\n",
            "code_executor_agent (to code_writer_agent):\n",
            "\n",
            "Please continue. If everything is done, reply 'TERMINATE'.\n",
            "\n",
            "--------------------------------------------------------------------------------\n",
            "code_writer_agent (to code_executor_agent):\n",
            "\n",
            "TERMINATE.\n",
            "\n",
            "--------------------------------------------------------------------------------\n",
            "Provide feedback to code_writer_agent. Press enter to skip and use auto-reply, or type 'exit' to end the conversation: \n",
            "\n",
            ">>>>>>>> NO HUMAN INPUT RECEIVED.\n",
            "\n",
            ">>>>>>>> USING AUTO REPLY...\n",
            "code_executor_agent (to code_writer_agent):\n",
            "\n",
            "Please continue. If everything is done, reply 'TERMINATE'.\n",
            "\n",
            "--------------------------------------------------------------------------------\n",
            "code_writer_agent (to code_executor_agent):\n",
            "\n",
            "TERMINATE\n",
            "\n",
            "--------------------------------------------------------------------------------\n",
            "Provide feedback to code_writer_agent. Press enter to skip and use auto-reply, or type 'exit' to end the conversation: \n",
            "\n",
            ">>>>>>>> NO HUMAN INPUT RECEIVED.\n"
          ]
        }
      ],
      "source": [
        "chat_result = code_executor_agent.initiate_chat(\n",
        "    code_writer_agent,\n",
        "    message=f\"Today is {today}.\"\n",
        "    \"Download the stock prices YTD for NVDA and TSLA and create\"\n",
        "    \"a plot. Make sure the code is in markdown code block and \"\n",
        "    \"save the figure to a file stock_prices_YTD_plot.png.\",\n",
        ")"
      ]
    },
    {
      "cell_type": "markdown",
      "id": "3c4bb718",
      "metadata": {
        "id": "3c4bb718"
      },
      "source": [
        "### Plot the results"
      ]
    },
    {
      "cell_type": "code",
      "execution_count": 24,
      "id": "a930c007-dd56-4da6-b542-902312ed27dd",
      "metadata": {
        "height": 30,
        "id": "a930c007-dd56-4da6-b542-902312ed27dd",
        "outputId": "04812bed-e9f3-4093-e21d-27c336d9bd9a",
        "colab": {
          "base_uri": "https://localhost:8080/",
          "height": 332
        }
      },
      "outputs": [
        {
          "output_type": "execute_result",
          "data": {
            "image/png": "[encoded data removed]",
            "text/plain": [
              "<IPython.core.display.Image object>"
            ]
          },
          "metadata": {},
          "execution_count": 24
        }
      ],
      "source": [
        "Image(os.path.join(\"coding\", \"stock_prices_YTD_plot.png\"))"
      ]
    },
    {
      "cell_type": "markdown",
      "id": "c65bac5e",
      "metadata": {
        "id": "c65bac5e"
      },
      "source": [
        "**Note**: The agent will automatically save the code in a .py file and the plot in a .png file. To access and check the files generated by the agents, go to the `File` menu and select `Open....` Then, open the folder named `coding` to find all the generated files."
      ]
    }
  ],
  "metadata": {
    "kernelspec": {
      "display_name": "Python 3",
      "name": "python3"
    },
    "language_info": {
      "codemirror_mode": {
        "name": "ipython",
        "version": 3
      },
      "file_extension": ".py",
      "mimetype": "text/x-python",
      "name": "python",
      "nbconvert_exporter": "python",
      "pygments_lexer": "ipython3",
      "version": "3.11.9"
    },
    "colab": {
      "provenance": [],
      "gpuType": "T4",
      "include_colab_link": true
    },
    "accelerator": "GPU"
  },
  "nbformat": 4,
  "nbformat_minor": 5
}