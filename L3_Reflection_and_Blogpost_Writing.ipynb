{
 "cells": [
  {
   "cell_type": "markdown",
   "id": "fc3024e2",
   "metadata": {},
   "source": [
    "# Lesson 3: Reflection and Blogpost Writing"
   ]
  },
  {
   "cell_type": "markdown",
   "id": "3b0cc42f",
   "metadata": {},
   "source": [
    "## Setup"
   ]
  },
  {
   "cell_type": "code",
   "execution_count": 1,
   "id": "96d39be0-eaf3-456d-8613-ba21099ed36b",
   "metadata": {
    "height": 30
   },
   "outputs": [],
   "source": [
    "llm_config = {\"model\": \"gpt-3.5-turbo\"}"
   ]
  },
  {
   "cell_type": "markdown",
   "id": "0969e6bb",
   "metadata": {},
   "source": [
    "## The task!"
   ]
  },
  {
   "cell_type": "code",
   "execution_count": 7,
   "id": "e8074032-3690-4de9-ad08-ea8323cb441b",
   "metadata": {
    "height": 115
   },
   "outputs": [],
   "source": [
    "task = '''\n",
    "        딥러닝.AI에 대한 간결하면서도 매력적인 블로그 게시물을 작성하세요. 블로그 게시물은 100단어 이내여야 합니다.\n",
    "       '''\n"
   ]
  },
  {
   "cell_type": "markdown",
   "id": "1987f023",
   "metadata": {},
   "source": [
    "## Create a writer agent"
   ]
  },
  {
   "cell_type": "code",
   "execution_count": 8,
   "id": "fe0f0a47-a9fe-43a0-b7b1-79922e4c4ac8",
   "metadata": {
    "height": 202
   },
   "outputs": [],
   "source": [
    "import autogen\n",
    "\n",
    "writer = autogen.AssistantAgent(\n",
    "    name=\"Writer\",\n",
    "    system_message= \"당신은 작가입니다. 주어진 주제에 대해 흥미롭고 간결한 블로그 글(제목 포함)을 작성하세요. 피드백을 바탕으로 글을 다듬고 정제된 버전을 제공해야 합니다. 추가적인 설명 없이 최종 작업물만 제출하세요.\",\n",
    "    llm_config=llm_config,\n",
    ")"
   ]
  },
  {
   "cell_type": "code",
   "execution_count": 9,
   "id": "7c7b4d8d-40f7-4a05-8958-25d20054de3a",
   "metadata": {
    "height": 49
   },
   "outputs": [],
   "source": [
    "reply = writer.generate_reply(messages=[{\"content\": task, \"role\": \"user\"}])"
   ]
  },
  {
   "cell_type": "code",
   "execution_count": 10,
   "id": "c501c97d-e338-4f36-a384-6ec45983cf77",
   "metadata": {
    "height": 30
   },
   "outputs": [
    {
     "name": "stdout",
     "output_type": "stream",
     "text": [
      "**제목: 딥러닝.AI: 인간의 지능을 넘어**\n",
      "\n",
      "딥러닝.AI는 현대 기술의 정점을 나타냅니다. 이 기술은 인공신경망을 사용하여 컴퓨터가 스스로 학습하고 의사결정을 내릴 수 있게 합니다. 이는 우리의 상상력을 뛰어넘어 인간의 지능을 추론하고 패턴을 인식하는 능력을 갖추었습니다. 자율 주행 자동차, 언어 번역, 음성 인식 등 다양한 분야에서 빠르게 발전하고 있습니다. 이처럼 끊임없이 진화하는 딥러닝.AI는 미래의 세계를 형성할 것입니다. 우리는 이 환상적인 기술에 주목해야 합니다.\n"
     ]
    }
   ],
   "source": [
    "print(reply)"
   ]
  },
  {
   "cell_type": "markdown",
   "id": "49658114",
   "metadata": {},
   "source": [
    "## Adding reflection \n",
    "\n",
    "Create a critic agent to reflect on the work of the writer agent."
   ]
  },
  {
   "cell_type": "code",
   "execution_count": 11,
   "id": "c7fcd1c7-51ec-4915-8e97-bac03565c4c7",
   "metadata": {
    "height": 168
   },
   "outputs": [],
   "source": [
    "critic = autogen.AssistantAgent(\n",
    "    name=\"Critic\",\n",
    "    is_termination_msg=lambda x: x.get(\"content\", \"\").find(\"TERMINATE\") >= 0,\n",
    "    llm_config=llm_config,\n",
    "    system_message=\"당신은 비평가입니다. 작가의 작품을 검토하고, 콘텐츠의 질을 향상시키기 위해 건설적인 피드백을 제공합니다.\",\n",
    ")"
   ]
  },
  {
   "cell_type": "code",
   "execution_count": 12,
   "id": "899d5fdb-6081-470b-b287-8cf8b8142d0d",
   "metadata": {
    "height": 115
   },
   "outputs": [
    {
     "name": "stdout",
     "output_type": "stream",
     "text": [
      "\u001b[33mCritic\u001b[0m (to Writer):\n",
      "\n",
      "\n",
      "        딥러닝.AI에 대한 간결하면서도 매력적인 블로그 게시물을 작성하세요. 블로그 게시물은 100단어 이내여야 합니다.\n",
      "       \n",
      "\n",
      "--------------------------------------------------------------------------------\n",
      "\u001b[33mWriter\u001b[0m (to Critic):\n",
      "\n",
      "**제목: 딥러닝.AI: 인간의 지능을 넘어**\n",
      "\n",
      "딥러닝.AI는 현대 기술의 정점을 나타냅니다. 이 기술은 인공신경망을 사용하여 컴퓨터가 스스로 학습하고 의사결정을 내릴 수 있게 합니다. 이는 우리의 상상력을 뛰어넘어 인간의 지능을 추론하고 패턴을 인식하는 능력을 갖추었습니다. 자율 주행 자동차, 언어 번역, 음성 인식 등 다양한 분야에서 빠르게 발전하고 있습니다. 이처럼 끊임없이 진화하는 딥러닝.AI는 미래의 세계를 형성할 것입니다. 우리는 이 환상적인 기술에 주목해야 합니다.\n",
      "\n",
      "--------------------------------------------------------------------------------\n",
      "\u001b[33mCritic\u001b[0m (to Writer):\n",
      "\n",
      "이 블로그 게시물은 딥러닝.AI에 대한 간략하면서도 매력적인 소개를 제공하고 있습니다. 좋은 점은 짧은 문장과 간결한 표현을 사용하여 내용을 명확하게 전달했다는 것입니다. 그러나 이 주제에 대해 논쟁적인 이슈나 추가적인 정보를 더하면 블로그를 더 흥미롭게 만들 수 있을 것입니다. 예를 들어, 딥러닝.AI가 현재 사회적인 이슈에 어떤 영향을 미치고 있는지 논의하거나 실제 사례나 응용 프로그램에 대한 예를 들어봅시다. 이렇게 함으로써 독자들이 더 깊이있는 이해를 얻을 수 있을 것입니다.\n",
      "\n",
      "--------------------------------------------------------------------------------\n",
      "\u001b[33mWriter\u001b[0m (to Critic):\n",
      "\n",
      "**제목: 딥러닝.AI: 미래를 형성하는 혁신**\n",
      "\n",
      "딥러닝.AI는 우리의 일상을 혁신하고 있습니다. 자율 주행 자동차는 운전 경험을 바꾸고, 언어 번역 기술은 세계를 연결하며, 음성 인식 기술은 우리와 대화합니다. 이러한 혁신은 우리의 삶을 편리하게 만들어주지만, 논란의 여지도 많습니다. 개인정보 보호, 일자리 변화, 윤리적 문제 등 다양한 이슈가 끊임없이 제기되고 있습니다. 그러나 딥러닝.AI는 미래를 향한 빛나는 길이며, 결국 우리의 삶을 더욱 발전시켜 줄 것입니다. 이 환상적인 기술의 가능성에 눈을 뜨고 더 많이 탐험해보는 것이 중요합니다.\n",
      "\n",
      "--------------------------------------------------------------------------------\n"
     ]
    }
   ],
   "source": [
    "res = critic.initiate_chat(\n",
    "    recipient=writer,\n",
    "    message=task,\n",
    "    max_turns=2,\n",
    "    summary_method=\"last_msg\"\n",
    ")"
   ]
  },
  {
   "cell_type": "markdown",
   "id": "e7b76449",
   "metadata": {},
   "source": [
    "## Nested chat"
   ]
  },
  {
   "cell_type": "code",
   "execution_count": 13,
   "id": "401ecf92-63e9-40ff-aeed-1c404352e4ab",
   "metadata": {
    "height": 219
   },
   "outputs": [],
   "source": [
    "SEO_reviewer = autogen.AssistantAgent(\n",
    "    name=\"SEO Reviewer\",\n",
    "    llm_config=llm_config,\n",
    "    system_message=\"You are an SEO reviewer, known for \"\n",
    "        \"your ability to optimize content for search engines, \"\n",
    "        \"ensuring that it ranks well and attracts organic traffic. \" \n",
    "        \"Make sure your suggestion is concise (within 3 bullet points), \"\n",
    "        \"concrete and to the point. \"\n",
    "        \"Begin the review by stating your role.\",\n",
    ")\n"
   ]
  },
  {
   "cell_type": "code",
   "execution_count": 14,
   "id": "f85acb81-7ab9-4c84-b8bb-6fbae3dce848",
   "metadata": {
    "height": 202
   },
   "outputs": [],
   "source": [
    "legal_reviewer = autogen.AssistantAgent(\n",
    "    name=\"Legal Reviewer\",\n",
    "    llm_config=llm_config,\n",
    "    system_message=\"You are a legal reviewer, known for \"\n",
    "        \"your ability to ensure that content is legally compliant \"\n",
    "        \"and free from any potential legal issues. \"\n",
    "        \"Make sure your suggestion is concise (within 3 bullet points), \"\n",
    "        \"concrete and to the point. \"\n",
    "        \"Begin the review by stating your role.\",\n",
    ")"
   ]
  },
  {
   "cell_type": "code",
   "execution_count": 15,
   "id": "d46a177a-8088-4956-8d2b-3e916b8ca5e9",
   "metadata": {
    "height": 202
   },
   "outputs": [],
   "source": [
    "ethics_reviewer = autogen.AssistantAgent(\n",
    "    name=\"Ethics Reviewer\",\n",
    "    llm_config=llm_config,\n",
    "    system_message=\"You are an ethics reviewer, known for \"\n",
    "        \"your ability to ensure that content is ethically sound \"\n",
    "        \"and free from any potential ethical issues. \" \n",
    "        \"Make sure your suggestion is concise (within 3 bullet points), \"\n",
    "        \"concrete and to the point. \"\n",
    "        \"Begin the review by stating your role. \",\n",
    ")"
   ]
  },
  {
   "cell_type": "code",
   "execution_count": 16,
   "id": "a7b2ad6f-8ba6-436a-9459-14ffbe8a32d3",
   "metadata": {
    "height": 134
   },
   "outputs": [],
   "source": [
    "meta_reviewer = autogen.AssistantAgent(\n",
    "    name=\"Meta Reviewer\",\n",
    "    llm_config=llm_config,\n",
    "    system_message=\"You are a meta reviewer, you aggragate and review \"\n",
    "    \"the work of other reviewers and give a final suggestion on the content.\",\n",
    ")"
   ]
  },
  {
   "cell_type": "markdown",
   "id": "913beca1",
   "metadata": {},
   "source": [
    "## Orchestrate the nested chats to solve the task"
   ]
  },
  {
   "cell_type": "code",
   "execution_count": 17,
   "id": "a11a70c7-19ca-4e5a-ad3d-f2b481fb5915",
   "metadata": {
    "height": 559
   },
   "outputs": [],
   "source": [
    "def reflection_message(recipient, messages, sender, config):\n",
    "    return f'''Review the following content. \n",
    "            \\n\\n {recipient.chat_messages_for_summary(sender)[-1]['content']}'''\n",
    "\n",
    "review_chats = [\n",
    "    {\n",
    "     \"recipient\": SEO_reviewer, \n",
    "     \"message\": reflection_message, \n",
    "     \"summary_method\": \"reflection_with_llm\",\n",
    "     \"summary_args\": {\"summary_prompt\" : \n",
    "        \"Return review into as JSON object only:\"\n",
    "        \"{'Reviewer': '', 'Review': ''}. Here Reviewer should be your role\",},\n",
    "     \"max_turns\": 1},\n",
    "    {\n",
    "    \"recipient\": legal_reviewer, \"message\": reflection_message, \n",
    "     \"summary_method\": \"reflection_with_llm\",\n",
    "     \"summary_args\": {\"summary_prompt\" : \n",
    "        \"Return review into as JSON object only:\"\n",
    "        \"{'Reviewer': '', 'Review': ''}.\",},\n",
    "     \"max_turns\": 1},\n",
    "    {\"recipient\": ethics_reviewer, \"message\": reflection_message, \n",
    "     \"summary_method\": \"reflection_with_llm\",\n",
    "     \"summary_args\": {\"summary_prompt\" : \n",
    "        \"Return review into as JSON object only:\"\n",
    "        \"{'reviewer': '', 'review': ''}\",},\n",
    "     \"max_turns\": 1},\n",
    "     {\"recipient\": meta_reviewer, \n",
    "      \"message\": \"Aggregrate feedback from all reviewers and give final suggestions on the writing.\", \n",
    "     \"max_turns\": 1},\n",
    "]\n"
   ]
  },
  {
   "cell_type": "code",
   "execution_count": 18,
   "id": "b3a40b66-5061-460d-ad9d-c0dbcfbba2e9",
   "metadata": {
    "height": 81
   },
   "outputs": [],
   "source": [
    "critic.register_nested_chats(\n",
    "    review_chats,\n",
    "    trigger=writer,\n",
    ")"
   ]
  },
  {
   "cell_type": "markdown",
   "id": "43b8797d",
   "metadata": {},
   "source": [
    "**Note**: You might get a slightly different response than what's shown in the video. Feel free to try different task."
   ]
  },
  {
   "cell_type": "code",
   "execution_count": 19,
   "id": "3b8dcac3-1e72-43b7-9d5a-1be740f6efd5",
   "metadata": {
    "height": 115
   },
   "outputs": [
    {
     "name": "stdout",
     "output_type": "stream",
     "text": [
      "\u001b[33mCritic\u001b[0m (to Writer):\n",
      "\n",
      "\n",
      "        딥러닝.AI에 대한 간결하면서도 매력적인 블로그 게시물을 작성하세요. 블로그 게시물은 100단어 이내여야 합니다.\n",
      "       \n",
      "\n",
      "--------------------------------------------------------------------------------\n",
      "\u001b[33mWriter\u001b[0m (to Critic):\n",
      "\n",
      "**제목: 딥러닝.AI: 인간의 지능을 넘어**\n",
      "\n",
      "딥러닝.AI는 현대 기술의 정점을 나타냅니다. 이 기술은 인공신경망을 사용하여 컴퓨터가 스스로 학습하고 의사결정을 내릴 수 있게 합니다. 이는 우리의 상상력을 뛰어넘어 인간의 지능을 추론하고 패턴을 인식하는 능력을 갖추었습니다. 자율 주행 자동차, 언어 번역, 음성 인식 등 다양한 분야에서 빠르게 발전하고 있습니다. 이처럼 끊임없이 진화하는 딥러닝.AI는 미래의 세계를 형성할 것입니다. 우리는 이 환상적인 기술에 주목해야 합니다.\n",
      "\n",
      "--------------------------------------------------------------------------------\n",
      "\u001b[34m\n",
      "********************************************************************************\u001b[0m\n",
      "\u001b[34mStarting a new chat....\u001b[0m\n",
      "\u001b[34m\n",
      "********************************************************************************\u001b[0m\n",
      "\u001b[33mCritic\u001b[0m (to SEO Reviewer):\n",
      "\n",
      "Review the following content. \n",
      "            \n",
      "\n",
      " **제목: 딥러닝.AI: 인간의 지능을 넘어**\n",
      "\n",
      "딥러닝.AI는 현대 기술의 정점을 나타냅니다. 이 기술은 인공신경망을 사용하여 컴퓨터가 스스로 학습하고 의사결정을 내릴 수 있게 합니다. 이는 우리의 상상력을 뛰어넘어 인간의 지능을 추론하고 패턴을 인식하는 능력을 갖추었습니다. 자율 주행 자동차, 언어 번역, 음성 인식 등 다양한 분야에서 빠르게 발전하고 있습니다. 이처럼 끊임없이 진화하는 딥러닝.AI는 미래의 세계를 형성할 것입니다. 우리는 이 환상적인 기술에 주목해야 합니다.\n",
      "\n",
      "--------------------------------------------------------------------------------\n",
      "\u001b[33mSEO Reviewer\u001b[0m (to Critic):\n",
      "\n",
      "As an SEO reviewer, my suggestions for optimizing the content are:\n",
      "\n",
      "1. Include relevant keywords: Incorporate key phrases such as \"딥러닝.AI,\" \"인간의 지능,\" \"인공신경망,\" \"자율 주행 자동차,\" \"음성 인식\" strategically throughout the content to improve search engine visibility.\n",
      "  \n",
      "2. Add subheadings: Use subheadings like \"딥러닝.AI 기술 소개\" or \"딥러닝.AI의 미래 전망\" to break up the content and make it more reader-friendly and easier for search engines to crawl. \n",
      "\n",
      "3. Increase content length: Expand on how \"딥러닝.AI\" is transforming different fields like autonomous driving or language translation to provide more comprehensive information that can attract a wider audience.\n",
      "\n",
      "--------------------------------------------------------------------------------\n",
      "\u001b[34m\n",
      "********************************************************************************\u001b[0m\n",
      "\u001b[34mStarting a new chat....\u001b[0m\n",
      "\u001b[34m\n",
      "********************************************************************************\u001b[0m\n",
      "\u001b[33mCritic\u001b[0m (to Legal Reviewer):\n",
      "\n",
      "Review the following content. \n",
      "            \n",
      "\n",
      " **제목: 딥러닝.AI: 인간의 지능을 넘어**\n",
      "\n",
      "딥러닝.AI는 현대 기술의 정점을 나타냅니다. 이 기술은 인공신경망을 사용하여 컴퓨터가 스스로 학습하고 의사결정을 내릴 수 있게 합니다. 이는 우리의 상상력을 뛰어넘어 인간의 지능을 추론하고 패턴을 인식하는 능력을 갖추었습니다. 자율 주행 자동차, 언어 번역, 음성 인식 등 다양한 분야에서 빠르게 발전하고 있습니다. 이처럼 끊임없이 진화하는 딥러닝.AI는 미래의 세계를 형성할 것입니다. 우리는 이 환상적인 기술에 주목해야 합니다.\n",
      "Context: \n",
      "{'Reviewer': 'SEO Specialist', 'Review': 'As an SEO reviewer, my suggestions for optimizing the content are: 1. Include relevant keywords: Incorporate key phrases such as \"딥러닝.AI,\" \"인간의 지능,\" \"인공신경망,\" \"자율 주행 자동차,\" \"음성 인식\" strategically throughout the content to improve search engine visibility. 2. Add subheadings: Use subheadings like \"딥러닝.AI 기술 소개\" or \"딥러닝.AI의 미래 전망\" to break up the content and make it more reader-friendly and easier for search engines to crawl.  3. Increase content length: Expand on how \"딥러닝.AI\" is transforming different fields like autonomous driving or language translation to provide more comprehensive information that can attract a wider audience.'}\n",
      "\n",
      "--------------------------------------------------------------------------------\n",
      "\u001b[33mLegal Reviewer\u001b[0m (to Critic):\n",
      "\n",
      "**Legal Reviewer:**\n",
      "\n",
      "- Confirm that all statements related to the capabilities and advancements of deep learning.AI are accurate and supported by reliable sources to avoid any misleading information.\n",
      "- Ensure that any claims made about the impact of deep learning.AI on future technologies are substantiated to prevent potential overstatement or exaggeration.\n",
      "- Check for any potential copyright issues related to the content to ensure that all information provided is original or appropriately cited to avoid plagiarism.\n",
      "\n",
      "--------------------------------------------------------------------------------\n",
      "\u001b[34m\n",
      "********************************************************************************\u001b[0m\n",
      "\u001b[34mStarting a new chat....\u001b[0m\n",
      "\u001b[34m\n",
      "********************************************************************************\u001b[0m\n",
      "\u001b[33mCritic\u001b[0m (to Ethics Reviewer):\n",
      "\n",
      "Review the following content. \n",
      "            \n",
      "\n",
      " **제목: 딥러닝.AI: 인간의 지능을 넘어**\n",
      "\n",
      "딥러닝.AI는 현대 기술의 정점을 나타냅니다. 이 기술은 인공신경망을 사용하여 컴퓨터가 스스로 학습하고 의사결정을 내릴 수 있게 합니다. 이는 우리의 상상력을 뛰어넘어 인간의 지능을 추론하고 패턴을 인식하는 능력을 갖추었습니다. 자율 주행 자동차, 언어 번역, 음성 인식 등 다양한 분야에서 빠르게 발전하고 있습니다. 이처럼 끊임없이 진화하는 딥러닝.AI는 미래의 세계를 형성할 것입니다. 우리는 이 환상적인 기술에 주목해야 합니다.\n",
      "Context: \n",
      "{'Reviewer': 'SEO Specialist', 'Review': 'As an SEO reviewer, my suggestions for optimizing the content are: 1. Include relevant keywords: Incorporate key phrases such as \"딥러닝.AI,\" \"인간의 지능,\" \"인공신경망,\" \"자율 주행 자동차,\" \"음성 인식\" strategically throughout the content to improve search engine visibility. 2. Add subheadings: Use subheadings like \"딥러닝.AI 기술 소개\" or \"딥러닝.AI의 미래 전망\" to break up the content and make it more reader-friendly and easier for search engines to crawl.  3. Increase content length: Expand on how \"딥러닝.AI\" is transforming different fields like autonomous driving or language translation to provide more comprehensive information that can attract a wider audience.'}\n",
      "{'Reviewer': 'SEO Specialist', 'Review': 'As an SEO reviewer, my suggestions for optimizing the content are: 1. Include relevant keywords: Incorporate key phrases such as \"딥러닝.AI,\" \"인간의 지능,\" \"인공신경망,\" \"자율 주행 자동차,\" \"음성 인식\" strategically throughout the content to improve search engine visibility. 2. Add subheadings: Use subheadings like \"딥러닝.AI 기술 소개\" or \"딥러닝.AI의 미래 전망\" to break up the content and make it more reader-friendly and easier for search engines to crawl.  3. Increase content length: Expand on how \"딥러닝.AI\" is transforming different fields like autonomous driving or language translation to provide more comprehensive information that can attract a wider audience.'}\n",
      "\n",
      "--------------------------------------------------------------------------------\n",
      "\u001b[33mEthics Reviewer\u001b[0m (to Critic):\n",
      "\n",
      "As an ethics reviewer,  a few suggestions for the content are:\n",
      "\n",
      "* Ensure accuracy and transparency: Provide factual information about the capabilities and limitations of deep learning AI to avoid misleading or exaggerated claims.\n",
      "  \n",
      "* Highlight ethical considerations: Address ethical implications such as data privacy, algorithm biases, and potential societal impacts of widespread adoption of deep learning AI.\n",
      "  \n",
      "* Include diverse perspectives: Incorporate viewpoints from experts in the field to present a well-rounded view of the benefits and risks associated with deep learning AI.\n",
      "\n",
      "--------------------------------------------------------------------------------\n",
      "\u001b[34m\n",
      "********************************************************************************\u001b[0m\n",
      "\u001b[34mStarting a new chat....\u001b[0m\n",
      "\u001b[34m\n",
      "********************************************************************************\u001b[0m\n",
      "\u001b[33mCritic\u001b[0m (to Meta Reviewer):\n",
      "\n",
      "Aggregrate feedback from all reviewers and give final suggestions on the writing.\n",
      "Context: \n",
      "{'Reviewer': 'SEO Specialist', 'Review': 'As an SEO reviewer, my suggestions for optimizing the content are: 1. Include relevant keywords: Incorporate key phrases such as \"딥러닝.AI,\" \"인간의 지능,\" \"인공신경망,\" \"자율 주행 자동차,\" \"음성 인식\" strategically throughout the content to improve search engine visibility. 2. Add subheadings: Use subheadings like \"딥러닝.AI 기술 소개\" or \"딥러닝.AI의 미래 전망\" to break up the content and make it more reader-friendly and easier for search engines to crawl.  3. Increase content length: Expand on how \"딥러닝.AI\" is transforming different fields like autonomous driving or language translation to provide more comprehensive information that can attract a wider audience.'}\n",
      "{'Reviewer': 'SEO Specialist', 'Review': 'As an SEO reviewer, my suggestions for optimizing the content are: 1. Include relevant keywords: Incorporate key phrases such as \"딥러닝.AI,\" \"인간의 지능,\" \"인공신경망,\" \"자율 주행 자동차,\" \"음성 인식\" strategically throughout the content to improve search engine visibility. 2. Add subheadings: Use subheadings like \"딥러닝.AI 기술 소개\" or \"딥러닝.AI의 미래 전망\" to break up the content and make it more reader-friendly and easier for search engines to crawl.  3. Increase content length: Expand on how \"딥러닝.AI\" is transforming different fields like autonomous driving or language translation to provide more comprehensive information that can attract a wider audience.'}\n",
      "{'reviewer': 'Ethics Specialist', 'review': 'Ensure accuracy and transparency: Provide factual information about the capabilities and limitations of deep learning AI to avoid misleading or exaggerated claims. Highlight ethical considerations: Address ethical implications such as data privacy, algorithm biases, and potential societal impacts of widespread adoption of deep learning AI. Include diverse perspectives: Incorporate viewpoints from experts in the field to present a well-rounded view of the benefits and risks associated with deep learning AI.'}\n"
     ]
    },
    {
     "name": "stdout",
     "output_type": "stream",
     "text": [
      "\n",
      "--------------------------------------------------------------------------------\n",
      "\u001b[33mMeta Reviewer\u001b[0m (to Critic):\n",
      "\n",
      "Aggregated Feedback:\n",
      "1. Both SEO Specialists provided similar feedback on the importance of including relevant keywords, adding subheadings, and increasing content length for better optimization.\n",
      "2. The Ethics Specialist focused on ensuring accuracy, transparency, highlighting ethical considerations, and including diverse perspectives in the content.\n",
      "\n",
      "Final Suggestions:\n",
      "1. Incorporate the relevant keywords suggested by the SEO Specialists strategically throughout the content to improve search engine visibility.\n",
      "2. Utilize subheadings as recommended to make the content more reader-friendly and easier for search engines to crawl.\n",
      "3. Expand on how \"딥러닝.AI\" is transforming different fields while ensuring accuracy and transparency about its capabilities and limitations as suggested by the Ethics Specialist.\n",
      "4. Address ethical implications, ethical considerations, and include diverse perspectives in the content to present a well-rounded view of deep learning AI.\n",
      "\n",
      "Overall, by incorporating the suggestions from both the SEO and Ethics Specialists, the content can be optimized for search engines while maintaining accuracy, transparency, and ethical considerations.\n",
      "\n",
      "--------------------------------------------------------------------------------\n",
      "\u001b[33mCritic\u001b[0m (to Writer):\n",
      "\n",
      "Aggregated Feedback:\n",
      "1. Both SEO Specialists provided similar feedback on the importance of including relevant keywords, adding subheadings, and increasing content length for better optimization.\n",
      "2. The Ethics Specialist focused on ensuring accuracy, transparency, highlighting ethical considerations, and including diverse perspectives in the content.\n",
      "\n",
      "Final Suggestions:\n",
      "1. Incorporate the relevant keywords suggested by the SEO Specialists strategically throughout the content to improve search engine visibility.\n",
      "2. Utilize subheadings as recommended to make the content more reader-friendly and easier for search engines to crawl.\n",
      "3. Expand on how \"딥러닝.AI\" is transforming different fields while ensuring accuracy and transparency about its capabilities and limitations as suggested by the Ethics Specialist.\n",
      "4. Address ethical implications, ethical considerations, and include diverse perspectives in the content to present a well-rounded view of deep learning AI.\n",
      "\n",
      "Overall, by incorporating the suggestions from both the SEO and Ethics Specialists, the content can be optimized for search engines while maintaining accuracy, transparency, and ethical considerations.\n",
      "\n",
      "--------------------------------------------------------------------------------\n",
      "\u001b[33mWriter\u001b[0m (to Critic):\n",
      "\n",
      "**Title: 딥러닝.AI: 미래를 형성하는 혁명적 기술**\n",
      "\n",
      "딥러닝.AI는 현재 인간의 능력을 뛰어넘는 기술로 떠오르고 있습니다. 이 기술은 자율 주행 자동차, 언어 번역, 음성 인식 등 다양한 분야에서 혁신을 이루어내며 미래 사회를 변화시키고 있습니다. 딥러닝.AI의 발전 과정과 현재 어떻게 다양한 분야에서 활용되고 있는지 자세히 알아보겠습니다. 또한, 이 기술이 가진 잠재적 윤리적 문제와 한계에 대해 투명하게 고찰하며, 다양한 시각을 종합하여 다가오는 딥러닝.AI의 세계를 탐험해보겠습니다.\n",
      "\n",
      "--------------------------------------------------------------------------------\n"
     ]
    }
   ],
   "source": [
    "res = critic.initiate_chat(\n",
    "    recipient=writer,\n",
    "    message=task,\n",
    "    max_turns=2,\n",
    "    summary_method=\"last_msg\"\n",
    ")"
   ]
  },
  {
   "cell_type": "markdown",
   "id": "c5c833b0",
   "metadata": {},
   "source": [
    "## Get the summary"
   ]
  },
  {
   "cell_type": "code",
   "execution_count": 20,
   "id": "68ef82ed-f102-4964-b7be-60e2f258a39b",
   "metadata": {
    "height": 30
   },
   "outputs": [
    {
     "name": "stdout",
     "output_type": "stream",
     "text": [
      "**Title: 딥러닝.AI: 미래를 형성하는 혁명적 기술**\n",
      "\n",
      "딥러닝.AI는 현재 인간의 능력을 뛰어넘는 기술로 떠오르고 있습니다. 이 기술은 자율 주행 자동차, 언어 번역, 음성 인식 등 다양한 분야에서 혁신을 이루어내며 미래 사회를 변화시키고 있습니다. 딥러닝.AI의 발전 과정과 현재 어떻게 다양한 분야에서 활용되고 있는지 자세히 알아보겠습니다. 또한, 이 기술이 가진 잠재적 윤리적 문제와 한계에 대해 투명하게 고찰하며, 다양한 시각을 종합하여 다가오는 딥러닝.AI의 세계를 탐험해보겠습니다.\n"
     ]
    }
   ],
   "source": [
    "print(res.summary)"
   ]
  }
 ],
 "metadata": {
  "kernelspec": {
   "display_name": "Python 3 (ipykernel)",
   "language": "python",
   "name": "python3"
  },
  "language_info": {
   "codemirror_mode": {
    "name": "ipython",
    "version": 3
   },
   "file_extension": ".py",
   "mimetype": "text/x-python",
   "name": "python",
   "nbconvert_exporter": "python",
   "pygments_lexer": "ipython3",
   "version": "3.11.9"
  }
 },
 "nbformat": 4,
 "nbformat_minor": 5
}
