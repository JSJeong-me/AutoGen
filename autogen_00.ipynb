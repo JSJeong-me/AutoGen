{
  "nbformat": 4,
  "nbformat_minor": 0,
  "metadata": {
    "colab": {
      "provenance": [],
      "include_colab_link": true
    },
    "kernelspec": {
      "name": "python3",
      "display_name": "Python 3"
    },
    "language_info": {
      "name": "python"
    }
  },
  "cells": [
    {
      "cell_type": "markdown",
      "metadata": {
        "id": "view-in-github",
        "colab_type": "text"
      },
      "source": [
        "<a href=\"https://colab.research.google.com/github/JSJeong-me/AutoGen/blob/main/autogen_00.ipynb\" target=\"_parent\"><img src=\"https://colab.research.google.com/assets/colab-badge.svg\" alt=\"Open In Colab\"/></a>"
      ]
    },
    {
      "cell_type": "code",
      "source": [
        "!wget https://github.com/JSJeong-me/AutoGen/raw/main/requirements.txt"
      ],
      "metadata": {
        "id": "BA21FDZnybng"
      },
      "execution_count": null,
      "outputs": []
    },
    {
      "cell_type": "code",
      "source": [
        "!pip install -r requirements.txt"
      ],
      "metadata": {
        "id": "81IabWnPydRQ"
      },
      "execution_count": null,
      "outputs": []
    },
    {
      "cell_type": "code",
      "execution_count": null,
      "metadata": {
        "id": "lW2PEvjqxqTX"
      },
      "outputs": [],
      "source": [
        "# !pip install autogen"
      ]
    },
    {
      "cell_type": "code",
      "source": [
        "!pip install  python-dotenv"
      ],
      "metadata": {
        "id": "5HdcKWqVyBJO"
      },
      "execution_count": null,
      "outputs": []
    },
    {
      "cell_type": "code",
      "source": [
        "!wget https://github.com/JSJeong-me/GPT-Agent/blob/main/autogen/utils.py"
      ],
      "metadata": {
        "id": "WAkm_lr40qqA"
      },
      "execution_count": null,
      "outputs": []
    },
    {
      "cell_type": "code",
      "source": [
        "!echo \"OPENAI_API_KEY=\" >> .env\n",
        "!source /content/.env"
      ],
      "metadata": {
        "id": "_SzrxgTXx8IH"
      },
      "execution_count": null,
      "outputs": []
    },
    {
      "cell_type": "code",
      "source": [
        "import os\n",
        "from dotenv import load_dotenv\n",
        "\n",
        "# Load environment variables from .env file\n",
        "load_dotenv()\n",
        "# Access the API key using the variable name defined in the .env file\n",
        "api_key = os.getenv(\"OPENAI_API_KEY\")"
      ],
      "metadata": {
        "id": "9qPwwVE5x0L2"
      },
      "execution_count": null,
      "outputs": []
    },
    {
      "cell_type": "code",
      "source": [
        "# from google.colab import userdata\n",
        "# import openai\n",
        "# import os\n",
        "\n",
        "# os.environ[\"OPENAI_API_KEY\"] = userdata.get('OPENAI_API_KEY')\n",
        "# openai.api_key  = os.environ[\"OPENAI_API_KEY\"]"
      ],
      "metadata": {
        "id": "T39KfDNOTF1G"
      },
      "execution_count": 4,
      "outputs": []
    },
    {
      "cell_type": "code",
      "source": [
        "import os\n",
        "\n",
        "from autogen import ConversableAgent\n",
        "\n",
        "agent = ConversableAgent(\n",
        "    \"chatbot\",\n",
        "    llm_config={\"config_list\": [{\"model\": \"gpt-4\", \"api_key\": os.environ.get(\"OPENAI_API_KEY\")}]},\n",
        "    code_execution_config=False,  # Turn off code execution, by default it is off.\n",
        "    function_map=None,  # No registered functions, by default it is None.\n",
        "    human_input_mode=\"NEVER\",  # Never ask for human input.\n",
        ")"
      ],
      "metadata": {
        "colab": {
          "base_uri": "https://localhost:8080/"
        },
        "id": "NRUp2su7xrM_",
        "outputId": "883eea04-4529-42e3-8541-4005ceedf268"
      },
      "execution_count": 5,
      "outputs": [
        {
          "output_type": "stream",
          "name": "stderr",
          "text": [
            "/usr/local/lib/python3.10/dist-packages/dask/dataframe/__init__.py:42: FutureWarning: \n",
            "Dask dataframe query planning is disabled because dask-expr is not installed.\n",
            "\n",
            "You can install it with `pip install dask[dataframe]` or `conda install dask`.\n",
            "This will raise in a future version.\n",
            "\n",
            "  warnings.warn(msg, FutureWarning)\n"
          ]
        }
      ]
    },
    {
      "cell_type": "code",
      "source": [
        "reply = agent.generate_reply(messages=[{\"content\": \"고래를 주제로 재미난 이야기 3줄\", \"role\": \"user\"}])\n",
        "print(reply)"
      ],
      "metadata": {
        "id": "ErrNm9Boxu--",
        "outputId": "330b2a7e-e823-4546-d8ea-7adb898cc162",
        "colab": {
          "base_uri": "https://localhost:8080/"
        }
      },
      "execution_count": 6,
      "outputs": [
        {
          "output_type": "stream",
          "name": "stdout",
          "text": [
            "1. 한번에 가장 큰 소리를 내는 동물, 푸른 고래는 동료들과 통신하기 위해 바다를 가로질러 마일이 넘는 거리로 소리를 전송할 수 있습니다. \n",
            "\n",
            "2. 자그마한 플랑크톤만 먹어도 하루에 몇 톤이나 먹는 것을 떠올려 보세요, 그것이 바로 고래인데, 이는 상상 이상의 양이다.\n",
            "\n",
            "3. 고래는 저기압에서 표면까지 모든 깊이에서 자유롭게 살아갈 수 있다는 점에서, 우리 항공 시스템의 원리를 배운 한 학생이 이에 영감을 받아 고안한 것이 바로 우리가 통용하는 항공 시스템이라는 흥미로운 사실이 있습니다.\n"
          ]
        }
      ]
    }
  ]
}